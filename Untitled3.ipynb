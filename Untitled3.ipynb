{
  "nbformat": 4,
  "nbformat_minor": 0,
  "metadata": {
    "colab": {
      "name": "Untitled3.ipynb",
      "provenance": [],
      "mount_file_id": "https://github.com/sumanhasgal/special-winner/blob/main/Untitled3.ipynb",
      "authorship_tag": "ABX9TyOOSpJjXNYYfNZNMmJpqKI+",
      "include_colab_link": true
    },
    "kernelspec": {
      "name": "python3",
      "display_name": "Python 3"
    },
    "language_info": {
      "name": "python"
    }
  },
  "cells": [
    {
      "cell_type": "markdown",
      "metadata": {
        "id": "view-in-github",
        "colab_type": "text"
      },
      "source": [
        "<a href=\"https://colab.research.google.com/github/sumanhasgal/sumanhasgal/blob/main/Untitled3.ipynb\" target=\"_parent\"><img src=\"https://colab.research.google.com/assets/colab-badge.svg\" alt=\"Open In Colab\"/></a>"
      ]
    },
    {
      "cell_type": "markdown",
      "source": [
        "# **Ted Talk Views**"
      ],
      "metadata": {
        "id": "H3rOxf7R8D54"
      }
    },
    {
      "cell_type": "markdown",
      "source": [
        "TED is devoted to spreading powerful ideas on just about any topic. These datasets contain over\n",
        "4,000 TED talks including transcripts in many languages.\n",
        "Founded in 1984 by Richard Salman as a nonprofit organization\n",
        "that aimed at bringing experts from the fields of Technology, Entertainment, and Design\n",
        "together, TED Conferences have gone on to become the Mecca of ideas from virtually all\n",
        "walks of life. As of 2015, TED and its sister TEDx chapters have published more than 2000\n",
        "talks for free consumption by the masses and its speaker list boasts of the likes of Al Gore,\n",
        "Jimmy Wales, Shahrukh Khan, and Bill Gates.\n",
        "The main objective is to build a predictive model, which could help in predicting the views of\n",
        "the videos uploaded on the TEDx website."
      ],
      "metadata": {
        "id": "tlmXYKdk8Awz"
      }
    },
    {
      "cell_type": "markdown",
      "source": [
        "# **Dataset Information**\n",
        "* Number of instances: 4,005\n",
        "*Number of attributes: 19\n",
        "*Features information:\n",
        "*The dataset contains features like:\n",
        "*talk_id: Talk identification number provided by TED\n",
        "*title: Title of the talk\n",
        "*speaker_1: First speaker in TED's speaker list\n",
        "*all_speakers: Speakers in the talk\n",
        "*occupations: Occupations of the speakers\n",
        "*about_speakers: Blurb about each speaker\n",
        "*recorded_date: Date the talk was recorded\n",
        "*published_date: Date the talk was published to TED.com\n",
        "*event: Event or medium in which the talk was given\n",
        "*native_lang: Language the talk was given in\n",
        "*available_lang: All available languages (lang_code) for a talk\n",
        "*comments: Count of comments\n",
        "*duration: Duration in seconds\n",
        "*topics: Related tags or topics for the talk\n",
        "*related_talks: Related talks (key='talk_id',value='title')\n",
        "*url: URL of the talk\n",
        "*description: Description of the talk\n",
        "*transcript: Full transcript of the talk"
      ],
      "metadata": {
        "id": "4cRshMdr5WgY"
      }
    },
    {
      "cell_type": "code",
      "source": [
        "from google.colab import drive\n",
        "drive.mount('/content/drive')"
      ],
      "metadata": {
        "colab": {
          "base_uri": "https://localhost:8080/"
        },
        "id": "uiasC508n5Km",
        "outputId": "0bb0c275-acfe-4da5-8af3-6b205df9ca48"
      },
      "execution_count": 108,
      "outputs": [
        {
          "output_type": "stream",
          "name": "stdout",
          "text": [
            "Drive already mounted at /content/drive; to attempt to forcibly remount, call drive.mount(\"/content/drive\", force_remount=True).\n"
          ]
        }
      ]
    },
    {
      "cell_type": "code",
      "execution_count": 109,
      "metadata": {
        "id": "rgDDXo157-RG"
      },
      "outputs": [],
      "source": [
        "#let's import the modules\n",
        "import pandas as pd\n",
        "import numpy as np\n",
        "import matplotlib.pyplot as plt\n",
        "%matplotlib inline\n",
        "import seaborn as sns\n",
        "\n",
        "from datetime import datetime\n",
        "import datetime as dt\n",
        "import time\n",
        "\n",
        "from sklearn.preprocessing import MinMaxScaler\n",
        "from sklearn.preprocessing import OneHotEncoder\n",
        "from sklearn.preprocessing import MultiLabelBinarizer\n",
        "\n",
        "from sklearn.linear_model import LinearRegression\n",
        "from sklearn.linear_model import Lasso\n",
        "from sklearn.linear_model import Ridge\n",
        "from sklearn.linear_model import ElasticNet\n",
        "from sklearn.tree import DecisionTreeRegressor\n",
        "from sklearn.ensemble import RandomForestRegressor\n",
        "from sklearn.ensemble import GradientBoostingRegressor\n",
        "\n",
        "from sklearn.model_selection import cross_validate\n",
        "from sklearn.model_selection import train_test_split\n",
        "from sklearn.model_selection import GridSearchCV\n",
        "from sklearn.model_selection import cross_val_score\n",
        "from sklearn.model_selection import RepeatedStratifiedKFold\n",
        "from sklearn.model_selection import RandomizedSearchCV\n",
        "\n",
        "from sklearn import metrics\n",
        "from sklearn.metrics import r2_score\n",
        "from sklearn.metrics import mean_squared_error\n",
        "from sklearn.metrics import accuracy_score\n",
        "from sklearn.metrics import mean_absolute_error\n",
        "from sklearn.metrics import log_loss\n",
        "\n",
        "import warnings\n",
        "warnings.filterwarnings('ignore')"
      ]
    },
    {
      "cell_type": "code",
      "source": [
        "df = pd.read_csv('/content/drive/MyDrive/Regression capstone/Ted Talk Views Prediction/data_ted_talks.csv')"
      ],
      "metadata": {
        "id": "qxpWhfEU8dPJ"
      },
      "execution_count": 110,
      "outputs": []
    },
    {
      "cell_type": "code",
      "source": [
        "df.head()"
      ],
      "metadata": {
        "colab": {
          "base_uri": "https://localhost:8080/",
          "height": 635
        },
        "id": "ABOjWWBv8s63",
        "outputId": "058aed0e-9f45-4be5-c7bb-18aec63aad4e"
      },
      "execution_count": 111,
      "outputs": [
        {
          "output_type": "execute_result",
          "data": {
            "text/plain": [
              "   talk_id                            title         speaker_1  \\\n",
              "0        1      Averting the climate crisis           Al Gore   \n",
              "1       92  The best stats you've ever seen      Hans Rosling   \n",
              "2        7                 Simplicity sells       David Pogue   \n",
              "3       53              Greening the ghetto     Majora Carter   \n",
              "4       66      Do schools kill creativity?  Sir Ken Robinson   \n",
              "\n",
              "              all_speakers                                    occupations  \\\n",
              "0           {0: 'Al Gore'}                      {0: ['climate advocate']}   \n",
              "1      {0: 'Hans Rosling'}  {0: ['global health expert; data visionary']}   \n",
              "2       {0: 'David Pogue'}                  {0: ['technology columnist']}   \n",
              "3     {0: 'Majora Carter'}    {0: ['activist for environmental justice']}   \n",
              "4  {0: 'Sir Ken Robinson'}                    {0: ['author', 'educator']}   \n",
              "\n",
              "                                      about_speakers     views recorded_date  \\\n",
              "0  {0: 'Nobel Laureate Al Gore focused the world’...   3523392    2006-02-25   \n",
              "1  {0: 'In Hans Rosling’s hands, data sings. Glob...  14501685    2006-02-22   \n",
              "2  {0: 'David Pogue is the personal technology co...   1920832    2006-02-24   \n",
              "3  {0: 'Majora Carter redefined the field of envi...   2664069    2006-02-26   \n",
              "4  {0: \"Creativity expert Sir Ken Robinson challe...  65051954    2006-02-25   \n",
              "\n",
              "  published_date    event native_lang  \\\n",
              "0     2006-06-27  TED2006          en   \n",
              "1     2006-06-27  TED2006          en   \n",
              "2     2006-06-27  TED2006          en   \n",
              "3     2006-06-27  TED2006          en   \n",
              "4     2006-06-27  TED2006          en   \n",
              "\n",
              "                                      available_lang  comments  duration  \\\n",
              "0  ['ar', 'bg', 'cs', 'de', 'el', 'en', 'es', 'fa...     272.0       977   \n",
              "1  ['ar', 'az', 'bg', 'bn', 'bs', 'cs', 'da', 'de...     628.0      1190   \n",
              "2  ['ar', 'bg', 'de', 'el', 'en', 'es', 'fa', 'fr...     124.0      1286   \n",
              "3  ['ar', 'bg', 'bn', 'ca', 'cs', 'de', 'en', 'es...     219.0      1116   \n",
              "4  ['af', 'ar', 'az', 'be', 'bg', 'bn', 'ca', 'cs...    4931.0      1164   \n",
              "\n",
              "                                              topics  \\\n",
              "0  ['alternative energy', 'cars', 'climate change...   \n",
              "1  ['Africa', 'Asia', 'Google', 'demo', 'economic...   \n",
              "2  ['computers', 'entertainment', 'interface desi...   \n",
              "3  ['MacArthur grant', 'activism', 'business', 'c...   \n",
              "4  ['children', 'creativity', 'culture', 'dance',...   \n",
              "\n",
              "                                       related_talks  \\\n",
              "0  {243: 'New thinking on the climate crisis', 54...   \n",
              "1  {2056: \"Own your body's data\", 2296: 'A visual...   \n",
              "2  {1725: '10 top time-saving tech tips', 2274: '...   \n",
              "3  {1041: '3 stories of local eco-entrepreneurshi...   \n",
              "4  {865: 'Bring on the learning revolution!', 173...   \n",
              "\n",
              "                                                 url  \\\n",
              "0  https://www.ted.com/talks/al_gore_averting_the...   \n",
              "1  https://www.ted.com/talks/hans_rosling_the_bes...   \n",
              "2  https://www.ted.com/talks/david_pogue_simplici...   \n",
              "3  https://www.ted.com/talks/majora_carter_greeni...   \n",
              "4  https://www.ted.com/talks/sir_ken_robinson_do_...   \n",
              "\n",
              "                                         description  \\\n",
              "0  With the same humor and humanity he exuded in ...   \n",
              "1  You've never seen data presented like this. Wi...   \n",
              "2  New York Times columnist David Pogue takes aim...   \n",
              "3  In an emotionally charged talk, MacArthur-winn...   \n",
              "4  Sir Ken Robinson makes an entertaining and pro...   \n",
              "\n",
              "                                          transcript  \n",
              "0  Thank you so much, Chris. And it's truly a gre...  \n",
              "1  About 10 years ago, I took on the task to teac...  \n",
              "2  (Music: \"The Sound of Silence,\" Simon & Garfun...  \n",
              "3  If you're here today — and I'm very happy that...  \n",
              "4  Good morning. How are you? (Audience) Good. It...  "
            ],
            "text/html": [
              "\n",
              "  <div id=\"df-2957478d-899b-4067-8e17-d9ba6a982b63\">\n",
              "    <div class=\"colab-df-container\">\n",
              "      <div>\n",
              "<style scoped>\n",
              "    .dataframe tbody tr th:only-of-type {\n",
              "        vertical-align: middle;\n",
              "    }\n",
              "\n",
              "    .dataframe tbody tr th {\n",
              "        vertical-align: top;\n",
              "    }\n",
              "\n",
              "    .dataframe thead th {\n",
              "        text-align: right;\n",
              "    }\n",
              "</style>\n",
              "<table border=\"1\" class=\"dataframe\">\n",
              "  <thead>\n",
              "    <tr style=\"text-align: right;\">\n",
              "      <th></th>\n",
              "      <th>talk_id</th>\n",
              "      <th>title</th>\n",
              "      <th>speaker_1</th>\n",
              "      <th>all_speakers</th>\n",
              "      <th>occupations</th>\n",
              "      <th>about_speakers</th>\n",
              "      <th>views</th>\n",
              "      <th>recorded_date</th>\n",
              "      <th>published_date</th>\n",
              "      <th>event</th>\n",
              "      <th>native_lang</th>\n",
              "      <th>available_lang</th>\n",
              "      <th>comments</th>\n",
              "      <th>duration</th>\n",
              "      <th>topics</th>\n",
              "      <th>related_talks</th>\n",
              "      <th>url</th>\n",
              "      <th>description</th>\n",
              "      <th>transcript</th>\n",
              "    </tr>\n",
              "  </thead>\n",
              "  <tbody>\n",
              "    <tr>\n",
              "      <th>0</th>\n",
              "      <td>1</td>\n",
              "      <td>Averting the climate crisis</td>\n",
              "      <td>Al Gore</td>\n",
              "      <td>{0: 'Al Gore'}</td>\n",
              "      <td>{0: ['climate advocate']}</td>\n",
              "      <td>{0: 'Nobel Laureate Al Gore focused the world’...</td>\n",
              "      <td>3523392</td>\n",
              "      <td>2006-02-25</td>\n",
              "      <td>2006-06-27</td>\n",
              "      <td>TED2006</td>\n",
              "      <td>en</td>\n",
              "      <td>['ar', 'bg', 'cs', 'de', 'el', 'en', 'es', 'fa...</td>\n",
              "      <td>272.0</td>\n",
              "      <td>977</td>\n",
              "      <td>['alternative energy', 'cars', 'climate change...</td>\n",
              "      <td>{243: 'New thinking on the climate crisis', 54...</td>\n",
              "      <td>https://www.ted.com/talks/al_gore_averting_the...</td>\n",
              "      <td>With the same humor and humanity he exuded in ...</td>\n",
              "      <td>Thank you so much, Chris. And it's truly a gre...</td>\n",
              "    </tr>\n",
              "    <tr>\n",
              "      <th>1</th>\n",
              "      <td>92</td>\n",
              "      <td>The best stats you've ever seen</td>\n",
              "      <td>Hans Rosling</td>\n",
              "      <td>{0: 'Hans Rosling'}</td>\n",
              "      <td>{0: ['global health expert; data visionary']}</td>\n",
              "      <td>{0: 'In Hans Rosling’s hands, data sings. Glob...</td>\n",
              "      <td>14501685</td>\n",
              "      <td>2006-02-22</td>\n",
              "      <td>2006-06-27</td>\n",
              "      <td>TED2006</td>\n",
              "      <td>en</td>\n",
              "      <td>['ar', 'az', 'bg', 'bn', 'bs', 'cs', 'da', 'de...</td>\n",
              "      <td>628.0</td>\n",
              "      <td>1190</td>\n",
              "      <td>['Africa', 'Asia', 'Google', 'demo', 'economic...</td>\n",
              "      <td>{2056: \"Own your body's data\", 2296: 'A visual...</td>\n",
              "      <td>https://www.ted.com/talks/hans_rosling_the_bes...</td>\n",
              "      <td>You've never seen data presented like this. Wi...</td>\n",
              "      <td>About 10 years ago, I took on the task to teac...</td>\n",
              "    </tr>\n",
              "    <tr>\n",
              "      <th>2</th>\n",
              "      <td>7</td>\n",
              "      <td>Simplicity sells</td>\n",
              "      <td>David Pogue</td>\n",
              "      <td>{0: 'David Pogue'}</td>\n",
              "      <td>{0: ['technology columnist']}</td>\n",
              "      <td>{0: 'David Pogue is the personal technology co...</td>\n",
              "      <td>1920832</td>\n",
              "      <td>2006-02-24</td>\n",
              "      <td>2006-06-27</td>\n",
              "      <td>TED2006</td>\n",
              "      <td>en</td>\n",
              "      <td>['ar', 'bg', 'de', 'el', 'en', 'es', 'fa', 'fr...</td>\n",
              "      <td>124.0</td>\n",
              "      <td>1286</td>\n",
              "      <td>['computers', 'entertainment', 'interface desi...</td>\n",
              "      <td>{1725: '10 top time-saving tech tips', 2274: '...</td>\n",
              "      <td>https://www.ted.com/talks/david_pogue_simplici...</td>\n",
              "      <td>New York Times columnist David Pogue takes aim...</td>\n",
              "      <td>(Music: \"The Sound of Silence,\" Simon &amp; Garfun...</td>\n",
              "    </tr>\n",
              "    <tr>\n",
              "      <th>3</th>\n",
              "      <td>53</td>\n",
              "      <td>Greening the ghetto</td>\n",
              "      <td>Majora Carter</td>\n",
              "      <td>{0: 'Majora Carter'}</td>\n",
              "      <td>{0: ['activist for environmental justice']}</td>\n",
              "      <td>{0: 'Majora Carter redefined the field of envi...</td>\n",
              "      <td>2664069</td>\n",
              "      <td>2006-02-26</td>\n",
              "      <td>2006-06-27</td>\n",
              "      <td>TED2006</td>\n",
              "      <td>en</td>\n",
              "      <td>['ar', 'bg', 'bn', 'ca', 'cs', 'de', 'en', 'es...</td>\n",
              "      <td>219.0</td>\n",
              "      <td>1116</td>\n",
              "      <td>['MacArthur grant', 'activism', 'business', 'c...</td>\n",
              "      <td>{1041: '3 stories of local eco-entrepreneurshi...</td>\n",
              "      <td>https://www.ted.com/talks/majora_carter_greeni...</td>\n",
              "      <td>In an emotionally charged talk, MacArthur-winn...</td>\n",
              "      <td>If you're here today — and I'm very happy that...</td>\n",
              "    </tr>\n",
              "    <tr>\n",
              "      <th>4</th>\n",
              "      <td>66</td>\n",
              "      <td>Do schools kill creativity?</td>\n",
              "      <td>Sir Ken Robinson</td>\n",
              "      <td>{0: 'Sir Ken Robinson'}</td>\n",
              "      <td>{0: ['author', 'educator']}</td>\n",
              "      <td>{0: \"Creativity expert Sir Ken Robinson challe...</td>\n",
              "      <td>65051954</td>\n",
              "      <td>2006-02-25</td>\n",
              "      <td>2006-06-27</td>\n",
              "      <td>TED2006</td>\n",
              "      <td>en</td>\n",
              "      <td>['af', 'ar', 'az', 'be', 'bg', 'bn', 'ca', 'cs...</td>\n",
              "      <td>4931.0</td>\n",
              "      <td>1164</td>\n",
              "      <td>['children', 'creativity', 'culture', 'dance',...</td>\n",
              "      <td>{865: 'Bring on the learning revolution!', 173...</td>\n",
              "      <td>https://www.ted.com/talks/sir_ken_robinson_do_...</td>\n",
              "      <td>Sir Ken Robinson makes an entertaining and pro...</td>\n",
              "      <td>Good morning. How are you? (Audience) Good. It...</td>\n",
              "    </tr>\n",
              "  </tbody>\n",
              "</table>\n",
              "</div>\n",
              "      <button class=\"colab-df-convert\" onclick=\"convertToInteractive('df-2957478d-899b-4067-8e17-d9ba6a982b63')\"\n",
              "              title=\"Convert this dataframe to an interactive table.\"\n",
              "              style=\"display:none;\">\n",
              "        \n",
              "  <svg xmlns=\"http://www.w3.org/2000/svg\" height=\"24px\"viewBox=\"0 0 24 24\"\n",
              "       width=\"24px\">\n",
              "    <path d=\"M0 0h24v24H0V0z\" fill=\"none\"/>\n",
              "    <path d=\"M18.56 5.44l.94 2.06.94-2.06 2.06-.94-2.06-.94-.94-2.06-.94 2.06-2.06.94zm-11 1L8.5 8.5l.94-2.06 2.06-.94-2.06-.94L8.5 2.5l-.94 2.06-2.06.94zm10 10l.94 2.06.94-2.06 2.06-.94-2.06-.94-.94-2.06-.94 2.06-2.06.94z\"/><path d=\"M17.41 7.96l-1.37-1.37c-.4-.4-.92-.59-1.43-.59-.52 0-1.04.2-1.43.59L10.3 9.45l-7.72 7.72c-.78.78-.78 2.05 0 2.83L4 21.41c.39.39.9.59 1.41.59.51 0 1.02-.2 1.41-.59l7.78-7.78 2.81-2.81c.8-.78.8-2.07 0-2.86zM5.41 20L4 18.59l7.72-7.72 1.47 1.35L5.41 20z\"/>\n",
              "  </svg>\n",
              "      </button>\n",
              "      \n",
              "  <style>\n",
              "    .colab-df-container {\n",
              "      display:flex;\n",
              "      flex-wrap:wrap;\n",
              "      gap: 12px;\n",
              "    }\n",
              "\n",
              "    .colab-df-convert {\n",
              "      background-color: #E8F0FE;\n",
              "      border: none;\n",
              "      border-radius: 50%;\n",
              "      cursor: pointer;\n",
              "      display: none;\n",
              "      fill: #1967D2;\n",
              "      height: 32px;\n",
              "      padding: 0 0 0 0;\n",
              "      width: 32px;\n",
              "    }\n",
              "\n",
              "    .colab-df-convert:hover {\n",
              "      background-color: #E2EBFA;\n",
              "      box-shadow: 0px 1px 2px rgba(60, 64, 67, 0.3), 0px 1px 3px 1px rgba(60, 64, 67, 0.15);\n",
              "      fill: #174EA6;\n",
              "    }\n",
              "\n",
              "    [theme=dark] .colab-df-convert {\n",
              "      background-color: #3B4455;\n",
              "      fill: #D2E3FC;\n",
              "    }\n",
              "\n",
              "    [theme=dark] .colab-df-convert:hover {\n",
              "      background-color: #434B5C;\n",
              "      box-shadow: 0px 1px 3px 1px rgba(0, 0, 0, 0.15);\n",
              "      filter: drop-shadow(0px 1px 2px rgba(0, 0, 0, 0.3));\n",
              "      fill: #FFFFFF;\n",
              "    }\n",
              "  </style>\n",
              "\n",
              "      <script>\n",
              "        const buttonEl =\n",
              "          document.querySelector('#df-2957478d-899b-4067-8e17-d9ba6a982b63 button.colab-df-convert');\n",
              "        buttonEl.style.display =\n",
              "          google.colab.kernel.accessAllowed ? 'block' : 'none';\n",
              "\n",
              "        async function convertToInteractive(key) {\n",
              "          const element = document.querySelector('#df-2957478d-899b-4067-8e17-d9ba6a982b63');\n",
              "          const dataTable =\n",
              "            await google.colab.kernel.invokeFunction('convertToInteractive',\n",
              "                                                     [key], {});\n",
              "          if (!dataTable) return;\n",
              "\n",
              "          const docLinkHtml = 'Like what you see? Visit the ' +\n",
              "            '<a target=\"_blank\" href=https://colab.research.google.com/notebooks/data_table.ipynb>data table notebook</a>'\n",
              "            + ' to learn more about interactive tables.';\n",
              "          element.innerHTML = '';\n",
              "          dataTable['output_type'] = 'display_data';\n",
              "          await google.colab.output.renderOutput(dataTable, element);\n",
              "          const docLink = document.createElement('div');\n",
              "          docLink.innerHTML = docLinkHtml;\n",
              "          element.appendChild(docLink);\n",
              "        }\n",
              "      </script>\n",
              "    </div>\n",
              "  </div>\n",
              "  "
            ]
          },
          "metadata": {},
          "execution_count": 111
        }
      ]
    },
    {
      "cell_type": "code",
      "source": [
        "df.shape"
      ],
      "metadata": {
        "colab": {
          "base_uri": "https://localhost:8080/"
        },
        "id": "2WBrdzBF8wx6",
        "outputId": "bd15c5d8-d80d-40db-bf2b-23283f8a7517"
      },
      "execution_count": 112,
      "outputs": [
        {
          "output_type": "execute_result",
          "data": {
            "text/plain": [
              "(4005, 19)"
            ]
          },
          "metadata": {},
          "execution_count": 112
        }
      ]
    },
    {
      "cell_type": "code",
      "source": [
        "df.describe()"
      ],
      "metadata": {
        "colab": {
          "base_uri": "https://localhost:8080/",
          "height": 300
        },
        "id": "KnBP3UPr87tR",
        "outputId": "7e61170c-c15a-44e1-e685-6049923a55cc"
      },
      "execution_count": 113,
      "outputs": [
        {
          "output_type": "execute_result",
          "data": {
            "text/plain": [
              "            talk_id         views     comments     duration\n",
              "count   4005.000000  4.005000e+03  3350.000000  4005.000000\n",
              "mean   12432.538327  2.148006e+06   161.997015   724.011236\n",
              "std    17447.576262  3.451226e+06   268.838922   361.775462\n",
              "min        1.000000  0.000000e+00     0.000000    60.000000\n",
              "25%     1252.000000  8.820690e+05    38.000000   393.000000\n",
              "50%     2333.000000  1.375508e+06    89.000000   738.000000\n",
              "75%    23777.000000  2.133110e+06   188.000000   974.000000\n",
              "max    62794.000000  6.505195e+07  6449.000000  3922.000000"
            ],
            "text/html": [
              "\n",
              "  <div id=\"df-7ec14be7-923a-4762-8358-df996c37ad31\">\n",
              "    <div class=\"colab-df-container\">\n",
              "      <div>\n",
              "<style scoped>\n",
              "    .dataframe tbody tr th:only-of-type {\n",
              "        vertical-align: middle;\n",
              "    }\n",
              "\n",
              "    .dataframe tbody tr th {\n",
              "        vertical-align: top;\n",
              "    }\n",
              "\n",
              "    .dataframe thead th {\n",
              "        text-align: right;\n",
              "    }\n",
              "</style>\n",
              "<table border=\"1\" class=\"dataframe\">\n",
              "  <thead>\n",
              "    <tr style=\"text-align: right;\">\n",
              "      <th></th>\n",
              "      <th>talk_id</th>\n",
              "      <th>views</th>\n",
              "      <th>comments</th>\n",
              "      <th>duration</th>\n",
              "    </tr>\n",
              "  </thead>\n",
              "  <tbody>\n",
              "    <tr>\n",
              "      <th>count</th>\n",
              "      <td>4005.000000</td>\n",
              "      <td>4.005000e+03</td>\n",
              "      <td>3350.000000</td>\n",
              "      <td>4005.000000</td>\n",
              "    </tr>\n",
              "    <tr>\n",
              "      <th>mean</th>\n",
              "      <td>12432.538327</td>\n",
              "      <td>2.148006e+06</td>\n",
              "      <td>161.997015</td>\n",
              "      <td>724.011236</td>\n",
              "    </tr>\n",
              "    <tr>\n",
              "      <th>std</th>\n",
              "      <td>17447.576262</td>\n",
              "      <td>3.451226e+06</td>\n",
              "      <td>268.838922</td>\n",
              "      <td>361.775462</td>\n",
              "    </tr>\n",
              "    <tr>\n",
              "      <th>min</th>\n",
              "      <td>1.000000</td>\n",
              "      <td>0.000000e+00</td>\n",
              "      <td>0.000000</td>\n",
              "      <td>60.000000</td>\n",
              "    </tr>\n",
              "    <tr>\n",
              "      <th>25%</th>\n",
              "      <td>1252.000000</td>\n",
              "      <td>8.820690e+05</td>\n",
              "      <td>38.000000</td>\n",
              "      <td>393.000000</td>\n",
              "    </tr>\n",
              "    <tr>\n",
              "      <th>50%</th>\n",
              "      <td>2333.000000</td>\n",
              "      <td>1.375508e+06</td>\n",
              "      <td>89.000000</td>\n",
              "      <td>738.000000</td>\n",
              "    </tr>\n",
              "    <tr>\n",
              "      <th>75%</th>\n",
              "      <td>23777.000000</td>\n",
              "      <td>2.133110e+06</td>\n",
              "      <td>188.000000</td>\n",
              "      <td>974.000000</td>\n",
              "    </tr>\n",
              "    <tr>\n",
              "      <th>max</th>\n",
              "      <td>62794.000000</td>\n",
              "      <td>6.505195e+07</td>\n",
              "      <td>6449.000000</td>\n",
              "      <td>3922.000000</td>\n",
              "    </tr>\n",
              "  </tbody>\n",
              "</table>\n",
              "</div>\n",
              "      <button class=\"colab-df-convert\" onclick=\"convertToInteractive('df-7ec14be7-923a-4762-8358-df996c37ad31')\"\n",
              "              title=\"Convert this dataframe to an interactive table.\"\n",
              "              style=\"display:none;\">\n",
              "        \n",
              "  <svg xmlns=\"http://www.w3.org/2000/svg\" height=\"24px\"viewBox=\"0 0 24 24\"\n",
              "       width=\"24px\">\n",
              "    <path d=\"M0 0h24v24H0V0z\" fill=\"none\"/>\n",
              "    <path d=\"M18.56 5.44l.94 2.06.94-2.06 2.06-.94-2.06-.94-.94-2.06-.94 2.06-2.06.94zm-11 1L8.5 8.5l.94-2.06 2.06-.94-2.06-.94L8.5 2.5l-.94 2.06-2.06.94zm10 10l.94 2.06.94-2.06 2.06-.94-2.06-.94-.94-2.06-.94 2.06-2.06.94z\"/><path d=\"M17.41 7.96l-1.37-1.37c-.4-.4-.92-.59-1.43-.59-.52 0-1.04.2-1.43.59L10.3 9.45l-7.72 7.72c-.78.78-.78 2.05 0 2.83L4 21.41c.39.39.9.59 1.41.59.51 0 1.02-.2 1.41-.59l7.78-7.78 2.81-2.81c.8-.78.8-2.07 0-2.86zM5.41 20L4 18.59l7.72-7.72 1.47 1.35L5.41 20z\"/>\n",
              "  </svg>\n",
              "      </button>\n",
              "      \n",
              "  <style>\n",
              "    .colab-df-container {\n",
              "      display:flex;\n",
              "      flex-wrap:wrap;\n",
              "      gap: 12px;\n",
              "    }\n",
              "\n",
              "    .colab-df-convert {\n",
              "      background-color: #E8F0FE;\n",
              "      border: none;\n",
              "      border-radius: 50%;\n",
              "      cursor: pointer;\n",
              "      display: none;\n",
              "      fill: #1967D2;\n",
              "      height: 32px;\n",
              "      padding: 0 0 0 0;\n",
              "      width: 32px;\n",
              "    }\n",
              "\n",
              "    .colab-df-convert:hover {\n",
              "      background-color: #E2EBFA;\n",
              "      box-shadow: 0px 1px 2px rgba(60, 64, 67, 0.3), 0px 1px 3px 1px rgba(60, 64, 67, 0.15);\n",
              "      fill: #174EA6;\n",
              "    }\n",
              "\n",
              "    [theme=dark] .colab-df-convert {\n",
              "      background-color: #3B4455;\n",
              "      fill: #D2E3FC;\n",
              "    }\n",
              "\n",
              "    [theme=dark] .colab-df-convert:hover {\n",
              "      background-color: #434B5C;\n",
              "      box-shadow: 0px 1px 3px 1px rgba(0, 0, 0, 0.15);\n",
              "      filter: drop-shadow(0px 1px 2px rgba(0, 0, 0, 0.3));\n",
              "      fill: #FFFFFF;\n",
              "    }\n",
              "  </style>\n",
              "\n",
              "      <script>\n",
              "        const buttonEl =\n",
              "          document.querySelector('#df-7ec14be7-923a-4762-8358-df996c37ad31 button.colab-df-convert');\n",
              "        buttonEl.style.display =\n",
              "          google.colab.kernel.accessAllowed ? 'block' : 'none';\n",
              "\n",
              "        async function convertToInteractive(key) {\n",
              "          const element = document.querySelector('#df-7ec14be7-923a-4762-8358-df996c37ad31');\n",
              "          const dataTable =\n",
              "            await google.colab.kernel.invokeFunction('convertToInteractive',\n",
              "                                                     [key], {});\n",
              "          if (!dataTable) return;\n",
              "\n",
              "          const docLinkHtml = 'Like what you see? Visit the ' +\n",
              "            '<a target=\"_blank\" href=https://colab.research.google.com/notebooks/data_table.ipynb>data table notebook</a>'\n",
              "            + ' to learn more about interactive tables.';\n",
              "          element.innerHTML = '';\n",
              "          dataTable['output_type'] = 'display_data';\n",
              "          await google.colab.output.renderOutput(dataTable, element);\n",
              "          const docLink = document.createElement('div');\n",
              "          docLink.innerHTML = docLinkHtml;\n",
              "          element.appendChild(docLink);\n",
              "        }\n",
              "      </script>\n",
              "    </div>\n",
              "  </div>\n",
              "  "
            ]
          },
          "metadata": {},
          "execution_count": 113
        }
      ]
    },
    {
      "cell_type": "code",
      "source": [
        "df.tail()"
      ],
      "metadata": {
        "colab": {
          "base_uri": "https://localhost:8080/",
          "height": 652
        },
        "id": "_k7H_Nef9CQL",
        "outputId": "467d30ff-20ce-413c-deb9-663675056168"
      },
      "execution_count": 114,
      "outputs": [
        {
          "output_type": "execute_result",
          "data": {
            "text/plain": [
              "      talk_id                                             title  \\\n",
              "4000    62678       Crisis support for the world, one text away   \n",
              "4001    62782                      The dark history of IQ tests   \n",
              "4002    62263  How \"policing for profit\" undermines your rights   \n",
              "4003    62784      The electrifying speeches of Sojourner Truth   \n",
              "4004    62794              The most important anus in the ocean   \n",
              "\n",
              "                 speaker_1                 all_speakers  \\\n",
              "4000          Nancy Lublin          {0: 'Nancy Lublin'}   \n",
              "4001   Stefan C Dombrowski   {0: 'Stefan C Dombrowski'}   \n",
              "4002  Dick M. Carpenter II  {0: 'Dick M. Carpenter II'}   \n",
              "4003     Daina Ramey Berry     {0: 'Daina Ramey Berry'}   \n",
              "4004          Cella Wright          {0: 'Cella Wright'}   \n",
              "\n",
              "                   occupations  \\\n",
              "4000  {0: ['health activist']}   \n",
              "4001                       NaN   \n",
              "4002   {0: ['law researcher']}   \n",
              "4003                       NaN   \n",
              "4004                       NaN   \n",
              "\n",
              "                                         about_speakers   views recorded_date  \\\n",
              "4000  {0: 'Nancy Lublin, cofounder and CEO of Crisis...  502934    2020-04-22   \n",
              "4001                                                NaN  307187    2020-04-27   \n",
              "4002  {0: 'Dick M. Carpenter II studies cutting edge...  464414    2019-06-22   \n",
              "4003                                                NaN   56582    2020-04-28   \n",
              "4004                                                NaN       0    2020-04-30   \n",
              "\n",
              "     published_date                 event native_lang  \\\n",
              "4000     2020-04-27  TED2020: The Prequel          en   \n",
              "4001     2020-04-27                TED-Ed          en   \n",
              "4002     2020-04-28          TEDxMileHigh          en   \n",
              "4003     2020-04-30                TED-Ed          en   \n",
              "4004     2020-04-30                TED-Ed          en   \n",
              "\n",
              "                   available_lang  comments  duration  \\\n",
              "4000                       ['en']       6.0       690   \n",
              "4001  ['en', 'es', 'my', 'pt-br']       NaN       346   \n",
              "4002                       ['en']       9.0       774   \n",
              "4003                       ['en']       NaN       257   \n",
              "4004                       ['en']       NaN       281   \n",
              "\n",
              "                                                 topics  \\\n",
              "4000  ['activism', 'data', 'technology', 'mental hea...   \n",
              "4001  ['TED-Ed', 'education', 'history', 'animation'...   \n",
              "4002  ['society', 'law', 'policy', 'justice system',...   \n",
              "4003  ['TED-Ed', 'education', 'animation', 'United S...   \n",
              "4004  ['animals', 'TED-Ed', 'animation', 'oceans', '...   \n",
              "\n",
              "                                          related_talks  \\\n",
              "4000  {2362: 'How data from a crisis text line is sa...   \n",
              "4001  {35386: 'How does the Rorschach inkblot test w...   \n",
              "4002  {2406: 'I love being a police officer, but we ...   \n",
              "4003  {20973: 'The breathtaking courage of Harriet T...   \n",
              "4004  {62347: 'The bug that poops candy', 29159: 'In...   \n",
              "\n",
              "                                                    url  \\\n",
              "4000  https://www.ted.com/talks/nancy_lublin_crisis_...   \n",
              "4001  https://www.ted.com/talks/stefan_c_dombrowski_...   \n",
              "4002  https://www.ted.com/talks/dick_m_carpenter_ii_...   \n",
              "4003  https://www.ted.com/talks/daina_ramey_berry_th...   \n",
              "4004  https://www.ted.com/talks/cella_wright_the_mos...   \n",
              "\n",
              "                                            description  \\\n",
              "4000  What if we could help people in crisis anytime...   \n",
              "4001  In 1905, psychologists Alfred Binet and Théodo...   \n",
              "4002  Many countries have an active, centuries-old l...   \n",
              "4003  Isabella Baumfree was born into slavery in lat...   \n",
              "4004  Is it a fuzzy sock? An overripe banana? A mold...   \n",
              "\n",
              "                                             transcript  \n",
              "4000  \"I'm 14, and I want to go home.\" \"My name is B...  \n",
              "4001  In 1905, psychologists Alfred Binet and Théodo...  \n",
              "4002  Picture yourself driving down the road tomorro...  \n",
              "4003  In early 1828, Sojourner Truth approached the ...  \n",
              "4004  Can you guess what you’re looking at? Is it a ...  "
            ],
            "text/html": [
              "\n",
              "  <div id=\"df-0404c86f-6fb9-4f43-a433-c133395d9b11\">\n",
              "    <div class=\"colab-df-container\">\n",
              "      <div>\n",
              "<style scoped>\n",
              "    .dataframe tbody tr th:only-of-type {\n",
              "        vertical-align: middle;\n",
              "    }\n",
              "\n",
              "    .dataframe tbody tr th {\n",
              "        vertical-align: top;\n",
              "    }\n",
              "\n",
              "    .dataframe thead th {\n",
              "        text-align: right;\n",
              "    }\n",
              "</style>\n",
              "<table border=\"1\" class=\"dataframe\">\n",
              "  <thead>\n",
              "    <tr style=\"text-align: right;\">\n",
              "      <th></th>\n",
              "      <th>talk_id</th>\n",
              "      <th>title</th>\n",
              "      <th>speaker_1</th>\n",
              "      <th>all_speakers</th>\n",
              "      <th>occupations</th>\n",
              "      <th>about_speakers</th>\n",
              "      <th>views</th>\n",
              "      <th>recorded_date</th>\n",
              "      <th>published_date</th>\n",
              "      <th>event</th>\n",
              "      <th>native_lang</th>\n",
              "      <th>available_lang</th>\n",
              "      <th>comments</th>\n",
              "      <th>duration</th>\n",
              "      <th>topics</th>\n",
              "      <th>related_talks</th>\n",
              "      <th>url</th>\n",
              "      <th>description</th>\n",
              "      <th>transcript</th>\n",
              "    </tr>\n",
              "  </thead>\n",
              "  <tbody>\n",
              "    <tr>\n",
              "      <th>4000</th>\n",
              "      <td>62678</td>\n",
              "      <td>Crisis support for the world, one text away</td>\n",
              "      <td>Nancy Lublin</td>\n",
              "      <td>{0: 'Nancy Lublin'}</td>\n",
              "      <td>{0: ['health activist']}</td>\n",
              "      <td>{0: 'Nancy Lublin, cofounder and CEO of Crisis...</td>\n",
              "      <td>502934</td>\n",
              "      <td>2020-04-22</td>\n",
              "      <td>2020-04-27</td>\n",
              "      <td>TED2020: The Prequel</td>\n",
              "      <td>en</td>\n",
              "      <td>['en']</td>\n",
              "      <td>6.0</td>\n",
              "      <td>690</td>\n",
              "      <td>['activism', 'data', 'technology', 'mental hea...</td>\n",
              "      <td>{2362: 'How data from a crisis text line is sa...</td>\n",
              "      <td>https://www.ted.com/talks/nancy_lublin_crisis_...</td>\n",
              "      <td>What if we could help people in crisis anytime...</td>\n",
              "      <td>\"I'm 14, and I want to go home.\" \"My name is B...</td>\n",
              "    </tr>\n",
              "    <tr>\n",
              "      <th>4001</th>\n",
              "      <td>62782</td>\n",
              "      <td>The dark history of IQ tests</td>\n",
              "      <td>Stefan C Dombrowski</td>\n",
              "      <td>{0: 'Stefan C Dombrowski'}</td>\n",
              "      <td>NaN</td>\n",
              "      <td>NaN</td>\n",
              "      <td>307187</td>\n",
              "      <td>2020-04-27</td>\n",
              "      <td>2020-04-27</td>\n",
              "      <td>TED-Ed</td>\n",
              "      <td>en</td>\n",
              "      <td>['en', 'es', 'my', 'pt-br']</td>\n",
              "      <td>NaN</td>\n",
              "      <td>346</td>\n",
              "      <td>['TED-Ed', 'education', 'history', 'animation'...</td>\n",
              "      <td>{35386: 'How does the Rorschach inkblot test w...</td>\n",
              "      <td>https://www.ted.com/talks/stefan_c_dombrowski_...</td>\n",
              "      <td>In 1905, psychologists Alfred Binet and Théodo...</td>\n",
              "      <td>In 1905, psychologists Alfred Binet and Théodo...</td>\n",
              "    </tr>\n",
              "    <tr>\n",
              "      <th>4002</th>\n",
              "      <td>62263</td>\n",
              "      <td>How \"policing for profit\" undermines your rights</td>\n",
              "      <td>Dick M. Carpenter II</td>\n",
              "      <td>{0: 'Dick M. Carpenter II'}</td>\n",
              "      <td>{0: ['law researcher']}</td>\n",
              "      <td>{0: 'Dick M. Carpenter II studies cutting edge...</td>\n",
              "      <td>464414</td>\n",
              "      <td>2019-06-22</td>\n",
              "      <td>2020-04-28</td>\n",
              "      <td>TEDxMileHigh</td>\n",
              "      <td>en</td>\n",
              "      <td>['en']</td>\n",
              "      <td>9.0</td>\n",
              "      <td>774</td>\n",
              "      <td>['society', 'law', 'policy', 'justice system',...</td>\n",
              "      <td>{2406: 'I love being a police officer, but we ...</td>\n",
              "      <td>https://www.ted.com/talks/dick_m_carpenter_ii_...</td>\n",
              "      <td>Many countries have an active, centuries-old l...</td>\n",
              "      <td>Picture yourself driving down the road tomorro...</td>\n",
              "    </tr>\n",
              "    <tr>\n",
              "      <th>4003</th>\n",
              "      <td>62784</td>\n",
              "      <td>The electrifying speeches of Sojourner Truth</td>\n",
              "      <td>Daina Ramey Berry</td>\n",
              "      <td>{0: 'Daina Ramey Berry'}</td>\n",
              "      <td>NaN</td>\n",
              "      <td>NaN</td>\n",
              "      <td>56582</td>\n",
              "      <td>2020-04-28</td>\n",
              "      <td>2020-04-30</td>\n",
              "      <td>TED-Ed</td>\n",
              "      <td>en</td>\n",
              "      <td>['en']</td>\n",
              "      <td>NaN</td>\n",
              "      <td>257</td>\n",
              "      <td>['TED-Ed', 'education', 'animation', 'United S...</td>\n",
              "      <td>{20973: 'The breathtaking courage of Harriet T...</td>\n",
              "      <td>https://www.ted.com/talks/daina_ramey_berry_th...</td>\n",
              "      <td>Isabella Baumfree was born into slavery in lat...</td>\n",
              "      <td>In early 1828, Sojourner Truth approached the ...</td>\n",
              "    </tr>\n",
              "    <tr>\n",
              "      <th>4004</th>\n",
              "      <td>62794</td>\n",
              "      <td>The most important anus in the ocean</td>\n",
              "      <td>Cella Wright</td>\n",
              "      <td>{0: 'Cella Wright'}</td>\n",
              "      <td>NaN</td>\n",
              "      <td>NaN</td>\n",
              "      <td>0</td>\n",
              "      <td>2020-04-30</td>\n",
              "      <td>2020-04-30</td>\n",
              "      <td>TED-Ed</td>\n",
              "      <td>en</td>\n",
              "      <td>['en']</td>\n",
              "      <td>NaN</td>\n",
              "      <td>281</td>\n",
              "      <td>['animals', 'TED-Ed', 'animation', 'oceans', '...</td>\n",
              "      <td>{62347: 'The bug that poops candy', 29159: 'In...</td>\n",
              "      <td>https://www.ted.com/talks/cella_wright_the_mos...</td>\n",
              "      <td>Is it a fuzzy sock? An overripe banana? A mold...</td>\n",
              "      <td>Can you guess what you’re looking at? Is it a ...</td>\n",
              "    </tr>\n",
              "  </tbody>\n",
              "</table>\n",
              "</div>\n",
              "      <button class=\"colab-df-convert\" onclick=\"convertToInteractive('df-0404c86f-6fb9-4f43-a433-c133395d9b11')\"\n",
              "              title=\"Convert this dataframe to an interactive table.\"\n",
              "              style=\"display:none;\">\n",
              "        \n",
              "  <svg xmlns=\"http://www.w3.org/2000/svg\" height=\"24px\"viewBox=\"0 0 24 24\"\n",
              "       width=\"24px\">\n",
              "    <path d=\"M0 0h24v24H0V0z\" fill=\"none\"/>\n",
              "    <path d=\"M18.56 5.44l.94 2.06.94-2.06 2.06-.94-2.06-.94-.94-2.06-.94 2.06-2.06.94zm-11 1L8.5 8.5l.94-2.06 2.06-.94-2.06-.94L8.5 2.5l-.94 2.06-2.06.94zm10 10l.94 2.06.94-2.06 2.06-.94-2.06-.94-.94-2.06-.94 2.06-2.06.94z\"/><path d=\"M17.41 7.96l-1.37-1.37c-.4-.4-.92-.59-1.43-.59-.52 0-1.04.2-1.43.59L10.3 9.45l-7.72 7.72c-.78.78-.78 2.05 0 2.83L4 21.41c.39.39.9.59 1.41.59.51 0 1.02-.2 1.41-.59l7.78-7.78 2.81-2.81c.8-.78.8-2.07 0-2.86zM5.41 20L4 18.59l7.72-7.72 1.47 1.35L5.41 20z\"/>\n",
              "  </svg>\n",
              "      </button>\n",
              "      \n",
              "  <style>\n",
              "    .colab-df-container {\n",
              "      display:flex;\n",
              "      flex-wrap:wrap;\n",
              "      gap: 12px;\n",
              "    }\n",
              "\n",
              "    .colab-df-convert {\n",
              "      background-color: #E8F0FE;\n",
              "      border: none;\n",
              "      border-radius: 50%;\n",
              "      cursor: pointer;\n",
              "      display: none;\n",
              "      fill: #1967D2;\n",
              "      height: 32px;\n",
              "      padding: 0 0 0 0;\n",
              "      width: 32px;\n",
              "    }\n",
              "\n",
              "    .colab-df-convert:hover {\n",
              "      background-color: #E2EBFA;\n",
              "      box-shadow: 0px 1px 2px rgba(60, 64, 67, 0.3), 0px 1px 3px 1px rgba(60, 64, 67, 0.15);\n",
              "      fill: #174EA6;\n",
              "    }\n",
              "\n",
              "    [theme=dark] .colab-df-convert {\n",
              "      background-color: #3B4455;\n",
              "      fill: #D2E3FC;\n",
              "    }\n",
              "\n",
              "    [theme=dark] .colab-df-convert:hover {\n",
              "      background-color: #434B5C;\n",
              "      box-shadow: 0px 1px 3px 1px rgba(0, 0, 0, 0.15);\n",
              "      filter: drop-shadow(0px 1px 2px rgba(0, 0, 0, 0.3));\n",
              "      fill: #FFFFFF;\n",
              "    }\n",
              "  </style>\n",
              "\n",
              "      <script>\n",
              "        const buttonEl =\n",
              "          document.querySelector('#df-0404c86f-6fb9-4f43-a433-c133395d9b11 button.colab-df-convert');\n",
              "        buttonEl.style.display =\n",
              "          google.colab.kernel.accessAllowed ? 'block' : 'none';\n",
              "\n",
              "        async function convertToInteractive(key) {\n",
              "          const element = document.querySelector('#df-0404c86f-6fb9-4f43-a433-c133395d9b11');\n",
              "          const dataTable =\n",
              "            await google.colab.kernel.invokeFunction('convertToInteractive',\n",
              "                                                     [key], {});\n",
              "          if (!dataTable) return;\n",
              "\n",
              "          const docLinkHtml = 'Like what you see? Visit the ' +\n",
              "            '<a target=\"_blank\" href=https://colab.research.google.com/notebooks/data_table.ipynb>data table notebook</a>'\n",
              "            + ' to learn more about interactive tables.';\n",
              "          element.innerHTML = '';\n",
              "          dataTable['output_type'] = 'display_data';\n",
              "          await google.colab.output.renderOutput(dataTable, element);\n",
              "          const docLink = document.createElement('div');\n",
              "          docLink.innerHTML = docLinkHtml;\n",
              "          element.appendChild(docLink);\n",
              "        }\n",
              "      </script>\n",
              "    </div>\n",
              "  </div>\n",
              "  "
            ]
          },
          "metadata": {},
          "execution_count": 114
        }
      ]
    },
    {
      "cell_type": "code",
      "source": [
        "df.columns"
      ],
      "metadata": {
        "colab": {
          "base_uri": "https://localhost:8080/"
        },
        "id": "Y8ZDWIi-9Iec",
        "outputId": "f4eae2b6-fb97-4905-c16a-47e2ced2aad6"
      },
      "execution_count": 115,
      "outputs": [
        {
          "output_type": "execute_result",
          "data": {
            "text/plain": [
              "Index(['talk_id', 'title', 'speaker_1', 'all_speakers', 'occupations',\n",
              "       'about_speakers', 'views', 'recorded_date', 'published_date', 'event',\n",
              "       'native_lang', 'available_lang', 'comments', 'duration', 'topics',\n",
              "       'related_talks', 'url', 'description', 'transcript'],\n",
              "      dtype='object')"
            ]
          },
          "metadata": {},
          "execution_count": 115
        }
      ]
    },
    {
      "cell_type": "code",
      "source": [
        "df.info()"
      ],
      "metadata": {
        "colab": {
          "base_uri": "https://localhost:8080/"
        },
        "id": "uVZ8L2p89ZDL",
        "outputId": "86af9bbb-c7b6-425f-8105-ab70d7419d3f"
      },
      "execution_count": 116,
      "outputs": [
        {
          "output_type": "stream",
          "name": "stdout",
          "text": [
            "<class 'pandas.core.frame.DataFrame'>\n",
            "RangeIndex: 4005 entries, 0 to 4004\n",
            "Data columns (total 19 columns):\n",
            " #   Column          Non-Null Count  Dtype  \n",
            "---  ------          --------------  -----  \n",
            " 0   talk_id         4005 non-null   int64  \n",
            " 1   title           4005 non-null   object \n",
            " 2   speaker_1       4005 non-null   object \n",
            " 3   all_speakers    4001 non-null   object \n",
            " 4   occupations     3483 non-null   object \n",
            " 5   about_speakers  3502 non-null   object \n",
            " 6   views           4005 non-null   int64  \n",
            " 7   recorded_date   4004 non-null   object \n",
            " 8   published_date  4005 non-null   object \n",
            " 9   event           4005 non-null   object \n",
            " 10  native_lang     4005 non-null   object \n",
            " 11  available_lang  4005 non-null   object \n",
            " 12  comments        3350 non-null   float64\n",
            " 13  duration        4005 non-null   int64  \n",
            " 14  topics          4005 non-null   object \n",
            " 15  related_talks   4005 non-null   object \n",
            " 16  url             4005 non-null   object \n",
            " 17  description     4005 non-null   object \n",
            " 18  transcript      4005 non-null   object \n",
            "dtypes: float64(1), int64(3), object(15)\n",
            "memory usage: 594.6+ KB\n"
          ]
        }
      ]
    },
    {
      "cell_type": "code",
      "source": [
        "df.duplicated().sum()"
      ],
      "metadata": {
        "colab": {
          "base_uri": "https://localhost:8080/"
        },
        "id": "Wo2FsLwf9cum",
        "outputId": "5f096ac4-7eaf-4e1a-8345-ede08e50f29f"
      },
      "execution_count": 117,
      "outputs": [
        {
          "output_type": "execute_result",
          "data": {
            "text/plain": [
              "0"
            ]
          },
          "metadata": {},
          "execution_count": 117
        }
      ]
    },
    {
      "cell_type": "code",
      "source": [
        "df.isna().sum()\n",
        "df.isnull().sum()"
      ],
      "metadata": {
        "colab": {
          "base_uri": "https://localhost:8080/"
        },
        "id": "BnXlDmcVqmc0",
        "outputId": "84e2a853-320e-44d8-d783-b2e39f1bb97f"
      },
      "execution_count": 118,
      "outputs": [
        {
          "output_type": "execute_result",
          "data": {
            "text/plain": [
              "talk_id             0\n",
              "title               0\n",
              "speaker_1           0\n",
              "all_speakers        4\n",
              "occupations       522\n",
              "about_speakers    503\n",
              "views               0\n",
              "recorded_date       1\n",
              "published_date      0\n",
              "event               0\n",
              "native_lang         0\n",
              "available_lang      0\n",
              "comments          655\n",
              "duration            0\n",
              "topics              0\n",
              "related_talks       0\n",
              "url                 0\n",
              "description         0\n",
              "transcript          0\n",
              "dtype: int64"
            ]
          },
          "metadata": {},
          "execution_count": 118
        }
      ]
    },
    {
      "cell_type": "code",
      "source": [
        "popular_df=df.nlargest(5,['views'])\n",
        "popular_df[['speaker_1','views','title']]"
      ],
      "metadata": {
        "colab": {
          "base_uri": "https://localhost:8080/",
          "height": 206
        },
        "id": "8YT0ELiDq0wg",
        "outputId": "3d09707a-c09e-40b4-cc76-2b71c378a870"
      },
      "execution_count": 119,
      "outputs": [
        {
          "output_type": "execute_result",
          "data": {
            "text/plain": [
              "             speaker_1     views  \\\n",
              "4     Sir Ken Robinson  65051954   \n",
              "1296         Amy Cuddy  57074270   \n",
              "2062      James Veitch  56932551   \n",
              "646        Simon Sinek  49730580   \n",
              "796        Brené Brown  47544833   \n",
              "\n",
              "                                                  title  \n",
              "4                           Do schools kill creativity?  \n",
              "1296           Your body language may shape who you are  \n",
              "2062  This is what happens when you reply to spam email  \n",
              "646                    How great leaders inspire action  \n",
              "796                          The power of vulnerability  "
            ],
            "text/html": [
              "\n",
              "  <div id=\"df-9b82658e-b450-4b15-9e84-5e576beb97a0\">\n",
              "    <div class=\"colab-df-container\">\n",
              "      <div>\n",
              "<style scoped>\n",
              "    .dataframe tbody tr th:only-of-type {\n",
              "        vertical-align: middle;\n",
              "    }\n",
              "\n",
              "    .dataframe tbody tr th {\n",
              "        vertical-align: top;\n",
              "    }\n",
              "\n",
              "    .dataframe thead th {\n",
              "        text-align: right;\n",
              "    }\n",
              "</style>\n",
              "<table border=\"1\" class=\"dataframe\">\n",
              "  <thead>\n",
              "    <tr style=\"text-align: right;\">\n",
              "      <th></th>\n",
              "      <th>speaker_1</th>\n",
              "      <th>views</th>\n",
              "      <th>title</th>\n",
              "    </tr>\n",
              "  </thead>\n",
              "  <tbody>\n",
              "    <tr>\n",
              "      <th>4</th>\n",
              "      <td>Sir Ken Robinson</td>\n",
              "      <td>65051954</td>\n",
              "      <td>Do schools kill creativity?</td>\n",
              "    </tr>\n",
              "    <tr>\n",
              "      <th>1296</th>\n",
              "      <td>Amy Cuddy</td>\n",
              "      <td>57074270</td>\n",
              "      <td>Your body language may shape who you are</td>\n",
              "    </tr>\n",
              "    <tr>\n",
              "      <th>2062</th>\n",
              "      <td>James Veitch</td>\n",
              "      <td>56932551</td>\n",
              "      <td>This is what happens when you reply to spam email</td>\n",
              "    </tr>\n",
              "    <tr>\n",
              "      <th>646</th>\n",
              "      <td>Simon Sinek</td>\n",
              "      <td>49730580</td>\n",
              "      <td>How great leaders inspire action</td>\n",
              "    </tr>\n",
              "    <tr>\n",
              "      <th>796</th>\n",
              "      <td>Brené Brown</td>\n",
              "      <td>47544833</td>\n",
              "      <td>The power of vulnerability</td>\n",
              "    </tr>\n",
              "  </tbody>\n",
              "</table>\n",
              "</div>\n",
              "      <button class=\"colab-df-convert\" onclick=\"convertToInteractive('df-9b82658e-b450-4b15-9e84-5e576beb97a0')\"\n",
              "              title=\"Convert this dataframe to an interactive table.\"\n",
              "              style=\"display:none;\">\n",
              "        \n",
              "  <svg xmlns=\"http://www.w3.org/2000/svg\" height=\"24px\"viewBox=\"0 0 24 24\"\n",
              "       width=\"24px\">\n",
              "    <path d=\"M0 0h24v24H0V0z\" fill=\"none\"/>\n",
              "    <path d=\"M18.56 5.44l.94 2.06.94-2.06 2.06-.94-2.06-.94-.94-2.06-.94 2.06-2.06.94zm-11 1L8.5 8.5l.94-2.06 2.06-.94-2.06-.94L8.5 2.5l-.94 2.06-2.06.94zm10 10l.94 2.06.94-2.06 2.06-.94-2.06-.94-.94-2.06-.94 2.06-2.06.94z\"/><path d=\"M17.41 7.96l-1.37-1.37c-.4-.4-.92-.59-1.43-.59-.52 0-1.04.2-1.43.59L10.3 9.45l-7.72 7.72c-.78.78-.78 2.05 0 2.83L4 21.41c.39.39.9.59 1.41.59.51 0 1.02-.2 1.41-.59l7.78-7.78 2.81-2.81c.8-.78.8-2.07 0-2.86zM5.41 20L4 18.59l7.72-7.72 1.47 1.35L5.41 20z\"/>\n",
              "  </svg>\n",
              "      </button>\n",
              "      \n",
              "  <style>\n",
              "    .colab-df-container {\n",
              "      display:flex;\n",
              "      flex-wrap:wrap;\n",
              "      gap: 12px;\n",
              "    }\n",
              "\n",
              "    .colab-df-convert {\n",
              "      background-color: #E8F0FE;\n",
              "      border: none;\n",
              "      border-radius: 50%;\n",
              "      cursor: pointer;\n",
              "      display: none;\n",
              "      fill: #1967D2;\n",
              "      height: 32px;\n",
              "      padding: 0 0 0 0;\n",
              "      width: 32px;\n",
              "    }\n",
              "\n",
              "    .colab-df-convert:hover {\n",
              "      background-color: #E2EBFA;\n",
              "      box-shadow: 0px 1px 2px rgba(60, 64, 67, 0.3), 0px 1px 3px 1px rgba(60, 64, 67, 0.15);\n",
              "      fill: #174EA6;\n",
              "    }\n",
              "\n",
              "    [theme=dark] .colab-df-convert {\n",
              "      background-color: #3B4455;\n",
              "      fill: #D2E3FC;\n",
              "    }\n",
              "\n",
              "    [theme=dark] .colab-df-convert:hover {\n",
              "      background-color: #434B5C;\n",
              "      box-shadow: 0px 1px 3px 1px rgba(0, 0, 0, 0.15);\n",
              "      filter: drop-shadow(0px 1px 2px rgba(0, 0, 0, 0.3));\n",
              "      fill: #FFFFFF;\n",
              "    }\n",
              "  </style>\n",
              "\n",
              "      <script>\n",
              "        const buttonEl =\n",
              "          document.querySelector('#df-9b82658e-b450-4b15-9e84-5e576beb97a0 button.colab-df-convert');\n",
              "        buttonEl.style.display =\n",
              "          google.colab.kernel.accessAllowed ? 'block' : 'none';\n",
              "\n",
              "        async function convertToInteractive(key) {\n",
              "          const element = document.querySelector('#df-9b82658e-b450-4b15-9e84-5e576beb97a0');\n",
              "          const dataTable =\n",
              "            await google.colab.kernel.invokeFunction('convertToInteractive',\n",
              "                                                     [key], {});\n",
              "          if (!dataTable) return;\n",
              "\n",
              "          const docLinkHtml = 'Like what you see? Visit the ' +\n",
              "            '<a target=\"_blank\" href=https://colab.research.google.com/notebooks/data_table.ipynb>data table notebook</a>'\n",
              "            + ' to learn more about interactive tables.';\n",
              "          element.innerHTML = '';\n",
              "          dataTable['output_type'] = 'display_data';\n",
              "          await google.colab.output.renderOutput(dataTable, element);\n",
              "          const docLink = document.createElement('div');\n",
              "          docLink.innerHTML = docLinkHtml;\n",
              "          element.appendChild(docLink);\n",
              "        }\n",
              "      </script>\n",
              "    </div>\n",
              "  </div>\n",
              "  "
            ]
          },
          "metadata": {},
          "execution_count": 119
        }
      ]
    },
    {
      "cell_type": "code",
      "source": [
        "plt.figure(figsize=(10,5))\n",
        "plt.title('Speaker Most Popular video')\n",
        "sns.barplot(x='speaker_1',y='views',data=popular_df)"
      ],
      "metadata": {
        "colab": {
          "base_uri": "https://localhost:8080/",
          "height": 368
        },
        "id": "nmGH7VeTrz0Y",
        "outputId": "af34faad-e3ec-4916-8cfa-0a1d405e0811"
      },
      "execution_count": 120,
      "outputs": [
        {
          "output_type": "execute_result",
          "data": {
            "text/plain": [
              "<matplotlib.axes._subplots.AxesSubplot at 0x7fc07cfa2990>"
            ]
          },
          "metadata": {},
          "execution_count": 120
        },
        {
          "output_type": "display_data",
          "data": {
            "text/plain": [
              "<Figure size 720x360 with 1 Axes>"
            ],
            "image/png": "[encoded data removed]"
          },
          "metadata": {
            "needs_background": "light"
          }
        }
      ]
    },
    {
      "cell_type": "code",
      "source": [
        "#finding most popular speaker from the dataset\n",
        "pop_speaker_df=df.groupby('speaker_1').agg({'views' : 'sum'}).nlargest(15,['views'])\n",
        "pop_speaker_df.reset_index(inplace=True)\n",
        "pop_speaker_df"
      ],
      "metadata": {
        "colab": {
          "base_uri": "https://localhost:8080/",
          "height": 520
        },
        "id": "qLOxOKt2sYdn",
        "outputId": "4a252a2b-1031-4cfb-a08d-f15e051f2b5f"
      },
      "execution_count": 121,
      "outputs": [
        {
          "output_type": "execute_result",
          "data": {
            "text/plain": [
              "           speaker_1      views\n",
              "0       Alex Gendler  117619583\n",
              "1   Sir Ken Robinson   84380518\n",
              "2       James Veitch   78843641\n",
              "3        Simon Sinek   62661183\n",
              "4        Brené Brown   61285977\n",
              "5         Bill Gates   57107176\n",
              "6          Amy Cuddy   57074270\n",
              "7    Julian Treasure   54799681\n",
              "8       Hans Rosling   39871561\n",
              "9          Tim Urban   37976820\n",
              "10   Cameron Russell   33874546\n",
              "11         Sam Berns   33691484\n",
              "12    Chris Anderson   32598679\n",
              "13  Robert Waldinger   32396714\n",
              "14      Esther Perel   31460367"
            ],
            "text/html": [
              "\n",
              "  <div id=\"df-6eb0504e-eff3-4db1-8938-644ece522364\">\n",
              "    <div class=\"colab-df-container\">\n",
              "      <div>\n",
              "<style scoped>\n",
              "    .dataframe tbody tr th:only-of-type {\n",
              "        vertical-align: middle;\n",
              "    }\n",
              "\n",
              "    .dataframe tbody tr th {\n",
              "        vertical-align: top;\n",
              "    }\n",
              "\n",
              "    .dataframe thead th {\n",
              "        text-align: right;\n",
              "    }\n",
              "</style>\n",
              "<table border=\"1\" class=\"dataframe\">\n",
              "  <thead>\n",
              "    <tr style=\"text-align: right;\">\n",
              "      <th></th>\n",
              "      <th>speaker_1</th>\n",
              "      <th>views</th>\n",
              "    </tr>\n",
              "  </thead>\n",
              "  <tbody>\n",
              "    <tr>\n",
              "      <th>0</th>\n",
              "      <td>Alex Gendler</td>\n",
              "      <td>117619583</td>\n",
              "    </tr>\n",
              "    <tr>\n",
              "      <th>1</th>\n",
              "      <td>Sir Ken Robinson</td>\n",
              "      <td>84380518</td>\n",
              "    </tr>\n",
              "    <tr>\n",
              "      <th>2</th>\n",
              "      <td>James Veitch</td>\n",
              "      <td>78843641</td>\n",
              "    </tr>\n",
              "    <tr>\n",
              "      <th>3</th>\n",
              "      <td>Simon Sinek</td>\n",
              "      <td>62661183</td>\n",
              "    </tr>\n",
              "    <tr>\n",
              "      <th>4</th>\n",
              "      <td>Brené Brown</td>\n",
              "      <td>61285977</td>\n",
              "    </tr>\n",
              "    <tr>\n",
              "      <th>5</th>\n",
              "      <td>Bill Gates</td>\n",
              "      <td>57107176</td>\n",
              "    </tr>\n",
              "    <tr>\n",
              "      <th>6</th>\n",
              "      <td>Amy Cuddy</td>\n",
              "      <td>57074270</td>\n",
              "    </tr>\n",
              "    <tr>\n",
              "      <th>7</th>\n",
              "      <td>Julian Treasure</td>\n",
              "      <td>54799681</td>\n",
              "    </tr>\n",
              "    <tr>\n",
              "      <th>8</th>\n",
              "      <td>Hans Rosling</td>\n",
              "      <td>39871561</td>\n",
              "    </tr>\n",
              "    <tr>\n",
              "      <th>9</th>\n",
              "      <td>Tim Urban</td>\n",
              "      <td>37976820</td>\n",
              "    </tr>\n",
              "    <tr>\n",
              "      <th>10</th>\n",
              "      <td>Cameron Russell</td>\n",
              "      <td>33874546</td>\n",
              "    </tr>\n",
              "    <tr>\n",
              "      <th>11</th>\n",
              "      <td>Sam Berns</td>\n",
              "      <td>33691484</td>\n",
              "    </tr>\n",
              "    <tr>\n",
              "      <th>12</th>\n",
              "      <td>Chris Anderson</td>\n",
              "      <td>32598679</td>\n",
              "    </tr>\n",
              "    <tr>\n",
              "      <th>13</th>\n",
              "      <td>Robert Waldinger</td>\n",
              "      <td>32396714</td>\n",
              "    </tr>\n",
              "    <tr>\n",
              "      <th>14</th>\n",
              "      <td>Esther Perel</td>\n",
              "      <td>31460367</td>\n",
              "    </tr>\n",
              "  </tbody>\n",
              "</table>\n",
              "</div>\n",
              "      <button class=\"colab-df-convert\" onclick=\"convertToInteractive('df-6eb0504e-eff3-4db1-8938-644ece522364')\"\n",
              "              title=\"Convert this dataframe to an interactive table.\"\n",
              "              style=\"display:none;\">\n",
              "        \n",
              "  <svg xmlns=\"http://www.w3.org/2000/svg\" height=\"24px\"viewBox=\"0 0 24 24\"\n",
              "       width=\"24px\">\n",
              "    <path d=\"M0 0h24v24H0V0z\" fill=\"none\"/>\n",
              "    <path d=\"M18.56 5.44l.94 2.06.94-2.06 2.06-.94-2.06-.94-.94-2.06-.94 2.06-2.06.94zm-11 1L8.5 8.5l.94-2.06 2.06-.94-2.06-.94L8.5 2.5l-.94 2.06-2.06.94zm10 10l.94 2.06.94-2.06 2.06-.94-2.06-.94-.94-2.06-.94 2.06-2.06.94z\"/><path d=\"M17.41 7.96l-1.37-1.37c-.4-.4-.92-.59-1.43-.59-.52 0-1.04.2-1.43.59L10.3 9.45l-7.72 7.72c-.78.78-.78 2.05 0 2.83L4 21.41c.39.39.9.59 1.41.59.51 0 1.02-.2 1.41-.59l7.78-7.78 2.81-2.81c.8-.78.8-2.07 0-2.86zM5.41 20L4 18.59l7.72-7.72 1.47 1.35L5.41 20z\"/>\n",
              "  </svg>\n",
              "      </button>\n",
              "      \n",
              "  <style>\n",
              "    .colab-df-container {\n",
              "      display:flex;\n",
              "      flex-wrap:wrap;\n",
              "      gap: 12px;\n",
              "    }\n",
              "\n",
              "    .colab-df-convert {\n",
              "      background-color: #E8F0FE;\n",
              "      border: none;\n",
              "      border-radius: 50%;\n",
              "      cursor: pointer;\n",
              "      display: none;\n",
              "      fill: #1967D2;\n",
              "      height: 32px;\n",
              "      padding: 0 0 0 0;\n",
              "      width: 32px;\n",
              "    }\n",
              "\n",
              "    .colab-df-convert:hover {\n",
              "      background-color: #E2EBFA;\n",
              "      box-shadow: 0px 1px 2px rgba(60, 64, 67, 0.3), 0px 1px 3px 1px rgba(60, 64, 67, 0.15);\n",
              "      fill: #174EA6;\n",
              "    }\n",
              "\n",
              "    [theme=dark] .colab-df-convert {\n",
              "      background-color: #3B4455;\n",
              "      fill: #D2E3FC;\n",
              "    }\n",
              "\n",
              "    [theme=dark] .colab-df-convert:hover {\n",
              "      background-color: #434B5C;\n",
              "      box-shadow: 0px 1px 3px 1px rgba(0, 0, 0, 0.15);\n",
              "      filter: drop-shadow(0px 1px 2px rgba(0, 0, 0, 0.3));\n",
              "      fill: #FFFFFF;\n",
              "    }\n",
              "  </style>\n",
              "\n",
              "      <script>\n",
              "        const buttonEl =\n",
              "          document.querySelector('#df-6eb0504e-eff3-4db1-8938-644ece522364 button.colab-df-convert');\n",
              "        buttonEl.style.display =\n",
              "          google.colab.kernel.accessAllowed ? 'block' : 'none';\n",
              "\n",
              "        async function convertToInteractive(key) {\n",
              "          const element = document.querySelector('#df-6eb0504e-eff3-4db1-8938-644ece522364');\n",
              "          const dataTable =\n",
              "            await google.colab.kernel.invokeFunction('convertToInteractive',\n",
              "                                                     [key], {});\n",
              "          if (!dataTable) return;\n",
              "\n",
              "          const docLinkHtml = 'Like what you see? Visit the ' +\n",
              "            '<a target=\"_blank\" href=https://colab.research.google.com/notebooks/data_table.ipynb>data table notebook</a>'\n",
              "            + ' to learn more about interactive tables.';\n",
              "          element.innerHTML = '';\n",
              "          dataTable['output_type'] = 'display_data';\n",
              "          await google.colab.output.renderOutput(dataTable, element);\n",
              "          const docLink = document.createElement('div');\n",
              "          docLink.innerHTML = docLinkHtml;\n",
              "          element.appendChild(docLink);\n",
              "        }\n",
              "      </script>\n",
              "    </div>\n",
              "  </div>\n",
              "  "
            ]
          },
          "metadata": {},
          "execution_count": 121
        }
      ]
    },
    {
      "cell_type": "code",
      "source": [
        "#printing most popular Speaker according to total views on their talks\n",
        "plt.figure(figsize=(20,6))\n",
        "plt.title('Most popular Speaker according to total views on their talks')\n",
        "sns.barplot(x='speaker_1',y='views',data=pop_speaker_df)"
      ],
      "metadata": {
        "colab": {
          "base_uri": "https://localhost:8080/",
          "height": 419
        },
        "id": "OlvofuzAwEfh",
        "outputId": "c47a664c-5514-4ba8-e9d6-b44ab3d2ffc8"
      },
      "execution_count": 122,
      "outputs": [
        {
          "output_type": "execute_result",
          "data": {
            "text/plain": [
              "<matplotlib.axes._subplots.AxesSubplot at 0x7fc07c8a3390>"
            ]
          },
          "metadata": {},
          "execution_count": 122
        },
        {
          "output_type": "display_data",
          "data": {
            "text/plain": [
              "<Figure size 1440x432 with 1 Axes>"
            ],
            "image/png": "[encoded data removed]"
          },
          "metadata": {
            "needs_background": "light"
          }
        }
      ]
    },
    {
      "cell_type": "code",
      "source": [
        "#printing the len of unique values in event column\n",
        "len(df.event.unique())"
      ],
      "metadata": {
        "colab": {
          "base_uri": "https://localhost:8080/"
        },
        "id": "hrBazfHHwKZD",
        "outputId": "ddce2366-b2dd-4166-e75a-87492cc90fb4"
      },
      "execution_count": 123,
      "outputs": [
        {
          "output_type": "execute_result",
          "data": {
            "text/plain": [
              "459"
            ]
          },
          "metadata": {},
          "execution_count": 123
        }
      ]
    },
    {
      "cell_type": "code",
      "source": [
        "#let's find the most frequent event categories\n",
        "freq_event_df=df[['event','views']].groupby('event').agg({'views' : 'count'}).nlargest(10,['views'])\n",
        "freq_event_df.reset_index(inplace=True)\n",
        "freq_event_df"
      ],
      "metadata": {
        "colab": {
          "base_uri": "https://localhost:8080/",
          "height": 363
        },
        "id": "c7_4L1dnwTLo",
        "outputId": "0b2f804d-0584-4339-bba9-896ab6ad1a2b"
      },
      "execution_count": 124,
      "outputs": [
        {
          "output_type": "execute_result",
          "data": {
            "text/plain": [
              "     event  views\n",
              "0   TED-Ed    556\n",
              "1  TED2017     96\n",
              "2  TED2018     96\n",
              "3  TED2019     91\n",
              "4  TED2014     84\n",
              "5  TED2009     81\n",
              "6  TED2013     75\n",
              "7  TED2015     75\n",
              "8  TED2016     75\n",
              "9  TED2011     70"
            ],
            "text/html": [
              "\n",
              "  <div id=\"df-1b99f1ba-1c09-4d3d-9ef0-a651180b3f94\">\n",
              "    <div class=\"colab-df-container\">\n",
              "      <div>\n",
              "<style scoped>\n",
              "    .dataframe tbody tr th:only-of-type {\n",
              "        vertical-align: middle;\n",
              "    }\n",
              "\n",
              "    .dataframe tbody tr th {\n",
              "        vertical-align: top;\n",
              "    }\n",
              "\n",
              "    .dataframe thead th {\n",
              "        text-align: right;\n",
              "    }\n",
              "</style>\n",
              "<table border=\"1\" class=\"dataframe\">\n",
              "  <thead>\n",
              "    <tr style=\"text-align: right;\">\n",
              "      <th></th>\n",
              "      <th>event</th>\n",
              "      <th>views</th>\n",
              "    </tr>\n",
              "  </thead>\n",
              "  <tbody>\n",
              "    <tr>\n",
              "      <th>0</th>\n",
              "      <td>TED-Ed</td>\n",
              "      <td>556</td>\n",
              "    </tr>\n",
              "    <tr>\n",
              "      <th>1</th>\n",
              "      <td>TED2017</td>\n",
              "      <td>96</td>\n",
              "    </tr>\n",
              "    <tr>\n",
              "      <th>2</th>\n",
              "      <td>TED2018</td>\n",
              "      <td>96</td>\n",
              "    </tr>\n",
              "    <tr>\n",
              "      <th>3</th>\n",
              "      <td>TED2019</td>\n",
              "      <td>91</td>\n",
              "    </tr>\n",
              "    <tr>\n",
              "      <th>4</th>\n",
              "      <td>TED2014</td>\n",
              "      <td>84</td>\n",
              "    </tr>\n",
              "    <tr>\n",
              "      <th>5</th>\n",
              "      <td>TED2009</td>\n",
              "      <td>81</td>\n",
              "    </tr>\n",
              "    <tr>\n",
              "      <th>6</th>\n",
              "      <td>TED2013</td>\n",
              "      <td>75</td>\n",
              "    </tr>\n",
              "    <tr>\n",
              "      <th>7</th>\n",
              "      <td>TED2015</td>\n",
              "      <td>75</td>\n",
              "    </tr>\n",
              "    <tr>\n",
              "      <th>8</th>\n",
              "      <td>TED2016</td>\n",
              "      <td>75</td>\n",
              "    </tr>\n",
              "    <tr>\n",
              "      <th>9</th>\n",
              "      <td>TED2011</td>\n",
              "      <td>70</td>\n",
              "    </tr>\n",
              "  </tbody>\n",
              "</table>\n",
              "</div>\n",
              "      <button class=\"colab-df-convert\" onclick=\"convertToInteractive('df-1b99f1ba-1c09-4d3d-9ef0-a651180b3f94')\"\n",
              "              title=\"Convert this dataframe to an interactive table.\"\n",
              "              style=\"display:none;\">\n",
              "        \n",
              "  <svg xmlns=\"http://www.w3.org/2000/svg\" height=\"24px\"viewBox=\"0 0 24 24\"\n",
              "       width=\"24px\">\n",
              "    <path d=\"M0 0h24v24H0V0z\" fill=\"none\"/>\n",
              "    <path d=\"M18.56 5.44l.94 2.06.94-2.06 2.06-.94-2.06-.94-.94-2.06-.94 2.06-2.06.94zm-11 1L8.5 8.5l.94-2.06 2.06-.94-2.06-.94L8.5 2.5l-.94 2.06-2.06.94zm10 10l.94 2.06.94-2.06 2.06-.94-2.06-.94-.94-2.06-.94 2.06-2.06.94z\"/><path d=\"M17.41 7.96l-1.37-1.37c-.4-.4-.92-.59-1.43-.59-.52 0-1.04.2-1.43.59L10.3 9.45l-7.72 7.72c-.78.78-.78 2.05 0 2.83L4 21.41c.39.39.9.59 1.41.59.51 0 1.02-.2 1.41-.59l7.78-7.78 2.81-2.81c.8-.78.8-2.07 0-2.86zM5.41 20L4 18.59l7.72-7.72 1.47 1.35L5.41 20z\"/>\n",
              "  </svg>\n",
              "      </button>\n",
              "      \n",
              "  <style>\n",
              "    .colab-df-container {\n",
              "      display:flex;\n",
              "      flex-wrap:wrap;\n",
              "      gap: 12px;\n",
              "    }\n",
              "\n",
              "    .colab-df-convert {\n",
              "      background-color: #E8F0FE;\n",
              "      border: none;\n",
              "      border-radius: 50%;\n",
              "      cursor: pointer;\n",
              "      display: none;\n",
              "      fill: #1967D2;\n",
              "      height: 32px;\n",
              "      padding: 0 0 0 0;\n",
              "      width: 32px;\n",
              "    }\n",
              "\n",
              "    .colab-df-convert:hover {\n",
              "      background-color: #E2EBFA;\n",
              "      box-shadow: 0px 1px 2px rgba(60, 64, 67, 0.3), 0px 1px 3px 1px rgba(60, 64, 67, 0.15);\n",
              "      fill: #174EA6;\n",
              "    }\n",
              "\n",
              "    [theme=dark] .colab-df-convert {\n",
              "      background-color: #3B4455;\n",
              "      fill: #D2E3FC;\n",
              "    }\n",
              "\n",
              "    [theme=dark] .colab-df-convert:hover {\n",
              "      background-color: #434B5C;\n",
              "      box-shadow: 0px 1px 3px 1px rgba(0, 0, 0, 0.15);\n",
              "      filter: drop-shadow(0px 1px 2px rgba(0, 0, 0, 0.3));\n",
              "      fill: #FFFFFF;\n",
              "    }\n",
              "  </style>\n",
              "\n",
              "      <script>\n",
              "        const buttonEl =\n",
              "          document.querySelector('#df-1b99f1ba-1c09-4d3d-9ef0-a651180b3f94 button.colab-df-convert');\n",
              "        buttonEl.style.display =\n",
              "          google.colab.kernel.accessAllowed ? 'block' : 'none';\n",
              "\n",
              "        async function convertToInteractive(key) {\n",
              "          const element = document.querySelector('#df-1b99f1ba-1c09-4d3d-9ef0-a651180b3f94');\n",
              "          const dataTable =\n",
              "            await google.colab.kernel.invokeFunction('convertToInteractive',\n",
              "                                                     [key], {});\n",
              "          if (!dataTable) return;\n",
              "\n",
              "          const docLinkHtml = 'Like what you see? Visit the ' +\n",
              "            '<a target=\"_blank\" href=https://colab.research.google.com/notebooks/data_table.ipynb>data table notebook</a>'\n",
              "            + ' to learn more about interactive tables.';\n",
              "          element.innerHTML = '';\n",
              "          dataTable['output_type'] = 'display_data';\n",
              "          await google.colab.output.renderOutput(dataTable, element);\n",
              "          const docLink = document.createElement('div');\n",
              "          docLink.innerHTML = docLinkHtml;\n",
              "          element.appendChild(docLink);\n",
              "        }\n",
              "      </script>\n",
              "    </div>\n",
              "  </div>\n",
              "  "
            ]
          },
          "metadata": {},
          "execution_count": 124
        }
      ]
    },
    {
      "cell_type": "code",
      "source": [
        "plt.figure(figsize=(15,6))\n",
        "plt.title('Most frequent event')\n",
        "sns.barplot(x='event',y='views',data=freq_event_df)"
      ],
      "metadata": {
        "colab": {
          "base_uri": "https://localhost:8080/",
          "height": 421
        },
        "id": "_8s6k2Mhwcfz",
        "outputId": "1273f1bb-d882-473a-a859-51d81e46dc3a"
      },
      "execution_count": 125,
      "outputs": [
        {
          "output_type": "execute_result",
          "data": {
            "text/plain": [
              "<matplotlib.axes._subplots.AxesSubplot at 0x7fc07c8135d0>"
            ]
          },
          "metadata": {},
          "execution_count": 125
        },
        {
          "output_type": "display_data",
          "data": {
            "text/plain": [
              "<Figure size 1080x432 with 1 Axes>"
            ],
            "image/png": "[encoded data removed]"
          },
          "metadata": {
            "needs_background": "light"
          }
        }
      ]
    },
    {
      "cell_type": "code",
      "source": [
        "pop_event_df=df[['event','views']].groupby('event').agg({'views': 'sum'}).nlargest(10,['views'])\n",
        "pop_event_df.reset_index(inplace=True)\n",
        "pop_event_df"
      ],
      "metadata": {
        "colab": {
          "base_uri": "https://localhost:8080/",
          "height": 363
        },
        "id": "OEAW0G9WxCEx",
        "outputId": "75be7475-d024-4f48-8bb8-dfd97c38ba5f"
      },
      "execution_count": 126,
      "outputs": [
        {
          "output_type": "execute_result",
          "data": {
            "text/plain": [
              "            event       views\n",
              "0          TED-Ed  1145357780\n",
              "1         TED2015   247702961\n",
              "2         TED2014   240295871\n",
              "3  TEDGlobal 2013   235410234\n",
              "4         TED2017   227847725\n",
              "5         TED2016   227358612\n",
              "6         TED2013   225967516\n",
              "7         TED2012   197746106\n",
              "8         TED2018   196346377\n",
              "9         TED2009   191190144"
            ],
            "text/html": [
              "\n",
              "  <div id=\"df-05f6f3f0-1538-46a5-9e59-338a395eeaa9\">\n",
              "    <div class=\"colab-df-container\">\n",
              "      <div>\n",
              "<style scoped>\n",
              "    .dataframe tbody tr th:only-of-type {\n",
              "        vertical-align: middle;\n",
              "    }\n",
              "\n",
              "    .dataframe tbody tr th {\n",
              "        vertical-align: top;\n",
              "    }\n",
              "\n",
              "    .dataframe thead th {\n",
              "        text-align: right;\n",
              "    }\n",
              "</style>\n",
              "<table border=\"1\" class=\"dataframe\">\n",
              "  <thead>\n",
              "    <tr style=\"text-align: right;\">\n",
              "      <th></th>\n",
              "      <th>event</th>\n",
              "      <th>views</th>\n",
              "    </tr>\n",
              "  </thead>\n",
              "  <tbody>\n",
              "    <tr>\n",
              "      <th>0</th>\n",
              "      <td>TED-Ed</td>\n",
              "      <td>1145357780</td>\n",
              "    </tr>\n",
              "    <tr>\n",
              "      <th>1</th>\n",
              "      <td>TED2015</td>\n",
              "      <td>247702961</td>\n",
              "    </tr>\n",
              "    <tr>\n",
              "      <th>2</th>\n",
              "      <td>TED2014</td>\n",
              "      <td>240295871</td>\n",
              "    </tr>\n",
              "    <tr>\n",
              "      <th>3</th>\n",
              "      <td>TEDGlobal 2013</td>\n",
              "      <td>235410234</td>\n",
              "    </tr>\n",
              "    <tr>\n",
              "      <th>4</th>\n",
              "      <td>TED2017</td>\n",
              "      <td>227847725</td>\n",
              "    </tr>\n",
              "    <tr>\n",
              "      <th>5</th>\n",
              "      <td>TED2016</td>\n",
              "      <td>227358612</td>\n",
              "    </tr>\n",
              "    <tr>\n",
              "      <th>6</th>\n",
              "      <td>TED2013</td>\n",
              "      <td>225967516</td>\n",
              "    </tr>\n",
              "    <tr>\n",
              "      <th>7</th>\n",
              "      <td>TED2012</td>\n",
              "      <td>197746106</td>\n",
              "    </tr>\n",
              "    <tr>\n",
              "      <th>8</th>\n",
              "      <td>TED2018</td>\n",
              "      <td>196346377</td>\n",
              "    </tr>\n",
              "    <tr>\n",
              "      <th>9</th>\n",
              "      <td>TED2009</td>\n",
              "      <td>191190144</td>\n",
              "    </tr>\n",
              "  </tbody>\n",
              "</table>\n",
              "</div>\n",
              "      <button class=\"colab-df-convert\" onclick=\"convertToInteractive('df-05f6f3f0-1538-46a5-9e59-338a395eeaa9')\"\n",
              "              title=\"Convert this dataframe to an interactive table.\"\n",
              "              style=\"display:none;\">\n",
              "        \n",
              "  <svg xmlns=\"http://www.w3.org/2000/svg\" height=\"24px\"viewBox=\"0 0 24 24\"\n",
              "       width=\"24px\">\n",
              "    <path d=\"M0 0h24v24H0V0z\" fill=\"none\"/>\n",
              "    <path d=\"M18.56 5.44l.94 2.06.94-2.06 2.06-.94-2.06-.94-.94-2.06-.94 2.06-2.06.94zm-11 1L8.5 8.5l.94-2.06 2.06-.94-2.06-.94L8.5 2.5l-.94 2.06-2.06.94zm10 10l.94 2.06.94-2.06 2.06-.94-2.06-.94-.94-2.06-.94 2.06-2.06.94z\"/><path d=\"M17.41 7.96l-1.37-1.37c-.4-.4-.92-.59-1.43-.59-.52 0-1.04.2-1.43.59L10.3 9.45l-7.72 7.72c-.78.78-.78 2.05 0 2.83L4 21.41c.39.39.9.59 1.41.59.51 0 1.02-.2 1.41-.59l7.78-7.78 2.81-2.81c.8-.78.8-2.07 0-2.86zM5.41 20L4 18.59l7.72-7.72 1.47 1.35L5.41 20z\"/>\n",
              "  </svg>\n",
              "      </button>\n",
              "      \n",
              "  <style>\n",
              "    .colab-df-container {\n",
              "      display:flex;\n",
              "      flex-wrap:wrap;\n",
              "      gap: 12px;\n",
              "    }\n",
              "\n",
              "    .colab-df-convert {\n",
              "      background-color: #E8F0FE;\n",
              "      border: none;\n",
              "      border-radius: 50%;\n",
              "      cursor: pointer;\n",
              "      display: none;\n",
              "      fill: #1967D2;\n",
              "      height: 32px;\n",
              "      padding: 0 0 0 0;\n",
              "      width: 32px;\n",
              "    }\n",
              "\n",
              "    .colab-df-convert:hover {\n",
              "      background-color: #E2EBFA;\n",
              "      box-shadow: 0px 1px 2px rgba(60, 64, 67, 0.3), 0px 1px 3px 1px rgba(60, 64, 67, 0.15);\n",
              "      fill: #174EA6;\n",
              "    }\n",
              "\n",
              "    [theme=dark] .colab-df-convert {\n",
              "      background-color: #3B4455;\n",
              "      fill: #D2E3FC;\n",
              "    }\n",
              "\n",
              "    [theme=dark] .colab-df-convert:hover {\n",
              "      background-color: #434B5C;\n",
              "      box-shadow: 0px 1px 3px 1px rgba(0, 0, 0, 0.15);\n",
              "      filter: drop-shadow(0px 1px 2px rgba(0, 0, 0, 0.3));\n",
              "      fill: #FFFFFF;\n",
              "    }\n",
              "  </style>\n",
              "\n",
              "      <script>\n",
              "        const buttonEl =\n",
              "          document.querySelector('#df-05f6f3f0-1538-46a5-9e59-338a395eeaa9 button.colab-df-convert');\n",
              "        buttonEl.style.display =\n",
              "          google.colab.kernel.accessAllowed ? 'block' : 'none';\n",
              "\n",
              "        async function convertToInteractive(key) {\n",
              "          const element = document.querySelector('#df-05f6f3f0-1538-46a5-9e59-338a395eeaa9');\n",
              "          const dataTable =\n",
              "            await google.colab.kernel.invokeFunction('convertToInteractive',\n",
              "                                                     [key], {});\n",
              "          if (!dataTable) return;\n",
              "\n",
              "          const docLinkHtml = 'Like what you see? Visit the ' +\n",
              "            '<a target=\"_blank\" href=https://colab.research.google.com/notebooks/data_table.ipynb>data table notebook</a>'\n",
              "            + ' to learn more about interactive tables.';\n",
              "          element.innerHTML = '';\n",
              "          dataTable['output_type'] = 'display_data';\n",
              "          await google.colab.output.renderOutput(dataTable, element);\n",
              "          const docLink = document.createElement('div');\n",
              "          docLink.innerHTML = docLinkHtml;\n",
              "          element.appendChild(docLink);\n",
              "        }\n",
              "      </script>\n",
              "    </div>\n",
              "  </div>\n",
              "  "
            ]
          },
          "metadata": {},
          "execution_count": 126
        }
      ]
    },
    {
      "cell_type": "code",
      "source": [
        "plt.figure(figsize=(15,6))\n",
        "plt.title('Most popular event category')\n",
        "sns.barplot(x='event',y='views',data=pop_event_df)"
      ],
      "metadata": {
        "colab": {
          "base_uri": "https://localhost:8080/",
          "height": 421
        },
        "id": "JWT41xtKyPXi",
        "outputId": "c258bf1d-a8fa-49b9-9287-906c3b839946"
      },
      "execution_count": 127,
      "outputs": [
        {
          "output_type": "execute_result",
          "data": {
            "text/plain": [
              "<matplotlib.axes._subplots.AxesSubplot at 0x7fc07c7294d0>"
            ]
          },
          "metadata": {},
          "execution_count": 127
        },
        {
          "output_type": "display_data",
          "data": {
            "text/plain": [
              "<Figure size 1080x432 with 1 Axes>"
            ],
            "image/png": "[encoded data removed]"
          },
          "metadata": {
            "needs_background": "light"
          }
        }
      ]
    },
    {
      "cell_type": "code",
      "source": [
        "df.native_lang.value_counts()"
      ],
      "metadata": {
        "colab": {
          "base_uri": "https://localhost:8080/"
        },
        "id": "rk_bgnTfyn39",
        "outputId": "ec6bc2f2-499f-4cb1-9b10-4bdf669ccd62"
      },
      "execution_count": 128,
      "outputs": [
        {
          "output_type": "execute_result",
          "data": {
            "text/plain": [
              "en       3957\n",
              "es         27\n",
              "fr          9\n",
              "ja          3\n",
              "hi          2\n",
              "de          1\n",
              "pt          1\n",
              "ko          1\n",
              "zh-cn       1\n",
              "ar          1\n",
              "pt-br       1\n",
              "it          1\n",
              "Name: native_lang, dtype: int64"
            ]
          },
          "metadata": {},
          "execution_count": 128
        }
      ]
    },
    {
      "cell_type": "code",
      "source": [
        "plt.figure(figsize=(10,6))\n",
        "plt.title('Native language')\n",
        "sns.countplot(df['native_lang'])"
      ],
      "metadata": {
        "colab": {
          "base_uri": "https://localhost:8080/",
          "height": 422
        },
        "id": "b4CiFjYRyzwa",
        "outputId": "9fa33ae2-3827-473b-d544-565fa487c8f1"
      },
      "execution_count": 129,
      "outputs": [
        {
          "output_type": "execute_result",
          "data": {
            "text/plain": [
              "<matplotlib.axes._subplots.AxesSubplot at 0x7fc07c67ded0>"
            ]
          },
          "metadata": {},
          "execution_count": 129
        },
        {
          "output_type": "display_data",
          "data": {
            "text/plain": [
              "<Figure size 720x432 with 1 Axes>"
            ],
            "image/png": "[encoded data removed]"
          },
          "metadata": {
            "needs_background": "light"
          }
        }
      ]
    },
    {
      "cell_type": "code",
      "source": [
        "len(df['occupations'].unique())"
      ],
      "metadata": {
        "colab": {
          "base_uri": "https://localhost:8080/"
        },
        "id": "Bq3S-X1fzEOx",
        "outputId": "c1817bf2-6998-4b4b-ce81-9a8d9f863d67"
      },
      "execution_count": 130,
      "outputs": [
        {
          "output_type": "execute_result",
          "data": {
            "text/plain": [
              "2050"
            ]
          },
          "metadata": {},
          "execution_count": 130
        }
      ]
    },
    {
      "cell_type": "code",
      "source": [
        "df['occupations'].isna().sum()"
      ],
      "metadata": {
        "colab": {
          "base_uri": "https://localhost:8080/"
        },
        "id": "yWsmchzFz_02",
        "outputId": "216caf99-f16b-414d-8568-57f8fcb9876b"
      },
      "execution_count": 131,
      "outputs": [
        {
          "output_type": "execute_result",
          "data": {
            "text/plain": [
              "522"
            ]
          },
          "metadata": {},
          "execution_count": 131
        }
      ]
    },
    {
      "cell_type": "markdown",
      "source": [
        "We have 522 Nan values in occupations column.\n",
        "Let's replace those NaN values with another category called 'other'."
      ],
      "metadata": {
        "id": "p4zbt3AX0rs4"
      }
    },
    {
      "cell_type": "code",
      "source": [
        "for index, row in df.iterrows():\n",
        "  if pd.isnull(row['occupations']):\n",
        "    df['occupations'][index] = 'Other'"
      ],
      "metadata": {
        "id": "F2fm9gdQEuQz"
      },
      "execution_count": 132,
      "outputs": []
    },
    {
      "cell_type": "code",
      "source": [
        "pop_occupation = df[['occupations','views']].groupby('occupations').agg({'views': 'sum'}).nlargest(10,['views'])\n",
        "pop_occupation.reset_index(inplace=True)\n",
        "pop_occupation"
      ],
      "metadata": {
        "id": "8yVsMJwWG3OT",
        "outputId": "dcf9d274-0601-47a1-bb2a-ad02a9f96d75",
        "colab": {
          "base_uri": "https://localhost:8080/",
          "height": 363
        }
      },
      "execution_count": 133,
      "outputs": [
        {
          "output_type": "execute_result",
          "data": {
            "text/plain": [
              "                    occupations       views\n",
              "0                         Other  1082881602\n",
              "1               {0: ['writer']}   190156589\n",
              "2         {0: ['psychologist']}   134906949\n",
              "3           {0: ['journalist']}   105811110\n",
              "4         {0: ['entrepreneur']}    92756390\n",
              "5  {0: ['comedian and writer']}    89667159\n",
              "6  {0: ['social psychologist']}    85851183\n",
              "7   {0: ['author', 'educator']}    84380518\n",
              "8       {0: ['neuroscientist']}    84371331\n",
              "9               {0: ['author']}    76330342"
            ],
            "text/html": [
              "\n",
              "  <div id=\"df-10085bba-25a1-4144-8395-83119c160002\">\n",
              "    <div class=\"colab-df-container\">\n",
              "      <div>\n",
              "<style scoped>\n",
              "    .dataframe tbody tr th:only-of-type {\n",
              "        vertical-align: middle;\n",
              "    }\n",
              "\n",
              "    .dataframe tbody tr th {\n",
              "        vertical-align: top;\n",
              "    }\n",
              "\n",
              "    .dataframe thead th {\n",
              "        text-align: right;\n",
              "    }\n",
              "</style>\n",
              "<table border=\"1\" class=\"dataframe\">\n",
              "  <thead>\n",
              "    <tr style=\"text-align: right;\">\n",
              "      <th></th>\n",
              "      <th>occupations</th>\n",
              "      <th>views</th>\n",
              "    </tr>\n",
              "  </thead>\n",
              "  <tbody>\n",
              "    <tr>\n",
              "      <th>0</th>\n",
              "      <td>Other</td>\n",
              "      <td>1082881602</td>\n",
              "    </tr>\n",
              "    <tr>\n",
              "      <th>1</th>\n",
              "      <td>{0: ['writer']}</td>\n",
              "      <td>190156589</td>\n",
              "    </tr>\n",
              "    <tr>\n",
              "      <th>2</th>\n",
              "      <td>{0: ['psychologist']}</td>\n",
              "      <td>134906949</td>\n",
              "    </tr>\n",
              "    <tr>\n",
              "      <th>3</th>\n",
              "      <td>{0: ['journalist']}</td>\n",
              "      <td>105811110</td>\n",
              "    </tr>\n",
              "    <tr>\n",
              "      <th>4</th>\n",
              "      <td>{0: ['entrepreneur']}</td>\n",
              "      <td>92756390</td>\n",
              "    </tr>\n",
              "    <tr>\n",
              "      <th>5</th>\n",
              "      <td>{0: ['comedian and writer']}</td>\n",
              "      <td>89667159</td>\n",
              "    </tr>\n",
              "    <tr>\n",
              "      <th>6</th>\n",
              "      <td>{0: ['social psychologist']}</td>\n",
              "      <td>85851183</td>\n",
              "    </tr>\n",
              "    <tr>\n",
              "      <th>7</th>\n",
              "      <td>{0: ['author', 'educator']}</td>\n",
              "      <td>84380518</td>\n",
              "    </tr>\n",
              "    <tr>\n",
              "      <th>8</th>\n",
              "      <td>{0: ['neuroscientist']}</td>\n",
              "      <td>84371331</td>\n",
              "    </tr>\n",
              "    <tr>\n",
              "      <th>9</th>\n",
              "      <td>{0: ['author']}</td>\n",
              "      <td>76330342</td>\n",
              "    </tr>\n",
              "  </tbody>\n",
              "</table>\n",
              "</div>\n",
              "      <button class=\"colab-df-convert\" onclick=\"convertToInteractive('df-10085bba-25a1-4144-8395-83119c160002')\"\n",
              "              title=\"Convert this dataframe to an interactive table.\"\n",
              "              style=\"display:none;\">\n",
              "        \n",
              "  <svg xmlns=\"http://www.w3.org/2000/svg\" height=\"24px\"viewBox=\"0 0 24 24\"\n",
              "       width=\"24px\">\n",
              "    <path d=\"M0 0h24v24H0V0z\" fill=\"none\"/>\n",
              "    <path d=\"M18.56 5.44l.94 2.06.94-2.06 2.06-.94-2.06-.94-.94-2.06-.94 2.06-2.06.94zm-11 1L8.5 8.5l.94-2.06 2.06-.94-2.06-.94L8.5 2.5l-.94 2.06-2.06.94zm10 10l.94 2.06.94-2.06 2.06-.94-2.06-.94-.94-2.06-.94 2.06-2.06.94z\"/><path d=\"M17.41 7.96l-1.37-1.37c-.4-.4-.92-.59-1.43-.59-.52 0-1.04.2-1.43.59L10.3 9.45l-7.72 7.72c-.78.78-.78 2.05 0 2.83L4 21.41c.39.39.9.59 1.41.59.51 0 1.02-.2 1.41-.59l7.78-7.78 2.81-2.81c.8-.78.8-2.07 0-2.86zM5.41 20L4 18.59l7.72-7.72 1.47 1.35L5.41 20z\"/>\n",
              "  </svg>\n",
              "      </button>\n",
              "      \n",
              "  <style>\n",
              "    .colab-df-container {\n",
              "      display:flex;\n",
              "      flex-wrap:wrap;\n",
              "      gap: 12px;\n",
              "    }\n",
              "\n",
              "    .colab-df-convert {\n",
              "      background-color: #E8F0FE;\n",
              "      border: none;\n",
              "      border-radius: 50%;\n",
              "      cursor: pointer;\n",
              "      display: none;\n",
              "      fill: #1967D2;\n",
              "      height: 32px;\n",
              "      padding: 0 0 0 0;\n",
              "      width: 32px;\n",
              "    }\n",
              "\n",
              "    .colab-df-convert:hover {\n",
              "      background-color: #E2EBFA;\n",
              "      box-shadow: 0px 1px 2px rgba(60, 64, 67, 0.3), 0px 1px 3px 1px rgba(60, 64, 67, 0.15);\n",
              "      fill: #174EA6;\n",
              "    }\n",
              "\n",
              "    [theme=dark] .colab-df-convert {\n",
              "      background-color: #3B4455;\n",
              "      fill: #D2E3FC;\n",
              "    }\n",
              "\n",
              "    [theme=dark] .colab-df-convert:hover {\n",
              "      background-color: #434B5C;\n",
              "      box-shadow: 0px 1px 3px 1px rgba(0, 0, 0, 0.15);\n",
              "      filter: drop-shadow(0px 1px 2px rgba(0, 0, 0, 0.3));\n",
              "      fill: #FFFFFF;\n",
              "    }\n",
              "  </style>\n",
              "\n",
              "      <script>\n",
              "        const buttonEl =\n",
              "          document.querySelector('#df-10085bba-25a1-4144-8395-83119c160002 button.colab-df-convert');\n",
              "        buttonEl.style.display =\n",
              "          google.colab.kernel.accessAllowed ? 'block' : 'none';\n",
              "\n",
              "        async function convertToInteractive(key) {\n",
              "          const element = document.querySelector('#df-10085bba-25a1-4144-8395-83119c160002');\n",
              "          const dataTable =\n",
              "            await google.colab.kernel.invokeFunction('convertToInteractive',\n",
              "                                                     [key], {});\n",
              "          if (!dataTable) return;\n",
              "\n",
              "          const docLinkHtml = 'Like what you see? Visit the ' +\n",
              "            '<a target=\"_blank\" href=https://colab.research.google.com/notebooks/data_table.ipynb>data table notebook</a>'\n",
              "            + ' to learn more about interactive tables.';\n",
              "          element.innerHTML = '';\n",
              "          dataTable['output_type'] = 'display_data';\n",
              "          await google.colab.output.renderOutput(dataTable, element);\n",
              "          const docLink = document.createElement('div');\n",
              "          docLink.innerHTML = docLinkHtml;\n",
              "          element.appendChild(docLink);\n",
              "        }\n",
              "      </script>\n",
              "    </div>\n",
              "  </div>\n",
              "  "
            ]
          },
          "metadata": {},
          "execution_count": 133
        }
      ]
    },
    {
      "cell_type": "code",
      "source": [
        "plt.figure(figsize=(16,8))\n",
        "plt.title('Occupation of speaker')\n",
        "sns.barplot(x='occupations',y='views',data=pop_occupation)"
      ],
      "metadata": {
        "id": "aky_W88HF45v",
        "outputId": "da4b326d-5e19-4a08-ab31-54baba1ddb3c",
        "colab": {
          "base_uri": "https://localhost:8080/",
          "height": 530
        }
      },
      "execution_count": 134,
      "outputs": [
        {
          "output_type": "execute_result",
          "data": {
            "text/plain": [
              "<matplotlib.axes._subplots.AxesSubplot at 0x7fc07c62de10>"
            ]
          },
          "metadata": {},
          "execution_count": 134
        },
        {
          "output_type": "display_data",
          "data": {
            "text/plain": [
              "<Figure size 1152x576 with 1 Axes>"
            ],
            "image/png": "[encoded data removed]"
          },
          "metadata": {
            "needs_background": "light"
          }
        }
      ]
    },
    {
      "cell_type": "code",
      "source": [
        "import datetime\n",
        "df['published_date'] = df['published_date'].apply(lambda x: datetime.datetime.strptime(x,\"%Y-%m-%d\"))"
      ],
      "metadata": {
        "id": "3mjQ7Mvc4knd"
      },
      "execution_count": 135,
      "outputs": []
    },
    {
      "cell_type": "code",
      "source": [
        "\n",
        "df['release_day'] = df['published_date'].apply(lambda x: x.weekday())\n",
        "df['release_month']=df['published_date'].apply(lambda x: x.month)\n",
        "df['release_year'] = df['published_date'].apply(lambda x: x.year)"
      ],
      "metadata": {
        "id": "4GUR3RVz57Ea"
      },
      "execution_count": 136,
      "outputs": []
    },
    {
      "cell_type": "code",
      "source": [
        "week_day={0:'Monday',1:'Tuesday',2:'Wednesday',3:'Thursday',4:'Friday',5:'Saturday',6:'Sunday'}\n",
        "df['release_day']=df['release_day'].map(week_day)"
      ],
      "metadata": {
        "id": "Kzp_2ump5_Bb"
      },
      "execution_count": 137,
      "outputs": []
    },
    {
      "cell_type": "code",
      "source": [
        "freq_rel_day=df[['release_day','views']].groupby('release_day').agg({'views' : 'count'})\n",
        "freq_rel_day=freq_rel_day.sort_values('views',ascending=False)\n",
        "freq_rel_day.reset_index(inplace=True)\n",
        "freq_rel_day"
      ],
      "metadata": {
        "colab": {
          "base_uri": "https://localhost:8080/",
          "height": 269
        },
        "id": "ZiZr69lF6DXd",
        "outputId": "a635cc87-6397-4fe1-ca38-650edab6a100"
      },
      "execution_count": 138,
      "outputs": [
        {
          "output_type": "execute_result",
          "data": {
            "text/plain": [
              "  release_day  views\n",
              "0     Tuesday    857\n",
              "1    Thursday    832\n",
              "2      Friday    789\n",
              "3      Monday    727\n",
              "4   Wednesday    703\n",
              "5      Sunday     55\n",
              "6    Saturday     42"
            ],
            "text/html": [
              "\n",
              "  <div id=\"df-750ac698-6d54-4fd2-93f8-e7ee790345e9\">\n",
              "    <div class=\"colab-df-container\">\n",
              "      <div>\n",
              "<style scoped>\n",
              "    .dataframe tbody tr th:only-of-type {\n",
              "        vertical-align: middle;\n",
              "    }\n",
              "\n",
              "    .dataframe tbody tr th {\n",
              "        vertical-align: top;\n",
              "    }\n",
              "\n",
              "    .dataframe thead th {\n",
              "        text-align: right;\n",
              "    }\n",
              "</style>\n",
              "<table border=\"1\" class=\"dataframe\">\n",
              "  <thead>\n",
              "    <tr style=\"text-align: right;\">\n",
              "      <th></th>\n",
              "      <th>release_day</th>\n",
              "      <th>views</th>\n",
              "    </tr>\n",
              "  </thead>\n",
              "  <tbody>\n",
              "    <tr>\n",
              "      <th>0</th>\n",
              "      <td>Tuesday</td>\n",
              "      <td>857</td>\n",
              "    </tr>\n",
              "    <tr>\n",
              "      <th>1</th>\n",
              "      <td>Thursday</td>\n",
              "      <td>832</td>\n",
              "    </tr>\n",
              "    <tr>\n",
              "      <th>2</th>\n",
              "      <td>Friday</td>\n",
              "      <td>789</td>\n",
              "    </tr>\n",
              "    <tr>\n",
              "      <th>3</th>\n",
              "      <td>Monday</td>\n",
              "      <td>727</td>\n",
              "    </tr>\n",
              "    <tr>\n",
              "      <th>4</th>\n",
              "      <td>Wednesday</td>\n",
              "      <td>703</td>\n",
              "    </tr>\n",
              "    <tr>\n",
              "      <th>5</th>\n",
              "      <td>Sunday</td>\n",
              "      <td>55</td>\n",
              "    </tr>\n",
              "    <tr>\n",
              "      <th>6</th>\n",
              "      <td>Saturday</td>\n",
              "      <td>42</td>\n",
              "    </tr>\n",
              "  </tbody>\n",
              "</table>\n",
              "</div>\n",
              "      <button class=\"colab-df-convert\" onclick=\"convertToInteractive('df-750ac698-6d54-4fd2-93f8-e7ee790345e9')\"\n",
              "              title=\"Convert this dataframe to an interactive table.\"\n",
              "              style=\"display:none;\">\n",
              "        \n",
              "  <svg xmlns=\"http://www.w3.org/2000/svg\" height=\"24px\"viewBox=\"0 0 24 24\"\n",
              "       width=\"24px\">\n",
              "    <path d=\"M0 0h24v24H0V0z\" fill=\"none\"/>\n",
              "    <path d=\"M18.56 5.44l.94 2.06.94-2.06 2.06-.94-2.06-.94-.94-2.06-.94 2.06-2.06.94zm-11 1L8.5 8.5l.94-2.06 2.06-.94-2.06-.94L8.5 2.5l-.94 2.06-2.06.94zm10 10l.94 2.06.94-2.06 2.06-.94-2.06-.94-.94-2.06-.94 2.06-2.06.94z\"/><path d=\"M17.41 7.96l-1.37-1.37c-.4-.4-.92-.59-1.43-.59-.52 0-1.04.2-1.43.59L10.3 9.45l-7.72 7.72c-.78.78-.78 2.05 0 2.83L4 21.41c.39.39.9.59 1.41.59.51 0 1.02-.2 1.41-.59l7.78-7.78 2.81-2.81c.8-.78.8-2.07 0-2.86zM5.41 20L4 18.59l7.72-7.72 1.47 1.35L5.41 20z\"/>\n",
              "  </svg>\n",
              "      </button>\n",
              "      \n",
              "  <style>\n",
              "    .colab-df-container {\n",
              "      display:flex;\n",
              "      flex-wrap:wrap;\n",
              "      gap: 12px;\n",
              "    }\n",
              "\n",
              "    .colab-df-convert {\n",
              "      background-color: #E8F0FE;\n",
              "      border: none;\n",
              "      border-radius: 50%;\n",
              "      cursor: pointer;\n",
              "      display: none;\n",
              "      fill: #1967D2;\n",
              "      height: 32px;\n",
              "      padding: 0 0 0 0;\n",
              "      width: 32px;\n",
              "    }\n",
              "\n",
              "    .colab-df-convert:hover {\n",
              "      background-color: #E2EBFA;\n",
              "      box-shadow: 0px 1px 2px rgba(60, 64, 67, 0.3), 0px 1px 3px 1px rgba(60, 64, 67, 0.15);\n",
              "      fill: #174EA6;\n",
              "    }\n",
              "\n",
              "    [theme=dark] .colab-df-convert {\n",
              "      background-color: #3B4455;\n",
              "      fill: #D2E3FC;\n",
              "    }\n",
              "\n",
              "    [theme=dark] .colab-df-convert:hover {\n",
              "      background-color: #434B5C;\n",
              "      box-shadow: 0px 1px 3px 1px rgba(0, 0, 0, 0.15);\n",
              "      filter: drop-shadow(0px 1px 2px rgba(0, 0, 0, 0.3));\n",
              "      fill: #FFFFFF;\n",
              "    }\n",
              "  </style>\n",
              "\n",
              "      <script>\n",
              "        const buttonEl =\n",
              "          document.querySelector('#df-750ac698-6d54-4fd2-93f8-e7ee790345e9 button.colab-df-convert');\n",
              "        buttonEl.style.display =\n",
              "          google.colab.kernel.accessAllowed ? 'block' : 'none';\n",
              "\n",
              "        async function convertToInteractive(key) {\n",
              "          const element = document.querySelector('#df-750ac698-6d54-4fd2-93f8-e7ee790345e9');\n",
              "          const dataTable =\n",
              "            await google.colab.kernel.invokeFunction('convertToInteractive',\n",
              "                                                     [key], {});\n",
              "          if (!dataTable) return;\n",
              "\n",
              "          const docLinkHtml = 'Like what you see? Visit the ' +\n",
              "            '<a target=\"_blank\" href=https://colab.research.google.com/notebooks/data_table.ipynb>data table notebook</a>'\n",
              "            + ' to learn more about interactive tables.';\n",
              "          element.innerHTML = '';\n",
              "          dataTable['output_type'] = 'display_data';\n",
              "          await google.colab.output.renderOutput(dataTable, element);\n",
              "          const docLink = document.createElement('div');\n",
              "          docLink.innerHTML = docLinkHtml;\n",
              "          element.appendChild(docLink);\n",
              "        }\n",
              "      </script>\n",
              "    </div>\n",
              "  </div>\n",
              "  "
            ]
          },
          "metadata": {},
          "execution_count": 138
        }
      ]
    },
    {
      "cell_type": "code",
      "source": [
        "plt.figure(figsize=(15,6))\n",
        "plt.title('Most Frequent release date')\n",
        "sns.barplot(x='release_day',y='views',data=freq_rel_day)"
      ],
      "metadata": {
        "colab": {
          "base_uri": "https://localhost:8080/",
          "height": 422
        },
        "id": "468fmgVi6L09",
        "outputId": "ebc51123-04c0-46f6-d067-c0796be1cce9"
      },
      "execution_count": 139,
      "outputs": [
        {
          "output_type": "execute_result",
          "data": {
            "text/plain": [
              "<matplotlib.axes._subplots.AxesSubplot at 0x7fc080a4a110>"
            ]
          },
          "metadata": {},
          "execution_count": 139
        },
        {
          "output_type": "display_data",
          "data": {
            "text/plain": [
              "<Figure size 1080x432 with 1 Axes>"
            ],
            "image/png": "[encoded data removed]"
          },
          "metadata": {
            "needs_background": "light"
          }
        }
      ]
    },
    {
      "cell_type": "code",
      "source": [
        "\n",
        "df['publish_day'] = df['published_date'].apply(lambda x: x.weekday())\n",
        "df['publish_month']=df['published_date'].apply(lambda x: x.month)\n",
        "df['publish_year'] = df['published_date'].apply(lambda x: x.year)"
      ],
      "metadata": {
        "id": "f96U5Rgcj7Hi"
      },
      "execution_count": 140,
      "outputs": []
    },
    {
      "cell_type": "code",
      "source": [
        "#Here checking years having frequent release \n",
        "year_freq=df[['publish_year','views']].groupby('publish_year').agg({'views' : 'count'})\n",
        "year_freq=year_freq.sort_values('views',ascending=False)\n",
        "year_freq.reset_index(inplace=True)"
      ],
      "metadata": {
        "id": "BB_GWN1H6uB7"
      },
      "execution_count": 141,
      "outputs": []
    },
    {
      "cell_type": "code",
      "source": [
        "#Plotting the years having frequent release \n",
        "plt.figure(figsize=(15,10))\n",
        "sns.barplot(x='publish_year',y='views',data=year_freq)\n",
        "plt.title('Most frequent publish years')"
      ],
      "metadata": {
        "colab": {
          "base_uri": "https://localhost:8080/",
          "height": 639
        },
        "id": "fQnV1qwWjr4C",
        "outputId": "ca91d9e0-62a0-4957-c0f2-cd8c6408a22a"
      },
      "execution_count": 142,
      "outputs": [
        {
          "output_type": "execute_result",
          "data": {
            "text/plain": [
              "Text(0.5, 1.0, 'Most frequent publish years')"
            ]
          },
          "metadata": {},
          "execution_count": 142
        },
        {
          "output_type": "display_data",
          "data": {
            "text/plain": [
              "<Figure size 1080x720 with 1 Axes>"
            ],
            "image/png": "[encoded data removed]"
          },
          "metadata": {
            "needs_background": "light"
          }
        }
      ]
    },
    {
      "cell_type": "markdown",
      "source": [
        "2019 is most published year"
      ],
      "metadata": {
        "id": "XUfdPeHhkGsz"
      }
    },
    {
      "cell_type": "code",
      "source": [
        "\n",
        "pop_rel_day=df[['release_day','views']].groupby('release_day').agg({'views' : 'mean'})\n",
        "pop_rel_day=pop_rel_day.sort_values('views',ascending=False)\n",
        "pop_rel_day.reset_index(inplace=True)\n",
        "# Barplot to show released week days having maximum views.\n",
        "\n",
        "plt.figure(figsize=(10,6))\n",
        "plt.title('Released week days having maximum views')\n",
        "sns.barplot(x='release_day',y='views',data=pop_rel_day)"
      ],
      "metadata": {
        "colab": {
          "base_uri": "https://localhost:8080/",
          "height": 422
        },
        "id": "fcZ_KxG0oz19",
        "outputId": "61a56972-6a79-49ac-ff9e-3ca4c9a8e987"
      },
      "execution_count": 143,
      "outputs": [
        {
          "output_type": "execute_result",
          "data": {
            "text/plain": [
              "<matplotlib.axes._subplots.AxesSubplot at 0x7fc07c477590>"
            ]
          },
          "metadata": {},
          "execution_count": 143
        },
        {
          "output_type": "display_data",
          "data": {
            "text/plain": [
              "<Figure size 720x432 with 1 Axes>"
            ],
            "image/png": "[encoded data removed]"
          },
          "metadata": {
            "needs_background": "light"
          }
        }
      ]
    },
    {
      "cell_type": "code",
      "source": [
        "# Encoding of publish_month column with corresponding month name\n",
        "dict_month={1:'Jan',2:'Feb',3:'March',4:'April',5:'May',6:'June',7:'July',8:'Aug',9:'Sep',10:'Oct',11:'Nov',12:'Dec'}\n",
        "df['publish_month']=df['publish_month'].map(dict_month)"
      ],
      "metadata": {
        "id": "Q0DZPJoTkEpn"
      },
      "execution_count": 144,
      "outputs": []
    },
    {
      "cell_type": "code",
      "source": [
        "pop_month = df[['publish_month','views']].groupby('publish_month').agg({'views': 'mean'})\n",
        "pop_month = pop_month.sort_values('views',ascending = False)\n",
        "pop_month.reset_index(inplace=True)"
      ],
      "metadata": {
        "id": "IxQaXw8PkTqE"
      },
      "execution_count": 145,
      "outputs": []
    },
    {
      "cell_type": "code",
      "source": [
        "plt.figure(figsize=(15,8))\n",
        "plt.title('Most published month')\n",
        "sns.barplot(x='publish_month',y='views',data=pop_month)"
      ],
      "metadata": {
        "colab": {
          "base_uri": "https://localhost:8080/",
          "height": 531
        },
        "id": "8vaA0abSlZBk",
        "outputId": "7d965bbd-1bb2-4c35-c9e2-9bcf7b214c4e"
      },
      "execution_count": 146,
      "outputs": [
        {
          "output_type": "execute_result",
          "data": {
            "text/plain": [
              "<matplotlib.axes._subplots.AxesSubplot at 0x7fc07c41fd50>"
            ]
          },
          "metadata": {},
          "execution_count": 146
        },
        {
          "output_type": "display_data",
          "data": {
            "text/plain": [
              "<Figure size 1080x576 with 1 Axes>"
            ],
            "image/png": "[encoded data removed]"
          },
          "metadata": {
            "needs_background": "light"
          }
        }
      ]
    },
    {
      "cell_type": "code",
      "source": [
        "# Extracting the most popular release years w.r.t. average Views\n",
        "\n",
        "pop_rel_year=df[['release_year','views']].groupby('release_year').agg({'views' : 'mean'})\n",
        "pop_rel_year=pop_rel_year.sort_values('views',ascending=False)\n",
        "pop_rel_year.reset_index(inplace=True)\n",
        "# Barplot to show year which have maximum average views.\n",
        "\n",
        "plt.figure(figsize=(15,8))\n",
        "plt.title('Released years having maximum average views')\n",
        "sns.barplot(x='release_year',y='views',data=pop_rel_year)"
      ],
      "metadata": {
        "colab": {
          "base_uri": "https://localhost:8080/",
          "height": 531
        },
        "id": "8ZkABGiGpI3S",
        "outputId": "0c7ac8ec-6b37-4d5e-b8bc-fa063a167ffb"
      },
      "execution_count": 147,
      "outputs": [
        {
          "output_type": "execute_result",
          "data": {
            "text/plain": [
              "<matplotlib.axes._subplots.AxesSubplot at 0x7fc07c4bec50>"
            ]
          },
          "metadata": {},
          "execution_count": 147
        },
        {
          "output_type": "display_data",
          "data": {
            "text/plain": [
              "<Figure size 1080x576 with 1 Axes>"
            ],
            "image/png": "[encoded data removed]"
          },
          "metadata": {
            "needs_background": "light"
          }
        }
      ]
    },
    {
      "cell_type": "markdown",
      "source": [
        "# **Analyze of Numerical variables**"
      ],
      "metadata": {
        "id": "qfdRkL6sIIaz"
      }
    },
    {
      "cell_type": "markdown",
      "source": [
        "What is Numerical Data\n",
        "\n",
        "Numerical data is a data type expressed in numbers, rather than natural language description. Sometimes called quantitative data, numerical data is always collected in number form. Numerical data differentiates itself from other number form data types with its ability to carry out arithmetic operations with these numbers"
      ],
      "metadata": {
        "id": "ZijoYIy0IGDG"
      }
    },
    {
      "cell_type": "code",
      "source": [
        "#assign the numerical coulmn to variavle\n",
        "numerical_columns=list(df.select_dtypes(['int64','float64']).columns)\n",
        "numerical_features=pd.Index(numerical_columns)\n",
        "numerical_features"
      ],
      "metadata": {
        "colab": {
          "base_uri": "https://localhost:8080/"
        },
        "id": "pRrmo9LRltNv",
        "outputId": "2d207f00-927e-498a-e213-9a13a3745cdf"
      },
      "execution_count": 148,
      "outputs": [
        {
          "output_type": "execute_result",
          "data": {
            "text/plain": [
              "Index(['talk_id', 'views', 'comments', 'duration', 'release_month',\n",
              "       'release_year', 'publish_day', 'publish_year'],\n",
              "      dtype='object')"
            ]
          },
          "metadata": {},
          "execution_count": 148
        }
      ]
    },
    {
      "cell_type": "code",
      "source": [
        "#printing displots to analyze the distribution of all numerical features\n",
        "for col in numerical_features:\n",
        "  plt.figure(figsize=(10,6))\n",
        "  sns.distplot(x=df[col])\n",
        "  plt.xlabel(col)\n",
        "plt.show()"
      ],
      "metadata": {
        "colab": {
          "base_uri": "https://localhost:8080/",
          "height": 1000
        },
        "id": "K4gI6WHQIfIw",
        "outputId": "6b4233ad-3ecb-4af8-c5fe-7bd1f80fc3fe"
      },
      "execution_count": 149,
      "outputs": [
        {
          "output_type": "display_data",
          "data": {
            "text/plain": [
              "<Figure size 720x432 with 1 Axes>"
            ],
            "image/png": "[encoded data removed]"
          },
          "metadata": {
            "needs_background": "light"
          }
        },
        {
          "output_type": "display_data",
          "data": {
            "text/plain": [
              "<Figure size 720x432 with 1 Axes>"
            ],
            "image/png": "[encoded data removed]"
          },
          "metadata": {
            "needs_background": "light"
          }
        },
        {
          "output_type": "display_data",
          "data": {
            "text/plain": [
              "<Figure size 720x432 with 1 Axes>"
            ],
            "image/png": "[encoded data removed]"
          },
          "metadata": {
            "needs_background": "light"
          }
        },
        {
          "output_type": "display_data",
          "data": {
            "text/plain": [
              "<Figure size 720x432 with 1 Axes>"
            ],
            "image/png": "[encoded data removed]"
          },
          "metadata": {
            "needs_background": "light"
          }
        },
        {
          "output_type": "display_data",
          "data": {
            "text/plain": [
              "<Figure size 720x432 with 1 Axes>"
            ],
            "image/png": "[encoded data removed]"
          },
          "metadata": {
            "needs_background": "light"
          }
        },
        {
          "output_type": "display_data",
          "data": {
            "text/plain": [
              "<Figure size 720x432 with 1 Axes>"
            ],
            "image/png": "[encoded data removed]"
          },
          "metadata": {
            "needs_background": "light"
          }
        },
        {
          "output_type": "display_data",
          "data": {
            "text/plain": [
              "<Figure size 720x432 with 1 Axes>"
            ],
            "image/png": "[encoded data removed]"
          },
          "metadata": {
            "needs_background": "light"
          }
        },
        {
          "output_type": "display_data",
          "data": {
            "text/plain": [
              "<Figure size 720x432 with 1 Axes>"
            ],
            "image/png": "[encoded data removed]"
          },
          "metadata": {
            "needs_background": "light"
          }
        }
      ]
    },
    {
      "cell_type": "code",
      "source": [
        "# Distplot to show distribution of views column\n",
        "\n",
        "plt.figure(figsize=(10,5))\n",
        "sns.distplot(df['views'])\n",
        "print(\"Skewness: %f\" % df['views'].skew())\n",
        "print(\"Kurtosis: %f\" % df['views'].kurt())"
      ],
      "metadata": {
        "colab": {
          "base_uri": "https://localhost:8080/",
          "height": 380
        },
        "id": "LbTTLzSIInEi",
        "outputId": "08b0c672-7a9b-493f-a0ca-10454eb5317a"
      },
      "execution_count": 150,
      "outputs": [
        {
          "output_type": "stream",
          "name": "stdout",
          "text": [
            "Skewness: 8.185744\n",
            "Kurtosis: 98.737918\n"
          ]
        },
        {
          "output_type": "display_data",
          "data": {
            "text/plain": [
              "<Figure size 720x360 with 1 Axes>"
            ],
            "image/png": "[encoded data removed]"
          },
          "metadata": {
            "needs_background": "light"
          }
        }
      ]
    },
    {
      "cell_type": "markdown",
      "source": [
        "**Numerical vs.views**"
      ],
      "metadata": {
        "id": "XfyJXgBpJokU"
      }
    },
    {
      "cell_type": "code",
      "source": [
        "#plot to analyze the relationship b/w speakers and views\n",
        "df.groupby('speaker_1').mean()['views'].plot()"
      ],
      "metadata": {
        "colab": {
          "base_uri": "https://localhost:8080/",
          "height": 308
        },
        "id": "S-_Qm3bcI5Jv",
        "outputId": "3bb53f82-e691-48a3-c12f-d0d8d00270db"
      },
      "execution_count": 151,
      "outputs": [
        {
          "output_type": "execute_result",
          "data": {
            "text/plain": [
              "<matplotlib.axes._subplots.AxesSubplot at 0x7fc07c722110>"
            ]
          },
          "metadata": {},
          "execution_count": 151
        },
        {
          "output_type": "display_data",
          "data": {
            "text/plain": [
              "<Figure size 432x288 with 1 Axes>"
            ],
            "image/png": "[encoded data removed]"
          },
          "metadata": {
            "needs_background": "light"
          }
        }
      ]
    },
    {
      "cell_type": "code",
      "source": [
        "# let's crate new column speaker_1_avg_views.\n",
        "\n",
        "pop_speaker=df.groupby('speaker_1').agg({'views' : 'mean'}).sort_values(['views'],ascending=False)\n",
        "pop_speaker=pop_speaker.to_dict()\n",
        "pop_speaker=pop_speaker.values()\n",
        "pop_speaker=  list(pop_speaker)[0]\n",
        "df['speaker_1_avg_views']=df['speaker_1'].map(pop_speaker)"
      ],
      "metadata": {
        "id": "PLoBNpbyKD9b"
      },
      "execution_count": 152,
      "outputs": []
    },
    {
      "cell_type": "code",
      "source": [
        "# Distribution of speaker_1_avg_views column\n",
        "\n",
        "plt.figure(figsize=(10,5))\n",
        "sns.distplot(df['speaker_1_avg_views'])"
      ],
      "metadata": {
        "colab": {
          "base_uri": "https://localhost:8080/",
          "height": 363
        },
        "id": "vzL8S4ioKWQY",
        "outputId": "d3c92611-c89a-4c92-a917-fa5435928b9b"
      },
      "execution_count": 153,
      "outputs": [
        {
          "output_type": "execute_result",
          "data": {
            "text/plain": [
              "<matplotlib.axes._subplots.AxesSubplot at 0x7fc07baa7a50>"
            ]
          },
          "metadata": {},
          "execution_count": 153
        },
        {
          "output_type": "display_data",
          "data": {
            "text/plain": [
              "<Figure size 720x360 with 1 Axes>"
            ],
            "image/png": "[encoded data removed]"
          },
          "metadata": {
            "needs_background": "light"
          }
        }
      ]
    },
    {
      "cell_type": "code",
      "source": [
        "#plot to analyze relationship b/w occupations vs views\n",
        "df.groupby('occupations').mean()['views'].plot()\n",
        "plt.figure(figsize=(15,7))"
      ],
      "metadata": {
        "colab": {
          "base_uri": "https://localhost:8080/",
          "height": 325
        },
        "id": "7bo5pWEQKZ2L",
        "outputId": "862b70cf-dd84-4068-ac03-fa7c4585cff9"
      },
      "execution_count": 154,
      "outputs": [
        {
          "output_type": "execute_result",
          "data": {
            "text/plain": [
              "<Figure size 1080x504 with 0 Axes>"
            ]
          },
          "metadata": {},
          "execution_count": 154
        },
        {
          "output_type": "display_data",
          "data": {
            "text/plain": [
              "<Figure size 432x288 with 1 Axes>"
            ],
            "image/png": "[encoded data removed]"
          },
          "metadata": {
            "needs_background": "light"
          }
        },
        {
          "output_type": "display_data",
          "data": {
            "text/plain": [
              "<Figure size 1080x504 with 0 Axes>"
            ]
          },
          "metadata": {}
        }
      ]
    },
    {
      "cell_type": "code",
      "source": [
        "# Applying Eval funcion on topics column\n",
        "\n",
        "df['topics'] = df.apply(lambda row: eval(row['topics']), axis=1)\n",
        "# Creating a new feature num_of_tags\n",
        "\n",
        "df['num_of_tags'] = df.apply(lambda x: len(x['topics']), axis=1)"
      ],
      "metadata": {
        "id": "yi6F__pFQu0f"
      },
      "execution_count": 155,
      "outputs": []
    },
    {
      "cell_type": "code",
      "source": [
        "# Distplot to show distribution of num_of_tags feature\n",
        "\n",
        "plt.figure(figsize=(12,8))\n",
        "sns.distplot(df['num_of_tags'])"
      ],
      "metadata": {
        "colab": {
          "base_uri": "https://localhost:8080/",
          "height": 515
        },
        "id": "piWDkI-AR5TL",
        "outputId": "d3846a4c-291a-4f8f-ddde-7a0edc151e25"
      },
      "execution_count": 156,
      "outputs": [
        {
          "output_type": "execute_result",
          "data": {
            "text/plain": [
              "<matplotlib.axes._subplots.AxesSubplot at 0x7fc07b74ab10>"
            ]
          },
          "metadata": {},
          "execution_count": 156
        },
        {
          "output_type": "display_data",
          "data": {
            "text/plain": [
              "<Figure size 864x576 with 1 Axes>"
            ],
            "image/png": "[encoded data removed]"
          },
          "metadata": {
            "needs_background": "light"
          }
        }
      ]
    },
    {
      "cell_type": "code",
      "source": [
        "# Applying Eval funcion on available_lang column\n",
        "\n",
        "df['available_lang'] = df.apply(lambda row: eval(row['available_lang']), axis=1)\n",
        "# Creating a new feature num_of_lang\n",
        "\n",
        "df['num_of_lang'] = df.apply(lambda x: len(x['available_lang']), axis=1)"
      ],
      "metadata": {
        "id": "MKnJYXPHTbAF"
      },
      "execution_count": 157,
      "outputs": []
    },
    {
      "cell_type": "code",
      "source": [
        "plt.figure(figsize=(15,7))\n",
        "sns.distplot(df['num_of_lang'])"
      ],
      "metadata": {
        "colab": {
          "base_uri": "https://localhost:8080/",
          "height": 460
        },
        "id": "Dlei6W_uT-bI",
        "outputId": "d7038d5e-a0fd-4bc7-85ad-e6864bf93b9e"
      },
      "execution_count": 158,
      "outputs": [
        {
          "output_type": "execute_result",
          "data": {
            "text/plain": [
              "<matplotlib.axes._subplots.AxesSubplot at 0x7fc07be6ed90>"
            ]
          },
          "metadata": {},
          "execution_count": 158
        },
        {
          "output_type": "display_data",
          "data": {
            "text/plain": [
              "<Figure size 1080x504 with 1 Axes>"
            ],
            "image/png": "[encoded data removed]"
          },
          "metadata": {
            "needs_background": "light"
          }
        }
      ]
    },
    {
      "cell_type": "code",
      "source": [
        "df['related_talks']=df.apply(lambda row: eval(row['related_talks']),axis = 1)\n",
        "\n"
      ],
      "metadata": {
        "id": "wbioMREIWRAN"
      },
      "execution_count": 159,
      "outputs": []
    },
    {
      "cell_type": "code",
      "source": [
        "df['related_talks'][0]"
      ],
      "metadata": {
        "colab": {
          "base_uri": "https://localhost:8080/"
        },
        "id": "1MScG22TWKT3",
        "outputId": "c7dc492c-b9f9-457d-fd79-7ce1f33a1f22"
      },
      "execution_count": 160,
      "outputs": [
        {
          "output_type": "execute_result",
          "data": {
            "text/plain": [
              "{243: 'New thinking on the climate crisis',\n",
              " 547: 'The business logic of sustainability',\n",
              " 2093: 'The state of the climate — and what we might do about it',\n",
              " 2339: \"Climate change is happening. Here's how we adapt\",\n",
              " 29968: 'The most important thing you can do to fight climate change: talk about it',\n",
              " 54715: 'How we can turn the tide on climate'}"
            ]
          },
          "metadata": {},
          "execution_count": 160
        }
      ]
    },
    {
      "cell_type": "code",
      "source": [
        "event_list = list(df.event.unique())\n",
        "print(event_list)"
      ],
      "metadata": {
        "colab": {
          "base_uri": "https://localhost:8080/"
        },
        "id": "Lt3xsDfFXE_8",
        "outputId": "83bc6f12-5c42-4fca-971c-1b692e94f35e"
      },
      "execution_count": 161,
      "outputs": [
        {
          "output_type": "stream",
          "name": "stdout",
          "text": [
            "['TED2006', 'TED2004', 'TED2005', 'TEDGlobal 2005', 'TEDSalon 2006', 'TED2003', 'TED2007', 'TED2002', 'TEDGlobal 2007', 'TED2001', 'TEDSalon 2007 Hot Science', 'Skoll World Forum 2007', 'TED2008', 'TED1984', 'TED1990', 'DLD 2007', 'EG 2007', 'TED1998', 'LIFT 2007', 'TED Prize Wish', 'TEDSalon 2009 Compassion', 'Chautauqua Institution', 'Serious Play 2008', 'Taste3 2008', 'TED in the Field', 'TED2009', 'EG 2008', 'Elizabeth G. Anderson School', 'TEDxUSC', 'TED@State', 'TEDGlobal 2009', 'TEDxKC', 'TEDIndia 2009', 'TEDSalon London 2009', 'TEDxTC', 'TEDMED 2009', 'TEDxSMU', 'TEDxBoston 2009', 'TEDxBerlin', 'TED2010', 'TEDxAmsterdam', 'TEDxNASA', 'Mission Blue Voyage', 'TEDxPuget Sound', 'TEDxNYED', 'TEDSalon London 2010', 'TEDxEdmonton', 'TED@Cannes', 'TEDxAtlanta', 'TEDxEast', 'TEDxOilSpill', 'TEDGlobal 2010', 'TEDxBoston 2010', 'Business Innovation Factory', 'TEDxYYC', 'TEDxChange', 'TED Senior Fellows at TEDGlobal 2010', 'TEDxTelAviv 2010', 'TEDxDU 2010', 'TEDxMidwest', 'TEDxHouston', 'TEDxNextGenerationAsheville', 'TEDxRotterdam 2010', 'TEDWomen 2010', 'TEDxMidAtlantic', 'TEDxSydney', 'TEDSalon NY2011', 'TEDxRainier', 'TEDxToronto 2010', 'TEDxPSU', 'TEDMED 2010', 'TEDxGreatPacificGarbagePatch', 'TEDxGöteborg 2010', 'TEDxToronto 2011', 'TED@MotorCity', 'TEDxPennQuarter', 'TEDPrize@UN', 'TED2011', 'TEDxPeachtree', 'TEDxDubai', 'TEDActive 2011', 'INK Conference', 'TEDxCaltech', 'TEDxWarwick', 'TEDxSiliconValley', 'TEDxNorthwesternU', 'TEDxMaastricht', 'TEDxBG', 'Full Spectrum Auditions', 'TEDSalon London Spring 2011', 'TEDGlobal 2011', 'TEDxBoston 2011', 'TEDxParis 2010', 'TEDxUIUC', 'TEDxThessaloniki', \"TEDxO'Porto\", 'TEDxBloomington', 'TEDxSantaCruz', 'TEDxWaterloo', 'TEDxManhattanBeach', 'TEDxKids@Brussels', 'TEDxTeen', 'TEDxBoulder 2011', 'TEDxManhattan', 'TEDxOrangeCoast', 'TEDxBrussels', 'TEDMED 2011', 'TEDxKrakow', 'TEDxCMU', 'TEDxVienna', 'TEDxDU 2011', 'TEDxDirigo', 'TEDxCanberra', 'TEDxRC2', 'TEDxWomen 2011', 'TEDxZurich 2011', 'TEDSalon NY2012', 'TEDxMIA', 'TEDxNASA@SiliconValley', 'TEDxYouth@Manchester', 'TED1994', 'TEDxSanMigueldeAllende', 'TEDxVancouver', 'TEDSalon London Fall 2011', 'TEDxIslay', 'TEDxAmericanRiviera', 'TEDxDublin', 'TEDxVictoria', 'TEDxPhoenix', 'TEDxAsheville', 'TEDYouth 2011', 'TED2012', 'TEDxUW', 'TED-Ed', 'TEDxCambridge', 'TEDxPortofSpain', 'TEDxNewy', 'TEDxPittsburgh', 'TEDxOslo', 'TEDxConcordiaUPortland', 'TEDxAthens', 'TED@SXSWi', 'TEDxAustin', 'TEDxMonterey', 'TEDxSummit', 'TEDxBerkeley', 'TEDxHogeschoolUtrecht', 'TEDxSanJoseCA', 'TEDxSussexUniversity', 'TEDMED 2012', 'TEDSalon London Spring 2012', 'TEDxGrandRapids', 'TEDxABQ', 'TEDxSanDiego', 'TEDxLondonBusinessSchool', 'TEDGlobal 2012', 'TEDxStanford', 'TEDxImperialCollege', 'TEDxBoston 2012', 'TEDxObserver', 'TEDxUCL', 'TEDxExeter', 'TEDxMaui', 'TEDxHousesOfParliament', 'TED@London', 'TEDxWinnipeg', 'TED@Bangalore', 'TED@New York', 'TEDxCHUV', 'TEDxSF', 'TEDxEQChCh', 'TEDxHelvetia', 'TED@Nairobi', 'TEDxGeorgetown', 'TED@Johannesburg', 'TEDxZurich 2012', 'TEDSalon London Fall 2012', 'TEDxWitsUniversity', 'TEDxJaffa 2012', 'TEDxWomen 2012', 'TEDxHampshireCollege', 'TEDxGoodenoughCollege', 'TEDxGlasgow', 'TEDxBeaconStreet', 'TEDxDelft', 'TEDSalon NY2013', 'TEDxSeoul', 'TEDxConcorde', 'TED2013', 'TEDYouth 2012', 'TEDxSeattleU', 'TEDxRiodelaPlata', 'TED@Intel', 'TEDActive 2013', 'TED Talks Education', 'TEDxMiamiUniversity', 'TEDxFiDiWomen', 'TEDxDeExtinction', 'TEDMED 2013', 'TEDGlobal 2013', 'TEDxCERN', 'TEDxNijmegen', 'TEDxColbyCollege', 'TEDxDanubia', 'TEDxTokyo', 'TEDxBoston', 'TEDxKids@Ambleside', 'TEDCity2.0', 'TEDxUdeM', 'TED@BCG Singapore', 'TED@NYC', 'TEDWomen 2013', 'TEDYouth 2013', 'TEDxBratislava', 'TED@BCG San Francisco', 'TEDxMet', 'TEDxMarin', 'TEDxBeirut', 'TED@State Street Boston', 'TEDxCaFoscariU', 'TEDxJaffa 2013', 'TEDxZurich 2013', 'TED Fellows Retreat 2013', 'TEDxParis 2012', 'TEDxBoulder', 'TED2014', 'TED Studio', 'TEDxMidAtlantic 2013', 'TEDxPerth', 'TEDxUMKC', 'TEDxLeuvenSalon', 'TEDActive 2014', 'TEDSalon NY2014', 'TEDxUofM', 'TEDxColumbus', 'TEDSalon Berlin 2014', 'TEDxKyoto', 'TEDxClaremontColleges', 'TEDxMonroeCorrectionalComplex', 'TEDxBrighton', 'TEDxSonomaCounty', 'TEDxAmazonia', 'TED@Unilever', 'TEDMED 2014', 'TEDGlobal 2014', 'TED@IBM', 'TEDxNewYork', 'TED@BCG Berlin', 'TEDxArendal', 'TEDxNorrkoping', 'TEDYouth 2014', 'TED@State Street London', 'TEDxPlaceDesNations', 'TEDxBinghamtonUniversity', 'TEDxLinnaeusUniversity', 'TEDxSBU', 'TED2015', 'TEDxMuncyStatePrison', 'TEDxSouthBank', 'TEDWomen 2015', 'TEDSalon NY2015', 'TEDGlobalLondon', 'TEDxIndianapolis', 'TED@BCG London', 'TEDxChapmanU', 'TEDxGoldenGatePark 2012', 'TEDxUF', 'TEDxBend', 'TEDGlobal>London', 'TEDxPenn', 'TEDxProvidence', 'TED Fellows Retreat 2015', 'TED Fellows 2015', 'TEDxCannes', 'Mission Blue II', 'TED@UPS', 'TEDxToulouse', 'TEDYouth 2015', 'TEDxGroningen', 'TEDGlobal>Geneva', 'TEDxYouth@Sydney', 'TEDxAmoskeagMillyard', 'TEDMED 2015', 'TEDxUM', 'TEDxCreativeCoast', 'TED2016', 'TED Talks Live', 'Global Witness', 'TEDActive 2015', 'TEDxGatewayWomen', 'TEDxEastEnd', 'TED@BCG Paris', 'TEDSummit', 'TEDxDesMoines', 'TEDxColoradoSprings', 'TEDNYC', 'TEDxUniversityofNevada', 'TEDxMontreal', 'TEDxIndianaUniversity', 'TEDWomen 2016', 'TED Residency', 'TEDxToronto', 'TEDxMtHood', 'TEDxGhent', 'TEDxSaltLakeCity', 'TEDxOmaha', 'TEDxSFU', 'TEDMED 2016', 'TEDxPortland', 'TEDxManchester', 'TEDxMileHigh', 'TED Dialogues', 'TEDxNatick', 'TEDxFrankfurt', 'TED-Ed Weekend', 'TEDxColumbusWomen', 'TEDxEuston', 'TEDxSanQuentin', 'TEDLagos Ideas Search', 'TEDxVirginiaTech', 'TED2017', 'TEDxSkoll', 'TEDNairobi Ideas Search', 'TEDxFulbrightDublin', 'TEDxOrcasIsland', 'TEDxPennsylvaniaAvenue', 'TEDxCrenshaw', 'TEDxHamburg', 'TEDGlobal 2017', 'TEDxZurich', 'TEDGlobal>NYC', 'TEDxCharlottesville', 'TED@BCG Milan', 'TEDWomen 2017', 'TEDxPasadena', 'TEDxMileHighWomen', 'TED Salon Brightline Initiative', 'TEDxYouth@Bath', 'TEDxStormontWomen', 'TED@Tommy', 'TEDxLeuven', 'TED Talks India', 'TED@Merck KGaA, Darmstadt, Germany', 'TEDxVermilionStreet', 'TED@Westpac', 'TEDxPaloAlto', 'TEDxYorkU', 'TEDxOhioStateUniversity', 'TEDMED 2017', 'TEDxSnoIsleLibraries', 'TEDxUppsalaUniversity', 'TEDxUniversityofMississippi', 'Small Thing Big Idea', 'TEDxMalagueta', 'TEDxCoconutGrove', 'TEDxTysons', 'TEDxBerkleeValencia', 'TEDxHull', 'Torchbearers', 'TED2018', 'TEDxMidAtlantic 2017', 'TEDxLincolnSquare', 'TEDxMadrid', 'TEDxParis', 'TEDxLSU', 'TED en Español en NYC', 'DIY Neuroscience', 'TEDxAustinWomen', 'TEDxFIU', 'TEDxUCDavis', 'TEDxUIdaho', 'TEDxVCU', 'TEDxLondon', 'TEDxKakumaCamp', 'TEDxOrlando', 'TEDxYouth@Beaconstreet', 'TEDxKlagenfurt', 'TED Salon Optum', 'TEDxFondduLac', 'TEDxMemphis', 'TEDxLivoniaCCLibrary', 'TEDxGalway', 'TEDxBroadway', 'TED Salon Verizon', 'TEDxDePaulUniversity', 'TED Salon Samsung', 'We the Future', 'TEDxUofT', 'TED@BCG Toronto', 'TEDxVeniceBeach', 'TEDxGateway', 'TEDxUWLaCrosse', 'TEDxSanFrancisco', 'TED Salon Zebra Technologies', 'TED Salon: Radical Craft', 'TEDWomen 2018', 'TEDxUGA', 'TEDxBrisbane', 'TED Salon: Belonging', 'TEDxPurdueU', 'TEDxStockholm', 'TEDxSalford', 'TEDxCoventGardenWomen', 'The Way We Work', 'TEDMED 2018', 'TED Salon Doha Debates', 'TEDxNantes', 'TED Salon: Education Everywhere', 'TED Salon U.S. Air Force', 'TEDxUHasselt', 'TEDxProvincetown', 'TEDxAmsterdamWomen', 'TEDxAarhus', 'TEDxSeattle', 'TEDxAuckland', 'TEDxShimizu', 'TED2019', 'Arbejdsglaede Live', 'TEDxCreightonU', 'TEDxAlbertopolis', 'TEDxRapidCity', 'TEDxCuauhtémoc', 'TEDxTaipei', 'TEDxBeaconStreetSalon', 'TEDxJacksonHole', 'TED Salon The Macallan', 'TEDxMünchen', 'TEDSummit 2019', 'TEDxWanChai', 'TEDxYouth@München', 'TEDxFergusonLibrary', 'TED Salon Border Stories', 'TEDxYouth@Valladolid', 'TED@DuPont', 'TEDxBasel', 'TEDxJacksonville', 'TED@BCG Mumbai', 'TEDxRiga', 'TED Talks India: Nayi Baat', 'TED Masterclass', 'TED@NAS', 'TEDxSantaClaraUniversity', 'TEDWomen 2019', 'Countdown', 'TEDxChristchurch', 'TEDxNashville', 'TED@WellsFargo', 'Currently', 'TEDxUCLA', 'TEDxEasthamptonWomen', 'TEDxCordoba', 'The TED Interview', 'TEDxStCloud', 'TED Connects', 'TEDxEindhoven', 'TEDxQueensU', 'TEDxDetroit', 'TEDxTufts', 'TED2020: The Prequel']\n"
          ]
        }
      ]
    },
    {
      "cell_type": "code",
      "source": [
        "# Creating new column called event category\n",
        "df['event_category'] = 'Other'\n",
        "# categorising each record into the new event_category column according to their event\n",
        "for i in range(len(df)):\n",
        "    if df['event'][i][0:5]=='TED20':\n",
        "        df['event_category'][i] = 'TED2000s'\n",
        "    elif df['event'][i][0:6]=='TED-Ed':\n",
        "        df['event_category'][i] = 'TED-Ed'\n",
        "    elif df['event'][i][0:5]=='TED19':\n",
        "        df['event_category'][i] = 'TED1900s'\n",
        "    elif df['event'][i][0:4]=='TEDx':\n",
        "        df['event_category'][i] = \"TEDx\"\n",
        "    elif df['event'][i][0:7]=='TED@BCG':\n",
        "        df['event_category'][i] = 'TED@BCG'\n",
        "    elif df['event'][i][0:4]=='TED@':\n",
        "        df['event_category'][i] = \"TED@\"\n",
        "    elif df['event'][i][0:8]=='TEDSalon':\n",
        "        df['event_category'][i] = \"TEDSalon\"\n",
        "    elif df['event'][i][0:9]=='TEDGlobal':\n",
        "        df['event_category'][i] = 'TEDGlobal'\n",
        "    elif df['event'][i][0:8]=='TEDWomen':\n",
        "        df['event_category'][i] = 'TEDWomen'\n",
        "    elif df['event'][i][0:6]=='TEDMED':\n",
        "        df['event_category'][i] = 'TEDMED'\n",
        "    elif df['event'][i][0:3]=='TED':\n",
        "        df['event_category'][i] = 'TEDOther'"
      ],
      "metadata": {
        "id": "BRFeUEjQXqZc"
      },
      "execution_count": 162,
      "outputs": []
    },
    {
      "cell_type": "code",
      "source": [
        "df.event_category.value_counts()"
      ],
      "metadata": {
        "colab": {
          "base_uri": "https://localhost:8080/"
        },
        "id": "zp0HfeE8YBUj",
        "outputId": "65d5540c-5e04-48e2-c0ed-2c6cf14419a9"
      },
      "execution_count": 163,
      "outputs": [
        {
          "output_type": "execute_result",
          "data": {
            "text/plain": [
              "TED2000s     1178\n",
              "TEDx          696\n",
              "TED-Ed        561\n",
              "TEDGlobal     516\n",
              "TEDOther      349\n",
              "TEDWomen      194\n",
              "Other         144\n",
              "TED@          128\n",
              "TEDMED         92\n",
              "TEDSalon       79\n",
              "TED@BCG        59\n",
              "TED1900s        9\n",
              "Name: event_category, dtype: int64"
            ]
          },
          "metadata": {},
          "execution_count": 163
        }
      ]
    },
    {
      "cell_type": "code",
      "source": [
        "unique_topics=[]\n",
        "for i in range(0,len(df)):\n",
        "  temp = df['topics'][i]\n",
        "  for ele in temp:\n",
        "    if(ele not in unique_topics):\n",
        "      unique_topics.append(ele)"
      ],
      "metadata": {
        "id": "HxkJ3hZrJuNC"
      },
      "execution_count": 164,
      "outputs": []
    },
    {
      "cell_type": "code",
      "source": [
        "#extracting avg views wrt topic\n",
        "unique_topics_avg_view_dict={}\n",
        "for topic in unique_topics:\n",
        "  temp=0\n",
        "  count=0\n",
        "  for i in range(0,len(df)):\n",
        "    temp2=df['topics'][i]\n",
        "    if(topic in temp2):\n",
        "      temp+=df['views'][i]\n",
        "      count+=1\n",
        "  unique_topics_avg_view_dict[topic]=temp//count\n",
        "    \n",
        "topics_wise_avg_views=[]\n",
        "for i in range(0,len(df)):\n",
        "  temp=0\n",
        "  temp_topic=df['topics'][i]\n",
        "  for ele in temp_topic:\n",
        "    temp+=unique_topics_avg_view_dict[ele]\n",
        "  topics_wise_avg_views.append(temp//len(temp_topic))\n",
        "\n",
        "se = pd.Series(topics_wise_avg_views)\n",
        "df['topics_wise_avg_views'] = se.values"
      ],
      "metadata": {
        "id": "Iht_LlywKo3m"
      },
      "execution_count": 165,
      "outputs": []
    },
    {
      "cell_type": "code",
      "source": [
        "df['topics_wise_avg_views']"
      ],
      "metadata": {
        "id": "8CLkXkJaMmE6",
        "outputId": "9954dbfa-5300-418f-8769-64c47c628788",
        "colab": {
          "base_uri": "https://localhost:8080/"
        }
      },
      "execution_count": 166,
      "outputs": [
        {
          "output_type": "execute_result",
          "data": {
            "text/plain": [
              "0       1750846\n",
              "1       2290338\n",
              "2       1915719\n",
              "3       1642100\n",
              "4       2904226\n",
              "         ...   \n",
              "4000    2134416\n",
              "4001    2343639\n",
              "4002    1805407\n",
              "4003    1978146\n",
              "4004    1877477\n",
              "Name: topics_wise_avg_views, Length: 4005, dtype: int64"
            ]
          },
          "metadata": {},
          "execution_count": 166
        }
      ]
    },
    {
      "cell_type": "code",
      "source": [
        "df['related_views']=0"
      ],
      "metadata": {
        "id": "snXBm-UeMqJy"
      },
      "execution_count": 167,
      "outputs": []
    },
    {
      "cell_type": "code",
      "source": [
        "for index, row in df.iterrows():\n",
        "    id_list=list(row['related_talks'].keys())\n",
        "    temp=0\n",
        "    for i in range(len(df)):\n",
        "      if (df.loc[i,'talk_id']) in id_list:\n",
        "        temp+=df.loc[i,'views']\n",
        "\n",
        "    df.loc[index,'related_views']=temp//6"
      ],
      "metadata": {
        "id": "eeQxUZrdM4Ty"
      },
      "execution_count": 168,
      "outputs": []
    },
    {
      "cell_type": "code",
      "source": [
        "plt.figure(figsize=(10,5))\n",
        "sns.distplot(df['related_views'])"
      ],
      "metadata": {
        "id": "bQdC6004N0G9",
        "outputId": "9281d060-f766-481d-f99f-25f97cff0c3d",
        "colab": {
          "base_uri": "https://localhost:8080/",
          "height": 363
        }
      },
      "execution_count": 169,
      "outputs": [
        {
          "output_type": "execute_result",
          "data": {
            "text/plain": [
              "<matplotlib.axes._subplots.AxesSubplot at 0x7fc07b6ca310>"
            ]
          },
          "metadata": {},
          "execution_count": 169
        },
        {
          "output_type": "display_data",
          "data": {
            "text/plain": [
              "<Figure size 720x360 with 1 Axes>"
            ],
            "image/png": "[encoded data removed]"
          },
          "metadata": {
            "needs_background": "light"
          }
        }
      ]
    },
    {
      "cell_type": "markdown",
      "source": [
        "# Data **Cleaning**"
      ],
      "metadata": {
        "id": "W-7A9jfSYRRA"
      }
    },
    {
      "cell_type": "code",
      "source": [
        "# Printing total number of missing values.\n",
        "\n",
        "df.isna().sum()"
      ],
      "metadata": {
        "colab": {
          "base_uri": "https://localhost:8080/"
        },
        "id": "VKXF7MNJppWp",
        "outputId": "1ba74bdd-2548-4ef2-b16e-fc01bdc69205"
      },
      "execution_count": 170,
      "outputs": [
        {
          "output_type": "execute_result",
          "data": {
            "text/plain": [
              "talk_id                    0\n",
              "title                      0\n",
              "speaker_1                  0\n",
              "all_speakers               4\n",
              "occupations                0\n",
              "about_speakers           503\n",
              "views                      0\n",
              "recorded_date              1\n",
              "published_date             0\n",
              "event                      0\n",
              "native_lang                0\n",
              "available_lang             0\n",
              "comments                 655\n",
              "duration                   0\n",
              "topics                     0\n",
              "related_talks              0\n",
              "url                        0\n",
              "description                0\n",
              "transcript                 0\n",
              "release_day                0\n",
              "release_month              0\n",
              "release_year               0\n",
              "publish_day                0\n",
              "publish_month              0\n",
              "publish_year               0\n",
              "speaker_1_avg_views        0\n",
              "num_of_tags                0\n",
              "num_of_lang                0\n",
              "event_category             0\n",
              "topics_wise_avg_views      0\n",
              "related_views              0\n",
              "dtype: int64"
            ]
          },
          "metadata": {},
          "execution_count": 170
        }
      ]
    },
    {
      "cell_type": "code",
      "source": [
        "df.drop(columns=['talk_id','title','speaker_1', 'all_speakers', 'occupations',\n",
        "       'about_speakers', 'recorded_date','topics','related_talks','transcript','description','release_year','url','native_lang'],inplace=True)"
      ],
      "metadata": {
        "id": "ERg3_1jYp7LQ"
      },
      "execution_count": 171,
      "outputs": []
    },
    {
      "cell_type": "code",
      "source": [
        "# Printing total number of missing values.\n",
        "\n",
        "df.isna().sum()"
      ],
      "metadata": {
        "colab": {
          "base_uri": "https://localhost:8080/"
        },
        "id": "LfqJtHYnp_bE",
        "outputId": "2e5d8a22-fd5b-4715-e244-99d4a9384211"
      },
      "execution_count": 172,
      "outputs": [
        {
          "output_type": "execute_result",
          "data": {
            "text/plain": [
              "views                      0\n",
              "published_date             0\n",
              "event                      0\n",
              "available_lang             0\n",
              "comments                 655\n",
              "duration                   0\n",
              "release_day                0\n",
              "release_month              0\n",
              "publish_day                0\n",
              "publish_month              0\n",
              "publish_year               0\n",
              "speaker_1_avg_views        0\n",
              "num_of_tags                0\n",
              "num_of_lang                0\n",
              "event_category             0\n",
              "topics_wise_avg_views      0\n",
              "related_views              0\n",
              "dtype: int64"
            ]
          },
          "metadata": {},
          "execution_count": 172
        }
      ]
    },
    {
      "cell_type": "code",
      "source": [
        "# Importing KNNImputer library to impute nan values\n",
        "\n",
        "from sklearn.impute import KNNImputer\n",
        "imputer = KNNImputer()\n",
        "imputer.fit(df[['comments']])\n",
        "df[['comments']] = imputer.transform(df[['comments']])"
      ],
      "metadata": {
        "id": "Ow-ws-a9YL8A"
      },
      "execution_count": 173,
      "outputs": []
    },
    {
      "cell_type": "code",
      "source": [
        "df[['comments']].isna().sum()"
      ],
      "metadata": {
        "colab": {
          "base_uri": "https://localhost:8080/"
        },
        "id": "oPDDXoBjYrec",
        "outputId": "943a8163-393c-4b1a-d590-5add2f96d70b"
      },
      "execution_count": 174,
      "outputs": [
        {
          "output_type": "execute_result",
          "data": {
            "text/plain": [
              "comments    0\n",
              "dtype: int64"
            ]
          },
          "metadata": {},
          "execution_count": 174
        }
      ]
    },
    {
      "cell_type": "code",
      "source": [
        "df.corr()"
      ],
      "metadata": {
        "colab": {
          "base_uri": "https://localhost:8080/",
          "height": 458
        },
        "id": "I5m2JYeSaFeY",
        "outputId": "e848c6b5-c3af-4c13-8b68-b3eb25e160eb"
      },
      "execution_count": 175,
      "outputs": [
        {
          "output_type": "execute_result",
          "data": {
            "text/plain": [
              "                          views  comments  duration  release_month  \\\n",
              "views                  1.000000  0.467859  0.073642      -0.032394   \n",
              "comments               0.467859  1.000000  0.150317      -0.017240   \n",
              "duration               0.073642  0.150317  1.000000       0.061629   \n",
              "release_month         -0.032394 -0.017240  0.061629       1.000000   \n",
              "publish_day            0.036293 -0.056507 -0.059787      -0.065587   \n",
              "publish_year          -0.053478 -0.270965 -0.353082      -0.144624   \n",
              "speaker_1_avg_views    0.884867  0.413384  0.083312      -0.033271   \n",
              "num_of_tags           -0.024429 -0.113643  0.039974      -0.020857   \n",
              "num_of_lang            0.355712  0.377841 -0.111660       0.033359   \n",
              "topics_wise_avg_views  0.370721  0.194735  0.014143      -0.013333   \n",
              "related_views          0.292753  0.131996  0.055015      -0.026670   \n",
              "\n",
              "                       publish_day  publish_year  speaker_1_avg_views  \\\n",
              "views                     0.036293     -0.053478             0.884867   \n",
              "comments                 -0.056507     -0.270965             0.413384   \n",
              "duration                 -0.059787     -0.353082             0.083312   \n",
              "release_month            -0.065587     -0.144624            -0.033271   \n",
              "publish_day               1.000000     -0.005669             0.031627   \n",
              "publish_year             -0.005669      1.000000            -0.040406   \n",
              "speaker_1_avg_views       0.031627     -0.040406             1.000000   \n",
              "num_of_tags              -0.030838      0.229768            -0.031990   \n",
              "num_of_lang               0.040590     -0.515602             0.339443   \n",
              "topics_wise_avg_views     0.016982     -0.006864             0.387124   \n",
              "related_views             0.032981      0.044859             0.356594   \n",
              "\n",
              "                       num_of_tags  num_of_lang  topics_wise_avg_views  \\\n",
              "views                    -0.024429     0.355712               0.370721   \n",
              "comments                 -0.113643     0.377841               0.194735   \n",
              "duration                  0.039974    -0.111660               0.014143   \n",
              "release_month            -0.020857     0.033359              -0.013333   \n",
              "publish_day              -0.030838     0.040590               0.016982   \n",
              "publish_year              0.229768    -0.515602              -0.006864   \n",
              "speaker_1_avg_views      -0.031990     0.339443               0.387124   \n",
              "num_of_tags               1.000000    -0.110400              -0.090177   \n",
              "num_of_lang              -0.110400     1.000000               0.212247   \n",
              "topics_wise_avg_views    -0.090177     0.212247               1.000000   \n",
              "related_views            -0.022387     0.132761               0.461205   \n",
              "\n",
              "                       related_views  \n",
              "views                       0.292753  \n",
              "comments                    0.131996  \n",
              "duration                    0.055015  \n",
              "release_month              -0.026670  \n",
              "publish_day                 0.032981  \n",
              "publish_year                0.044859  \n",
              "speaker_1_avg_views         0.356594  \n",
              "num_of_tags                -0.022387  \n",
              "num_of_lang                 0.132761  \n",
              "topics_wise_avg_views       0.461205  \n",
              "related_views               1.000000  "
            ],
            "text/html": [
              "\n",
              "  <div id=\"df-eeda1a95-cffd-4877-89dc-6dc3adfbf375\">\n",
              "    <div class=\"colab-df-container\">\n",
              "      <div>\n",
              "<style scoped>\n",
              "    .dataframe tbody tr th:only-of-type {\n",
              "        vertical-align: middle;\n",
              "    }\n",
              "\n",
              "    .dataframe tbody tr th {\n",
              "        vertical-align: top;\n",
              "    }\n",
              "\n",
              "    .dataframe thead th {\n",
              "        text-align: right;\n",
              "    }\n",
              "</style>\n",
              "<table border=\"1\" class=\"dataframe\">\n",
              "  <thead>\n",
              "    <tr style=\"text-align: right;\">\n",
              "      <th></th>\n",
              "      <th>views</th>\n",
              "      <th>comments</th>\n",
              "      <th>duration</th>\n",
              "      <th>release_month</th>\n",
              "      <th>publish_day</th>\n",
              "      <th>publish_year</th>\n",
              "      <th>speaker_1_avg_views</th>\n",
              "      <th>num_of_tags</th>\n",
              "      <th>num_of_lang</th>\n",
              "      <th>topics_wise_avg_views</th>\n",
              "      <th>related_views</th>\n",
              "    </tr>\n",
              "  </thead>\n",
              "  <tbody>\n",
              "    <tr>\n",
              "      <th>views</th>\n",
              "      <td>1.000000</td>\n",
              "      <td>0.467859</td>\n",
              "      <td>0.073642</td>\n",
              "      <td>-0.032394</td>\n",
              "      <td>0.036293</td>\n",
              "      <td>-0.053478</td>\n",
              "      <td>0.884867</td>\n",
              "      <td>-0.024429</td>\n",
              "      <td>0.355712</td>\n",
              "      <td>0.370721</td>\n",
              "      <td>0.292753</td>\n",
              "    </tr>\n",
              "    <tr>\n",
              "      <th>comments</th>\n",
              "      <td>0.467859</td>\n",
              "      <td>1.000000</td>\n",
              "      <td>0.150317</td>\n",
              "      <td>-0.017240</td>\n",
              "      <td>-0.056507</td>\n",
              "      <td>-0.270965</td>\n",
              "      <td>0.413384</td>\n",
              "      <td>-0.113643</td>\n",
              "      <td>0.377841</td>\n",
              "      <td>0.194735</td>\n",
              "      <td>0.131996</td>\n",
              "    </tr>\n",
              "    <tr>\n",
              "      <th>duration</th>\n",
              "      <td>0.073642</td>\n",
              "      <td>0.150317</td>\n",
              "      <td>1.000000</td>\n",
              "      <td>0.061629</td>\n",
              "      <td>-0.059787</td>\n",
              "      <td>-0.353082</td>\n",
              "      <td>0.083312</td>\n",
              "      <td>0.039974</td>\n",
              "      <td>-0.111660</td>\n",
              "      <td>0.014143</td>\n",
              "      <td>0.055015</td>\n",
              "    </tr>\n",
              "    <tr>\n",
              "      <th>release_month</th>\n",
              "      <td>-0.032394</td>\n",
              "      <td>-0.017240</td>\n",
              "      <td>0.061629</td>\n",
              "      <td>1.000000</td>\n",
              "      <td>-0.065587</td>\n",
              "      <td>-0.144624</td>\n",
              "      <td>-0.033271</td>\n",
              "      <td>-0.020857</td>\n",
              "      <td>0.033359</td>\n",
              "      <td>-0.013333</td>\n",
              "      <td>-0.026670</td>\n",
              "    </tr>\n",
              "    <tr>\n",
              "      <th>publish_day</th>\n",
              "      <td>0.036293</td>\n",
              "      <td>-0.056507</td>\n",
              "      <td>-0.059787</td>\n",
              "      <td>-0.065587</td>\n",
              "      <td>1.000000</td>\n",
              "      <td>-0.005669</td>\n",
              "      <td>0.031627</td>\n",
              "      <td>-0.030838</td>\n",
              "      <td>0.040590</td>\n",
              "      <td>0.016982</td>\n",
              "      <td>0.032981</td>\n",
              "    </tr>\n",
              "    <tr>\n",
              "      <th>publish_year</th>\n",
              "      <td>-0.053478</td>\n",
              "      <td>-0.270965</td>\n",
              "      <td>-0.353082</td>\n",
              "      <td>-0.144624</td>\n",
              "      <td>-0.005669</td>\n",
              "      <td>1.000000</td>\n",
              "      <td>-0.040406</td>\n",
              "      <td>0.229768</td>\n",
              "      <td>-0.515602</td>\n",
              "      <td>-0.006864</td>\n",
              "      <td>0.044859</td>\n",
              "    </tr>\n",
              "    <tr>\n",
              "      <th>speaker_1_avg_views</th>\n",
              "      <td>0.884867</td>\n",
              "      <td>0.413384</td>\n",
              "      <td>0.083312</td>\n",
              "      <td>-0.033271</td>\n",
              "      <td>0.031627</td>\n",
              "      <td>-0.040406</td>\n",
              "      <td>1.000000</td>\n",
              "      <td>-0.031990</td>\n",
              "      <td>0.339443</td>\n",
              "      <td>0.387124</td>\n",
              "      <td>0.356594</td>\n",
              "    </tr>\n",
              "    <tr>\n",
              "      <th>num_of_tags</th>\n",
              "      <td>-0.024429</td>\n",
              "      <td>-0.113643</td>\n",
              "      <td>0.039974</td>\n",
              "      <td>-0.020857</td>\n",
              "      <td>-0.030838</td>\n",
              "      <td>0.229768</td>\n",
              "      <td>-0.031990</td>\n",
              "      <td>1.000000</td>\n",
              "      <td>-0.110400</td>\n",
              "      <td>-0.090177</td>\n",
              "      <td>-0.022387</td>\n",
              "    </tr>\n",
              "    <tr>\n",
              "      <th>num_of_lang</th>\n",
              "      <td>0.355712</td>\n",
              "      <td>0.377841</td>\n",
              "      <td>-0.111660</td>\n",
              "      <td>0.033359</td>\n",
              "      <td>0.040590</td>\n",
              "      <td>-0.515602</td>\n",
              "      <td>0.339443</td>\n",
              "      <td>-0.110400</td>\n",
              "      <td>1.000000</td>\n",
              "      <td>0.212247</td>\n",
              "      <td>0.132761</td>\n",
              "    </tr>\n",
              "    <tr>\n",
              "      <th>topics_wise_avg_views</th>\n",
              "      <td>0.370721</td>\n",
              "      <td>0.194735</td>\n",
              "      <td>0.014143</td>\n",
              "      <td>-0.013333</td>\n",
              "      <td>0.016982</td>\n",
              "      <td>-0.006864</td>\n",
              "      <td>0.387124</td>\n",
              "      <td>-0.090177</td>\n",
              "      <td>0.212247</td>\n",
              "      <td>1.000000</td>\n",
              "      <td>0.461205</td>\n",
              "    </tr>\n",
              "    <tr>\n",
              "      <th>related_views</th>\n",
              "      <td>0.292753</td>\n",
              "      <td>0.131996</td>\n",
              "      <td>0.055015</td>\n",
              "      <td>-0.026670</td>\n",
              "      <td>0.032981</td>\n",
              "      <td>0.044859</td>\n",
              "      <td>0.356594</td>\n",
              "      <td>-0.022387</td>\n",
              "      <td>0.132761</td>\n",
              "      <td>0.461205</td>\n",
              "      <td>1.000000</td>\n",
              "    </tr>\n",
              "  </tbody>\n",
              "</table>\n",
              "</div>\n",
              "      <button class=\"colab-df-convert\" onclick=\"convertToInteractive('df-eeda1a95-cffd-4877-89dc-6dc3adfbf375')\"\n",
              "              title=\"Convert this dataframe to an interactive table.\"\n",
              "              style=\"display:none;\">\n",
              "        \n",
              "  <svg xmlns=\"http://www.w3.org/2000/svg\" height=\"24px\"viewBox=\"0 0 24 24\"\n",
              "       width=\"24px\">\n",
              "    <path d=\"M0 0h24v24H0V0z\" fill=\"none\"/>\n",
              "    <path d=\"M18.56 5.44l.94 2.06.94-2.06 2.06-.94-2.06-.94-.94-2.06-.94 2.06-2.06.94zm-11 1L8.5 8.5l.94-2.06 2.06-.94-2.06-.94L8.5 2.5l-.94 2.06-2.06.94zm10 10l.94 2.06.94-2.06 2.06-.94-2.06-.94-.94-2.06-.94 2.06-2.06.94z\"/><path d=\"M17.41 7.96l-1.37-1.37c-.4-.4-.92-.59-1.43-.59-.52 0-1.04.2-1.43.59L10.3 9.45l-7.72 7.72c-.78.78-.78 2.05 0 2.83L4 21.41c.39.39.9.59 1.41.59.51 0 1.02-.2 1.41-.59l7.78-7.78 2.81-2.81c.8-.78.8-2.07 0-2.86zM5.41 20L4 18.59l7.72-7.72 1.47 1.35L5.41 20z\"/>\n",
              "  </svg>\n",
              "      </button>\n",
              "      \n",
              "  <style>\n",
              "    .colab-df-container {\n",
              "      display:flex;\n",
              "      flex-wrap:wrap;\n",
              "      gap: 12px;\n",
              "    }\n",
              "\n",
              "    .colab-df-convert {\n",
              "      background-color: #E8F0FE;\n",
              "      border: none;\n",
              "      border-radius: 50%;\n",
              "      cursor: pointer;\n",
              "      display: none;\n",
              "      fill: #1967D2;\n",
              "      height: 32px;\n",
              "      padding: 0 0 0 0;\n",
              "      width: 32px;\n",
              "    }\n",
              "\n",
              "    .colab-df-convert:hover {\n",
              "      background-color: #E2EBFA;\n",
              "      box-shadow: 0px 1px 2px rgba(60, 64, 67, 0.3), 0px 1px 3px 1px rgba(60, 64, 67, 0.15);\n",
              "      fill: #174EA6;\n",
              "    }\n",
              "\n",
              "    [theme=dark] .colab-df-convert {\n",
              "      background-color: #3B4455;\n",
              "      fill: #D2E3FC;\n",
              "    }\n",
              "\n",
              "    [theme=dark] .colab-df-convert:hover {\n",
              "      background-color: #434B5C;\n",
              "      box-shadow: 0px 1px 3px 1px rgba(0, 0, 0, 0.15);\n",
              "      filter: drop-shadow(0px 1px 2px rgba(0, 0, 0, 0.3));\n",
              "      fill: #FFFFFF;\n",
              "    }\n",
              "  </style>\n",
              "\n",
              "      <script>\n",
              "        const buttonEl =\n",
              "          document.querySelector('#df-eeda1a95-cffd-4877-89dc-6dc3adfbf375 button.colab-df-convert');\n",
              "        buttonEl.style.display =\n",
              "          google.colab.kernel.accessAllowed ? 'block' : 'none';\n",
              "\n",
              "        async function convertToInteractive(key) {\n",
              "          const element = document.querySelector('#df-eeda1a95-cffd-4877-89dc-6dc3adfbf375');\n",
              "          const dataTable =\n",
              "            await google.colab.kernel.invokeFunction('convertToInteractive',\n",
              "                                                     [key], {});\n",
              "          if (!dataTable) return;\n",
              "\n",
              "          const docLinkHtml = 'Like what you see? Visit the ' +\n",
              "            '<a target=\"_blank\" href=https://colab.research.google.com/notebooks/data_table.ipynb>data table notebook</a>'\n",
              "            + ' to learn more about interactive tables.';\n",
              "          element.innerHTML = '';\n",
              "          dataTable['output_type'] = 'display_data';\n",
              "          await google.colab.output.renderOutput(dataTable, element);\n",
              "          const docLink = document.createElement('div');\n",
              "          docLink.innerHTML = docLinkHtml;\n",
              "          element.appendChild(docLink);\n",
              "        }\n",
              "      </script>\n",
              "    </div>\n",
              "  </div>\n",
              "  "
            ]
          },
          "metadata": {},
          "execution_count": 175
        }
      ]
    },
    {
      "cell_type": "markdown",
      "source": [
        "### Regression Plot"
      ],
      "metadata": {
        "id": "4P8pWfHWSr8W"
      }
    },
    {
      "cell_type": "markdown",
      "source": [
        "\n",
        "The regression plots in seaborn are primarily intended to add a visual guide that helps to emphasize patterns in a dataset during exploratory data analyses. Regression plots as the name suggests creates a regression line between 2 parameters and helps to visualize their linear relationships"
      ],
      "metadata": {
        "id": "TgWXx5mrSeo6"
      }
    },
    {
      "cell_type": "code",
      "source": [
        "from sklearn.feature_selection import f_regression"
      ],
      "metadata": {
        "id": "8at43tWzSRgh"
      },
      "execution_count": 176,
      "outputs": []
    },
    {
      "cell_type": "code",
      "source": [
        "df.head(2)"
      ],
      "metadata": {
        "colab": {
          "base_uri": "https://localhost:8080/",
          "height": 245
        },
        "id": "1qfAgweqbwwt",
        "outputId": "fcf0ef98-c542-4f79-d489-d3c3e6a5c628"
      },
      "execution_count": 177,
      "outputs": [
        {
          "output_type": "execute_result",
          "data": {
            "text/plain": [
              "      views published_date    event  \\\n",
              "0   3523392     2006-06-27  TED2006   \n",
              "1  14501685     2006-06-27  TED2006   \n",
              "\n",
              "                                      available_lang  comments  duration  \\\n",
              "0  [ar, bg, cs, de, el, en, es, fa, fr, fr-ca, gl...     272.0       977   \n",
              "1  [ar, az, bg, bn, bs, cs, da, de, el, en, es, e...     628.0      1190   \n",
              "\n",
              "  release_day  release_month  publish_day publish_month  publish_year  \\\n",
              "0     Tuesday              6            1          June          2006   \n",
              "1     Tuesday              6            1          June          2006   \n",
              "\n",
              "   speaker_1_avg_views  num_of_tags  num_of_lang event_category  \\\n",
              "0           2190599.25            9           43       TED2000s   \n",
              "1           3987156.10           11           49       TED2000s   \n",
              "\n",
              "   topics_wise_avg_views  related_views  \n",
              "0                1750846        1659584  \n",
              "1                2290338        1573950  "
            ],
            "text/html": [
              "\n",
              "  <div id=\"df-c4180b15-244f-4d52-b480-eccdc0e1a26a\">\n",
              "    <div class=\"colab-df-container\">\n",
              "      <div>\n",
              "<style scoped>\n",
              "    .dataframe tbody tr th:only-of-type {\n",
              "        vertical-align: middle;\n",
              "    }\n",
              "\n",
              "    .dataframe tbody tr th {\n",
              "        vertical-align: top;\n",
              "    }\n",
              "\n",
              "    .dataframe thead th {\n",
              "        text-align: right;\n",
              "    }\n",
              "</style>\n",
              "<table border=\"1\" class=\"dataframe\">\n",
              "  <thead>\n",
              "    <tr style=\"text-align: right;\">\n",
              "      <th></th>\n",
              "      <th>views</th>\n",
              "      <th>published_date</th>\n",
              "      <th>event</th>\n",
              "      <th>available_lang</th>\n",
              "      <th>comments</th>\n",
              "      <th>duration</th>\n",
              "      <th>release_day</th>\n",
              "      <th>release_month</th>\n",
              "      <th>publish_day</th>\n",
              "      <th>publish_month</th>\n",
              "      <th>publish_year</th>\n",
              "      <th>speaker_1_avg_views</th>\n",
              "      <th>num_of_tags</th>\n",
              "      <th>num_of_lang</th>\n",
              "      <th>event_category</th>\n",
              "      <th>topics_wise_avg_views</th>\n",
              "      <th>related_views</th>\n",
              "    </tr>\n",
              "  </thead>\n",
              "  <tbody>\n",
              "    <tr>\n",
              "      <th>0</th>\n",
              "      <td>3523392</td>\n",
              "      <td>2006-06-27</td>\n",
              "      <td>TED2006</td>\n",
              "      <td>[ar, bg, cs, de, el, en, es, fa, fr, fr-ca, gl...</td>\n",
              "      <td>272.0</td>\n",
              "      <td>977</td>\n",
              "      <td>Tuesday</td>\n",
              "      <td>6</td>\n",
              "      <td>1</td>\n",
              "      <td>June</td>\n",
              "      <td>2006</td>\n",
              "      <td>2190599.25</td>\n",
              "      <td>9</td>\n",
              "      <td>43</td>\n",
              "      <td>TED2000s</td>\n",
              "      <td>1750846</td>\n",
              "      <td>1659584</td>\n",
              "    </tr>\n",
              "    <tr>\n",
              "      <th>1</th>\n",
              "      <td>14501685</td>\n",
              "      <td>2006-06-27</td>\n",
              "      <td>TED2006</td>\n",
              "      <td>[ar, az, bg, bn, bs, cs, da, de, el, en, es, e...</td>\n",
              "      <td>628.0</td>\n",
              "      <td>1190</td>\n",
              "      <td>Tuesday</td>\n",
              "      <td>6</td>\n",
              "      <td>1</td>\n",
              "      <td>June</td>\n",
              "      <td>2006</td>\n",
              "      <td>3987156.10</td>\n",
              "      <td>11</td>\n",
              "      <td>49</td>\n",
              "      <td>TED2000s</td>\n",
              "      <td>2290338</td>\n",
              "      <td>1573950</td>\n",
              "    </tr>\n",
              "  </tbody>\n",
              "</table>\n",
              "</div>\n",
              "      <button class=\"colab-df-convert\" onclick=\"convertToInteractive('df-c4180b15-244f-4d52-b480-eccdc0e1a26a')\"\n",
              "              title=\"Convert this dataframe to an interactive table.\"\n",
              "              style=\"display:none;\">\n",
              "        \n",
              "  <svg xmlns=\"http://www.w3.org/2000/svg\" height=\"24px\"viewBox=\"0 0 24 24\"\n",
              "       width=\"24px\">\n",
              "    <path d=\"M0 0h24v24H0V0z\" fill=\"none\"/>\n",
              "    <path d=\"M18.56 5.44l.94 2.06.94-2.06 2.06-.94-2.06-.94-.94-2.06-.94 2.06-2.06.94zm-11 1L8.5 8.5l.94-2.06 2.06-.94-2.06-.94L8.5 2.5l-.94 2.06-2.06.94zm10 10l.94 2.06.94-2.06 2.06-.94-2.06-.94-.94-2.06-.94 2.06-2.06.94z\"/><path d=\"M17.41 7.96l-1.37-1.37c-.4-.4-.92-.59-1.43-.59-.52 0-1.04.2-1.43.59L10.3 9.45l-7.72 7.72c-.78.78-.78 2.05 0 2.83L4 21.41c.39.39.9.59 1.41.59.51 0 1.02-.2 1.41-.59l7.78-7.78 2.81-2.81c.8-.78.8-2.07 0-2.86zM5.41 20L4 18.59l7.72-7.72 1.47 1.35L5.41 20z\"/>\n",
              "  </svg>\n",
              "      </button>\n",
              "      \n",
              "  <style>\n",
              "    .colab-df-container {\n",
              "      display:flex;\n",
              "      flex-wrap:wrap;\n",
              "      gap: 12px;\n",
              "    }\n",
              "\n",
              "    .colab-df-convert {\n",
              "      background-color: #E8F0FE;\n",
              "      border: none;\n",
              "      border-radius: 50%;\n",
              "      cursor: pointer;\n",
              "      display: none;\n",
              "      fill: #1967D2;\n",
              "      height: 32px;\n",
              "      padding: 0 0 0 0;\n",
              "      width: 32px;\n",
              "    }\n",
              "\n",
              "    .colab-df-convert:hover {\n",
              "      background-color: #E2EBFA;\n",
              "      box-shadow: 0px 1px 2px rgba(60, 64, 67, 0.3), 0px 1px 3px 1px rgba(60, 64, 67, 0.15);\n",
              "      fill: #174EA6;\n",
              "    }\n",
              "\n",
              "    [theme=dark] .colab-df-convert {\n",
              "      background-color: #3B4455;\n",
              "      fill: #D2E3FC;\n",
              "    }\n",
              "\n",
              "    [theme=dark] .colab-df-convert:hover {\n",
              "      background-color: #434B5C;\n",
              "      box-shadow: 0px 1px 3px 1px rgba(0, 0, 0, 0.15);\n",
              "      filter: drop-shadow(0px 1px 2px rgba(0, 0, 0, 0.3));\n",
              "      fill: #FFFFFF;\n",
              "    }\n",
              "  </style>\n",
              "\n",
              "      <script>\n",
              "        const buttonEl =\n",
              "          document.querySelector('#df-c4180b15-244f-4d52-b480-eccdc0e1a26a button.colab-df-convert');\n",
              "        buttonEl.style.display =\n",
              "          google.colab.kernel.accessAllowed ? 'block' : 'none';\n",
              "\n",
              "        async function convertToInteractive(key) {\n",
              "          const element = document.querySelector('#df-c4180b15-244f-4d52-b480-eccdc0e1a26a');\n",
              "          const dataTable =\n",
              "            await google.colab.kernel.invokeFunction('convertToInteractive',\n",
              "                                                     [key], {});\n",
              "          if (!dataTable) return;\n",
              "\n",
              "          const docLinkHtml = 'Like what you see? Visit the ' +\n",
              "            '<a target=\"_blank\" href=https://colab.research.google.com/notebooks/data_table.ipynb>data table notebook</a>'\n",
              "            + ' to learn more about interactive tables.';\n",
              "          element.innerHTML = '';\n",
              "          dataTable['output_type'] = 'display_data';\n",
              "          await google.colab.output.renderOutput(dataTable, element);\n",
              "          const docLink = document.createElement('div');\n",
              "          docLink.innerHTML = docLinkHtml;\n",
              "          element.appendChild(docLink);\n",
              "        }\n",
              "      </script>\n",
              "    </div>\n",
              "  </div>\n",
              "  "
            ]
          },
          "metadata": {},
          "execution_count": 177
        }
      ]
    },
    {
      "cell_type": "code",
      "source": [
        "# Creating new dataframe of selected features\n",
        "\n",
        "df_new=df[['views','comments','duration','num_of_lang','num_of_tags','publish_day','publish_month',\n",
        "        'related_views','event_category','speaker_1_avg_views','topics_wise_avg_views']]"
      ],
      "metadata": {
        "id": "UBQZekyea0N3"
      },
      "execution_count": 178,
      "outputs": []
    },
    {
      "cell_type": "code",
      "source": [
        "df_new.shape"
      ],
      "metadata": {
        "colab": {
          "base_uri": "https://localhost:8080/"
        },
        "id": "TMKusn0EbV1I",
        "outputId": "98ff145c-b5b6-4879-8468-116404c380cb"
      },
      "execution_count": 179,
      "outputs": [
        {
          "output_type": "execute_result",
          "data": {
            "text/plain": [
              "(4005, 11)"
            ]
          },
          "metadata": {},
          "execution_count": 179
        }
      ]
    },
    {
      "cell_type": "code",
      "source": [
        "final_df=pd.get_dummies(df_new)\n",
        "final_df.shape"
      ],
      "metadata": {
        "colab": {
          "base_uri": "https://localhost:8080/"
        },
        "id": "4Wd_tENybmp3",
        "outputId": "b80168fd-e1ec-4d90-e4ee-8c79d6127a3a"
      },
      "execution_count": 180,
      "outputs": [
        {
          "output_type": "execute_result",
          "data": {
            "text/plain": [
              "(4005, 33)"
            ]
          },
          "metadata": {},
          "execution_count": 180
        }
      ]
    },
    {
      "cell_type": "code",
      "source": [
        "# Separating independent and dependent features.\n",
        "\n",
        "X=final_df.drop(columns=['views'])\n",
        "y=final_df['views']"
      ],
      "metadata": {
        "id": "RFhDADiLaor3"
      },
      "execution_count": 181,
      "outputs": []
    },
    {
      "cell_type": "code",
      "source": [
        "f_scores = f_regression(X,y)\n",
        "f_scores"
      ],
      "metadata": {
        "colab": {
          "base_uri": "https://localhost:8080/"
        },
        "id": "V3akq136atjo",
        "outputId": "6821666e-b88e-419c-b7bf-45e07546784c"
      },
      "execution_count": 182,
      "outputs": [
        {
          "output_type": "execute_result",
          "data": {
            "text/plain": [
              "(array([1.12177467e+03, 2.18272996e+01, 5.79875934e+02, 2.39026992e+00,\n",
              "        5.27968460e+00, 3.75232696e+02, 1.44431730e+04, 6.37802705e+02,\n",
              "        4.27342794e-02, 1.46563489e+00, 3.54204730e-02, 5.60325654e-03,\n",
              "        5.71791155e-01, 1.01373795e-02, 1.42786889e-02, 9.69403913e+00,\n",
              "        2.59140573e+00, 4.48081024e+00, 1.83534439e+00, 1.88371070e-01,\n",
              "        1.29030781e+01, 5.21381816e-01, 9.72966789e-01, 1.93468460e+01,\n",
              "        3.30500169e+00, 2.11695789e-01, 9.97353389e-01, 1.15313608e-03,\n",
              "        2.60869745e+00, 3.69294858e-02, 1.44017660e+00, 6.80981742e-01]),\n",
              " array([4.90811875e-217, 3.08124671e-006, 9.03081853e-120, 1.22171594e-001,\n",
              "        2.16269922e-002, 5.60016018e-080, 0.00000000e+000, 1.04629300e-130,\n",
              "        8.36236933e-001, 2.26107148e-001, 8.50726844e-001, 9.40333898e-001,\n",
              "        4.49592532e-001, 9.19805915e-001, 9.04890411e-001, 1.86172023e-003,\n",
              "        1.07523787e-001, 3.43390000e-002, 1.75574047e-001, 6.64299224e-001,\n",
              "        3.31984747e-004, 4.70295010e-001, 3.24000999e-001, 1.11833146e-005,\n",
              "        6.91439872e-002, 6.45466486e-001, 3.18012122e-001, 9.72912449e-001,\n",
              "        1.06357833e-001, 8.47618432e-001, 2.30181782e-001, 4.09298043e-001]))"
            ]
          },
          "metadata": {},
          "execution_count": 182
        }
      ]
    },
    {
      "cell_type": "code",
      "source": [
        "plt.rcParams['figure.figsize'] = (20, 5)\n",
        "p_values= pd.Series(f_scores[1],index= X.columns)\n",
        "p_values.plot(kind='bar',color='red')\n",
        "plt.title('P-value scores for numerical features')"
      ],
      "metadata": {
        "colab": {
          "base_uri": "https://localhost:8080/",
          "height": 482
        },
        "id": "g-rwPp_0cML7",
        "outputId": "ce7e21eb-a7fe-4303-f71e-84daa7c508de"
      },
      "execution_count": 183,
      "outputs": [
        {
          "output_type": "execute_result",
          "data": {
            "text/plain": [
              "Text(0.5, 1.0, 'P-value scores for numerical features')"
            ]
          },
          "metadata": {},
          "execution_count": 183
        },
        {
          "output_type": "display_data",
          "data": {
            "text/plain": [
              "<Figure size 1440x360 with 1 Axes>"
            ],
            "image/png": "[encoded data removed]"
          },
          "metadata": {
            "needs_background": "light"
          }
        }
      ]
    },
    {
      "cell_type": "code",
      "source": [
        "imp_feat=['comments', 'duration', 'num_of_lang', 'num_of_tags',\n",
        "       'related_views','publish_day','speaker_1_avg_views','topics_wise_avg_views',]"
      ],
      "metadata": {
        "id": "1Y8wQF6ddAEW"
      },
      "execution_count": 184,
      "outputs": []
    },
    {
      "cell_type": "code",
      "source": [
        "# Creating dataframe with selected important features.\n",
        "\n",
        "df_imp = final_df[imp_feat]\n"
      ],
      "metadata": {
        "id": "2fmokPvZPcCM"
      },
      "execution_count": 185,
      "outputs": []
    },
    {
      "cell_type": "markdown",
      "source": [
        "# Train Test split"
      ],
      "metadata": {
        "id": "y4WNomlOQaQw"
      }
    },
    {
      "cell_type": "code",
      "source": [
        "\n",
        "from sklearn.model_selection import train_test_split\n",
        "X=df_imp\n",
        "y=df['views']\n",
        "X_train, X_test, y_train, y_test = train_test_split(X, y, test_size=0.2, random_state=121212)\n"
      ],
      "metadata": {
        "id": "W-R1fBq5PhB2"
      },
      "execution_count": 186,
      "outputs": []
    },
    {
      "cell_type": "markdown",
      "source": [
        "**scaling**"
      ],
      "metadata": {
        "id": "Thp4iiDXRabj"
      }
    },
    {
      "cell_type": "code",
      "source": [
        "# Importing StandardScaler from sklearn library\n",
        "\n",
        "from sklearn.preprocessing import StandardScaler\n",
        "\n",
        "# Feature Scaling\n",
        "\n",
        "scaler = StandardScaler()\n",
        "X_train = scaler.fit_transform(X_train)\n",
        "X_test = scaler.transform(X_test)"
      ],
      "metadata": {
        "id": "KAF4Pe_aQmJk"
      },
      "execution_count": 187,
      "outputs": []
    },
    {
      "cell_type": "markdown",
      "source": [
        "# Line Regression Model"
      ],
      "metadata": {
        "id": "1DE6qkZgRjPz"
      }
    },
    {
      "cell_type": "code",
      "source": [
        "# Importing library\n",
        "\n",
        "from sklearn.linear_model import LinearRegression\n",
        "from sklearn import metrics"
      ],
      "metadata": {
        "id": "_SQ1tn2gRgTQ"
      },
      "execution_count": 188,
      "outputs": []
    },
    {
      "cell_type": "code",
      "source": [
        "#fit the data\n",
        "lin_reg = LinearRegression().fit(X_train,y_train)"
      ],
      "metadata": {
        "id": "TxjjM2_DRqTO"
      },
      "execution_count": 189,
      "outputs": []
    },
    {
      "cell_type": "code",
      "source": [
        "# Predict the values for test set\n",
        "\n",
        "y_pred = lin_reg.predict(X_train)\n",
        "y_test_pred = lin_reg.predict(X_test)"
      ],
      "metadata": {
        "id": "tfzgu6XoR8Oo"
      },
      "execution_count": 190,
      "outputs": []
    },
    {
      "cell_type": "code",
      "source": [
        "# Calculating MSE and RMSE\n",
        "\n",
        "from sklearn.metrics import mean_squared_error\n",
        "\n",
        "MSE  = mean_squared_error(y_test, y_test_pred)\n",
        "print(\"MSE is\" , MSE)\n",
        "\n",
        "RMSE = np.sqrt(MSE)\n",
        "print(\"RMSE is\" ,RMSE)"
      ],
      "metadata": {
        "id": "ojeJqPzRSDXG",
        "outputId": "7c1c6dc8-3010-4db3-b5f2-2cc8726fe6a6",
        "colab": {
          "base_uri": "https://localhost:8080/"
        }
      },
      "execution_count": 191,
      "outputs": [
        {
          "output_type": "stream",
          "name": "stdout",
          "text": [
            "MSE is 1594583398256.5469\n",
            "RMSE is 1262768.149050548\n"
          ]
        }
      ]
    },
    {
      "cell_type": "code",
      "source": [
        "# Printing MAE for training and test set.\n",
        "\n",
        "print('Training MAE: {:0.2f}'.format(metrics.mean_absolute_error(y_train, y_pred)))\n",
        "print('Test MAE: {:0.2f}'.format(metrics.mean_absolute_error(y_test, y_test_pred)))"
      ],
      "metadata": {
        "id": "29n4xwKZSKoz",
        "outputId": "4660396a-506e-4bea-9ef8-78fa1feb2171",
        "colab": {
          "base_uri": "https://localhost:8080/"
        }
      },
      "execution_count": 192,
      "outputs": [
        {
          "output_type": "stream",
          "name": "stdout",
          "text": [
            "Training MAE: 540958.65\n",
            "Test MAE: 514709.66\n"
          ]
        }
      ]
    },
    {
      "cell_type": "markdown",
      "source": [
        "# Random Forest Regressor"
      ],
      "metadata": {
        "id": "JBorMmVFynzg"
      }
    },
    {
      "cell_type": "code",
      "source": [
        "# Importing libraries.\n",
        "\n",
        "from sklearn.ensemble import RandomForestRegressor\n",
        "from sklearn.ensemble import ExtraTreesRegressor\n",
        "from sklearn import metrics\n",
        "from mlxtend.regressor import StackingCVRegressor"
      ],
      "metadata": {
        "id": "kB6V6K1eys90"
      },
      "execution_count": 226,
      "outputs": []
    },
    {
      "cell_type": "code",
      "source": [
        "# let's do the Fitting of the data\n",
        "\n",
        "rf = RandomForestRegressor(criterion='mae',max_depth=15, max_features=5, n_estimators=200, min_samples_leaf=2, min_samples_split=2,\n",
        "                           random_state=2019)\n",
        "rf.fit(X_train, y_train)\n",
        "y_pred = rf.predict(X_train)\n",
        "y_test_pred = rf.predict(X_test)\n",
        "print('Training MAE: {:0.2f}'.format(metrics.mean_absolute_error(y_train, y_pred)))\n",
        "print('Test MAE: {:0.2f}'.format(metrics.mean_absolute_error(y_test, y_test_pred)))"
      ],
      "metadata": {
        "colab": {
          "base_uri": "https://localhost:8080/"
        },
        "id": "W9L9G8yZyyjJ",
        "outputId": "40303f53-acbb-4e1c-b844-80f91793cbab"
      },
      "execution_count": 227,
      "outputs": [
        {
          "output_type": "stream",
          "name": "stdout",
          "text": [
            "Training MAE: 276995.60\n",
            "Test MAE: 465399.95\n"
          ]
        }
      ]
    },
    {
      "cell_type": "code",
      "source": [
        "# Create an instance of the random forest regressor\n",
        "rf_model = RandomForestRegressor(criterion='mae')\n",
        "\n",
        "#RandomSearch\n",
        "rf_random = RandomizedSearchCV(rf_model,param_dict,verbose=0,cv=5)\n",
        "rf_random.fit(X_train,y_train)"
      ],
      "metadata": {
        "colab": {
          "base_uri": "https://localhost:8080/"
        },
        "id": "7Gs2ZdAws2Wr",
        "outputId": "dc38271e-d193-4129-8d29-cc5bda126edd"
      },
      "execution_count": 228,
      "outputs": [
        {
          "output_type": "execute_result",
          "data": {
            "text/plain": [
              "RandomizedSearchCV(cv=5, estimator=RandomForestRegressor(criterion='mae'),\n",
              "                   param_distributions={'max_depth': [4, 6, 8],\n",
              "                                        'min_samples_leaf': [40, 50],\n",
              "                                        'min_samples_split': [50, 100, 150],\n",
              "                                        'n_estimators': [50, 80, 100]})"
            ]
          },
          "metadata": {},
          "execution_count": 228
        }
      ]
    },
    {
      "cell_type": "code",
      "source": [
        "# Let's see which set of hyperparameters are optimal.\n",
        "\n",
        "rf_optimal_model = rf_random.best_estimator_\n",
        "rf_optimal_model"
      ],
      "metadata": {
        "colab": {
          "base_uri": "https://localhost:8080/"
        },
        "id": "Gg11SAbWtAE4",
        "outputId": "2763cd10-5e50-4002-8e00-9033362e2a07"
      },
      "execution_count": 229,
      "outputs": [
        {
          "output_type": "execute_result",
          "data": {
            "text/plain": [
              "RandomForestRegressor(criterion='mae', max_depth=4, min_samples_leaf=40,\n",
              "                      min_samples_split=50, n_estimators=50)"
            ]
          },
          "metadata": {},
          "execution_count": 229
        }
      ]
    },
    {
      "cell_type": "markdown",
      "source": [
        "Best hyperparameters for our model."
      ],
      "metadata": {
        "id": "nbP-zPsQ6EJ2"
      }
    },
    {
      "cell_type": "code",
      "source": [
        "# Calculating the MAE on train and test set\n",
        "\n",
        "y_pred = rf_optimal_model.predict(X_train)\n",
        "y_test_pred = rf_optimal_model.predict(X_test)\n",
        "print('Training MAE: {:0.2f}'.format(metrics.mean_absolute_error(y_train, y_pred)))\n",
        "print('Test MAE: {:0.2f}'.format(metrics.mean_absolute_error(y_test, y_test_pred)))"
      ],
      "metadata": {
        "colab": {
          "base_uri": "https://localhost:8080/"
        },
        "id": "pvntk2CvtLZe",
        "outputId": "3e50573f-564e-4c9b-cd13-6916285f4e33"
      },
      "execution_count": 230,
      "outputs": [
        {
          "output_type": "stream",
          "name": "stdout",
          "text": [
            "Training MAE: 484236.32\n",
            "Test MAE: 566661.57\n"
          ]
        }
      ]
    },
    {
      "cell_type": "code",
      "source": [
        "# Making predictions for test data and also calculating r2_score\n",
        "y_hat = rf_optimal_model.predict(X_test)\n",
        "print(f'R_squared value for train: {rf_optimal_model.score(X_train, y_train)}')\n",
        "r_squared= r2_score(y_test,y_hat)\n",
        "\n",
        "\n",
        "#Calculating Adjusted R-sqaured\n",
        "adjusted_r_squared = 1 - (1-r_squared)*(len(y)-1)/(len(y)-X.shape[1]-1)\n",
        "print(f'For test set the R_Squared for RFforest is {r_squared} and adjusted R_Squared is {adjusted_r_squared}')"
      ],
      "metadata": {
        "colab": {
          "base_uri": "https://localhost:8080/"
        },
        "id": "efGF_ue7tPWV",
        "outputId": "a768abf8-2a45-4a32-9d34-6da7c9c79267"
      },
      "execution_count": 231,
      "outputs": [
        {
          "output_type": "stream",
          "name": "stdout",
          "text": [
            "R_squared value for train: 0.5951451402634389\n",
            "For test set the R_Squared for RFforest is 0.5336408797273109 and adjusted R_Squared is 0.532707227834873\n"
          ]
        }
      ]
    },
    {
      "cell_type": "code",
      "source": [
        "#Let's store all the scores in a dataframe\n",
        "\n",
        "rf=RandomForestRegressor(criterion='mae',max_depth=6,min_samples_leaf=30,min_samples_split=80,n_estimators=150,random_state=42)\n",
        "rf_optimal_model=rf.fit(X_train,y_train)\n",
        "model_data=[]\n",
        "model_dict={}\n",
        "model_dict[\"Model_Name\"] = 'RandomForestRegressor'\n",
        "model_dict[\"MAE_train\"] =mean_absolute_error(y_train, rf_optimal_model.predict(X_train))\n",
        "model_dict[\"MAE_test\"] =mean_absolute_error(y_test, rf_optimal_model.predict(X_test))\n",
        "model_dict[\"R2_Score_train\"] = r2_score(y_train,rf_optimal_model.predict(X_train))\n",
        "model_dict[\"R2_Score_test\"] = r2_score(y_test,rf_optimal_model.predict(X_test))\n",
        "model_dict[\"RMSE_train\"] = np.sqrt(mean_squared_error(y_train,rf_optimal_model.predict(X_train)))\n",
        "model_dict[\"RMSE_test\"] = np.sqrt(mean_squared_error(y_test,rf_optimal_model.predict(X_test)))\n",
        "model_data.append(model_dict)\n",
        "\n",
        "results_df_rf = pd.DataFrame(model_data)"
      ],
      "metadata": {
        "id": "3cdLpOKctVpX"
      },
      "execution_count": 232,
      "outputs": []
    },
    {
      "cell_type": "code",
      "source": [
        "# Printing the results_df_rf\n",
        "\n",
        "results_df_rf"
      ],
      "metadata": {
        "colab": {
          "base_uri": "https://localhost:8080/",
          "height": 81
        },
        "id": "catD07-xtYZv",
        "outputId": "8a942444-8b78-4109-a845-5b93ebc2fc57"
      },
      "execution_count": 233,
      "outputs": [
        {
          "output_type": "execute_result",
          "data": {
            "text/plain": [
              "              Model_Name      MAE_train       MAE_test  R2_Score_train  \\\n",
              "0  RandomForestRegressor  459779.315666  546998.213508        0.608799   \n",
              "\n",
              "   R2_Score_test    RMSE_train     RMSE_test  \n",
              "0       0.547279  2.105150e+06  2.537405e+06  "
            ],
            "text/html": [
              "\n",
              "  <div id=\"df-cbea0d35-f4df-411c-95cc-fca93ca8e1a5\">\n",
              "    <div class=\"colab-df-container\">\n",
              "      <div>\n",
              "<style scoped>\n",
              "    .dataframe tbody tr th:only-of-type {\n",
              "        vertical-align: middle;\n",
              "    }\n",
              "\n",
              "    .dataframe tbody tr th {\n",
              "        vertical-align: top;\n",
              "    }\n",
              "\n",
              "    .dataframe thead th {\n",
              "        text-align: right;\n",
              "    }\n",
              "</style>\n",
              "<table border=\"1\" class=\"dataframe\">\n",
              "  <thead>\n",
              "    <tr style=\"text-align: right;\">\n",
              "      <th></th>\n",
              "      <th>Model_Name</th>\n",
              "      <th>MAE_train</th>\n",
              "      <th>MAE_test</th>\n",
              "      <th>R2_Score_train</th>\n",
              "      <th>R2_Score_test</th>\n",
              "      <th>RMSE_train</th>\n",
              "      <th>RMSE_test</th>\n",
              "    </tr>\n",
              "  </thead>\n",
              "  <tbody>\n",
              "    <tr>\n",
              "      <th>0</th>\n",
              "      <td>RandomForestRegressor</td>\n",
              "      <td>459779.315666</td>\n",
              "      <td>546998.213508</td>\n",
              "      <td>0.608799</td>\n",
              "      <td>0.547279</td>\n",
              "      <td>2.105150e+06</td>\n",
              "      <td>2.537405e+06</td>\n",
              "    </tr>\n",
              "  </tbody>\n",
              "</table>\n",
              "</div>\n",
              "      <button class=\"colab-df-convert\" onclick=\"convertToInteractive('df-cbea0d35-f4df-411c-95cc-fca93ca8e1a5')\"\n",
              "              title=\"Convert this dataframe to an interactive table.\"\n",
              "              style=\"display:none;\">\n",
              "        \n",
              "  <svg xmlns=\"http://www.w3.org/2000/svg\" height=\"24px\"viewBox=\"0 0 24 24\"\n",
              "       width=\"24px\">\n",
              "    <path d=\"M0 0h24v24H0V0z\" fill=\"none\"/>\n",
              "    <path d=\"M18.56 5.44l.94 2.06.94-2.06 2.06-.94-2.06-.94-.94-2.06-.94 2.06-2.06.94zm-11 1L8.5 8.5l.94-2.06 2.06-.94-2.06-.94L8.5 2.5l-.94 2.06-2.06.94zm10 10l.94 2.06.94-2.06 2.06-.94-2.06-.94-.94-2.06-.94 2.06-2.06.94z\"/><path d=\"M17.41 7.96l-1.37-1.37c-.4-.4-.92-.59-1.43-.59-.52 0-1.04.2-1.43.59L10.3 9.45l-7.72 7.72c-.78.78-.78 2.05 0 2.83L4 21.41c.39.39.9.59 1.41.59.51 0 1.02-.2 1.41-.59l7.78-7.78 2.81-2.81c.8-.78.8-2.07 0-2.86zM5.41 20L4 18.59l7.72-7.72 1.47 1.35L5.41 20z\"/>\n",
              "  </svg>\n",
              "      </button>\n",
              "      \n",
              "  <style>\n",
              "    .colab-df-container {\n",
              "      display:flex;\n",
              "      flex-wrap:wrap;\n",
              "      gap: 12px;\n",
              "    }\n",
              "\n",
              "    .colab-df-convert {\n",
              "      background-color: #E8F0FE;\n",
              "      border: none;\n",
              "      border-radius: 50%;\n",
              "      cursor: pointer;\n",
              "      display: none;\n",
              "      fill: #1967D2;\n",
              "      height: 32px;\n",
              "      padding: 0 0 0 0;\n",
              "      width: 32px;\n",
              "    }\n",
              "\n",
              "    .colab-df-convert:hover {\n",
              "      background-color: #E2EBFA;\n",
              "      box-shadow: 0px 1px 2px rgba(60, 64, 67, 0.3), 0px 1px 3px 1px rgba(60, 64, 67, 0.15);\n",
              "      fill: #174EA6;\n",
              "    }\n",
              "\n",
              "    [theme=dark] .colab-df-convert {\n",
              "      background-color: #3B4455;\n",
              "      fill: #D2E3FC;\n",
              "    }\n",
              "\n",
              "    [theme=dark] .colab-df-convert:hover {\n",
              "      background-color: #434B5C;\n",
              "      box-shadow: 0px 1px 3px 1px rgba(0, 0, 0, 0.15);\n",
              "      filter: drop-shadow(0px 1px 2px rgba(0, 0, 0, 0.3));\n",
              "      fill: #FFFFFF;\n",
              "    }\n",
              "  </style>\n",
              "\n",
              "      <script>\n",
              "        const buttonEl =\n",
              "          document.querySelector('#df-cbea0d35-f4df-411c-95cc-fca93ca8e1a5 button.colab-df-convert');\n",
              "        buttonEl.style.display =\n",
              "          google.colab.kernel.accessAllowed ? 'block' : 'none';\n",
              "\n",
              "        async function convertToInteractive(key) {\n",
              "          const element = document.querySelector('#df-cbea0d35-f4df-411c-95cc-fca93ca8e1a5');\n",
              "          const dataTable =\n",
              "            await google.colab.kernel.invokeFunction('convertToInteractive',\n",
              "                                                     [key], {});\n",
              "          if (!dataTable) return;\n",
              "\n",
              "          const docLinkHtml = 'Like what you see? Visit the ' +\n",
              "            '<a target=\"_blank\" href=https://colab.research.google.com/notebooks/data_table.ipynb>data table notebook</a>'\n",
              "            + ' to learn more about interactive tables.';\n",
              "          element.innerHTML = '';\n",
              "          dataTable['output_type'] = 'display_data';\n",
              "          await google.colab.output.renderOutput(dataTable, element);\n",
              "          const docLink = document.createElement('div');\n",
              "          docLink.innerHTML = docLinkHtml;\n",
              "          element.appendChild(docLink);\n",
              "        }\n",
              "      </script>\n",
              "    </div>\n",
              "  </div>\n",
              "  "
            ]
          },
          "metadata": {},
          "execution_count": 233
        }
      ]
    },
    {
      "cell_type": "code",
      "source": [
        "# Barplot showing important features w.r.t. RF model\n",
        "\n",
        "importances = pd.DataFrame({'Features': X.columns, \n",
        "                                'Importances': rf_optimal_model.feature_importances_})\n",
        "    \n",
        "importances.sort_values(by=['Importances'], axis='index', ascending=False, inplace=True)\n",
        "fig = plt.figure(figsize=(14, 6))\n",
        "sns.barplot(x='Features', y='Importances', data=importances)\n",
        "plt.xticks(rotation='vertical')\n",
        "plt.title('Feature importance score w.r.t. RFRegressor model')\n",
        "plt.show()"
      ],
      "metadata": {
        "colab": {
          "base_uri": "https://localhost:8080/",
          "height": 508
        },
        "id": "Hg9X5QuFvtA7",
        "outputId": "d001e92e-e451-4596-cf29-dcd1b50b473d"
      },
      "execution_count": 234,
      "outputs": [
        {
          "output_type": "display_data",
          "data": {
            "text/plain": [
              "<Figure size 1008x432 with 1 Axes>"
            ],
            "image/png": "[encoded data removed]"
          },
          "metadata": {
            "needs_background": "light"
          }
        }
      ]
    },
    {
      "cell_type": "markdown",
      "source": [
        "# XGboost regressor"
      ],
      "metadata": {
        "id": "xKXiYy1jyPfd"
      }
    },
    {
      "cell_type": "code",
      "source": [
        "# Importing library\n",
        "\n",
        "from xgboost import XGBRegressor"
      ],
      "metadata": {
        "id": "49Pe8xsEwLwJ"
      },
      "execution_count": 235,
      "outputs": []
    },
    {
      "cell_type": "code",
      "source": [
        "#XGBoost Regressor hyperparameters\n",
        "\n",
        "# Number of trees\n",
        "n_estimators = [30,50,80,100]\n",
        "\n",
        "# Maximum depth of trees\n",
        "max_depth = [4,6,8]\n",
        "\n",
        "# Minimum number of samples required to split a node\n",
        "min_samples_split = [50,100,150]\n",
        "\n",
        "# Minimum number of samples required at each leaf node\n",
        "min_samples_leaf = [30,40,50]\n",
        "\n",
        "# HYperparameter Dict\n",
        "param_dict = {'n_estimators' : n_estimators,\n",
        "              'max_depth' : max_depth,\n",
        "              'min_samples_split' : min_samples_split,\n",
        "              'min_samples_leaf' : min_samples_leaf}"
      ],
      "metadata": {
        "id": "ZWMGOa5OvtyK"
      },
      "execution_count": 236,
      "outputs": []
    },
    {
      "cell_type": "code",
      "source": [
        "# Create an instance of the XGBoost\n",
        "xgb_model = XGBRegressor(learning_rate=0.1)\n",
        "\n",
        "#RandomSearch\n",
        "xgb_random = RandomizedSearchCV(xgb_model,param_dict,verbose=2,cv=5)\n",
        "xgb_random.fit(X_train,y_train)\n"
      ],
      "metadata": {
        "colab": {
          "base_uri": "https://localhost:8080/"
        },
        "id": "6XZDTG7Gvx8t",
        "outputId": "a0bfe0d7-903b-4313-b013-af6f115c42de"
      },
      "execution_count": 237,
      "outputs": [
        {
          "output_type": "stream",
          "name": "stdout",
          "text": [
            "Fitting 5 folds for each of 10 candidates, totalling 50 fits\n",
            "[07:25:21] WARNING: /workspace/src/objective/regression_obj.cu:152: reg:linear is now deprecated in favor of reg:squarederror.\n",
            "[CV] END max_depth=8, min_samples_leaf=30, min_samples_split=100, n_estimators=100; total time=   0.4s\n",
            "[07:25:21] WARNING: /workspace/src/objective/regression_obj.cu:152: reg:linear is now deprecated in favor of reg:squarederror.\n",
            "[CV] END max_depth=8, min_samples_leaf=30, min_samples_split=100, n_estimators=100; total time=   0.4s\n",
            "[07:25:22] WARNING: /workspace/src/objective/regression_obj.cu:152: reg:linear is now deprecated in favor of reg:squarederror.\n",
            "[CV] END max_depth=8, min_samples_leaf=30, min_samples_split=100, n_estimators=100; total time=   0.4s\n",
            "[07:25:22] WARNING: /workspace/src/objective/regression_obj.cu:152: reg:linear is now deprecated in favor of reg:squarederror.\n",
            "[CV] END max_depth=8, min_samples_leaf=30, min_samples_split=100, n_estimators=100; total time=   0.4s\n",
            "[07:25:22] WARNING: /workspace/src/objective/regression_obj.cu:152: reg:linear is now deprecated in favor of reg:squarederror.\n",
            "[CV] END max_depth=8, min_samples_leaf=30, min_samples_split=100, n_estimators=100; total time=   0.4s\n",
            "[07:25:23] WARNING: /workspace/src/objective/regression_obj.cu:152: reg:linear is now deprecated in favor of reg:squarederror.\n",
            "[CV] END max_depth=4, min_samples_leaf=50, min_samples_split=50, n_estimators=100; total time=   0.2s\n",
            "[07:25:23] WARNING: /workspace/src/objective/regression_obj.cu:152: reg:linear is now deprecated in favor of reg:squarederror.\n",
            "[CV] END max_depth=4, min_samples_leaf=50, min_samples_split=50, n_estimators=100; total time=   0.2s\n",
            "[07:25:23] WARNING: /workspace/src/objective/regression_obj.cu:152: reg:linear is now deprecated in favor of reg:squarederror.\n",
            "[CV] END max_depth=4, min_samples_leaf=50, min_samples_split=50, n_estimators=100; total time=   0.2s\n",
            "[07:25:24] WARNING: /workspace/src/objective/regression_obj.cu:152: reg:linear is now deprecated in favor of reg:squarederror.\n",
            "[CV] END max_depth=4, min_samples_leaf=50, min_samples_split=50, n_estimators=100; total time=   0.2s\n",
            "[07:25:24] WARNING: /workspace/src/objective/regression_obj.cu:152: reg:linear is now deprecated in favor of reg:squarederror.\n",
            "[CV] END max_depth=4, min_samples_leaf=50, min_samples_split=50, n_estimators=100; total time=   0.2s\n",
            "[07:25:24] WARNING: /workspace/src/objective/regression_obj.cu:152: reg:linear is now deprecated in favor of reg:squarederror.\n",
            "[CV] END max_depth=8, min_samples_leaf=50, min_samples_split=150, n_estimators=30; total time=   0.1s\n",
            "[07:25:24] WARNING: /workspace/src/objective/regression_obj.cu:152: reg:linear is now deprecated in favor of reg:squarederror.\n",
            "[CV] END max_depth=8, min_samples_leaf=50, min_samples_split=150, n_estimators=30; total time=   0.1s\n",
            "[07:25:24] WARNING: /workspace/src/objective/regression_obj.cu:152: reg:linear is now deprecated in favor of reg:squarederror.\n",
            "[CV] END max_depth=8, min_samples_leaf=50, min_samples_split=150, n_estimators=30; total time=   0.1s\n",
            "[07:25:24] WARNING: /workspace/src/objective/regression_obj.cu:152: reg:linear is now deprecated in favor of reg:squarederror.\n",
            "[CV] END max_depth=8, min_samples_leaf=50, min_samples_split=150, n_estimators=30; total time=   0.1s\n",
            "[07:25:24] WARNING: /workspace/src/objective/regression_obj.cu:152: reg:linear is now deprecated in favor of reg:squarederror.\n",
            "[CV] END max_depth=8, min_samples_leaf=50, min_samples_split=150, n_estimators=30; total time=   0.1s\n",
            "[07:25:25] WARNING: /workspace/src/objective/regression_obj.cu:152: reg:linear is now deprecated in favor of reg:squarederror.\n",
            "[CV] END max_depth=4, min_samples_leaf=40, min_samples_split=50, n_estimators=50; total time=   0.1s\n",
            "[07:25:25] WARNING: /workspace/src/objective/regression_obj.cu:152: reg:linear is now deprecated in favor of reg:squarederror.\n",
            "[CV] END max_depth=4, min_samples_leaf=40, min_samples_split=50, n_estimators=50; total time=   0.1s\n",
            "[07:25:25] WARNING: /workspace/src/objective/regression_obj.cu:152: reg:linear is now deprecated in favor of reg:squarederror.\n",
            "[CV] END max_depth=4, min_samples_leaf=40, min_samples_split=50, n_estimators=50; total time=   0.1s\n",
            "[07:25:25] WARNING: /workspace/src/objective/regression_obj.cu:152: reg:linear is now deprecated in favor of reg:squarederror.\n",
            "[CV] END max_depth=4, min_samples_leaf=40, min_samples_split=50, n_estimators=50; total time=   0.1s\n",
            "[07:25:25] WARNING: /workspace/src/objective/regression_obj.cu:152: reg:linear is now deprecated in favor of reg:squarederror.\n",
            "[CV] END max_depth=4, min_samples_leaf=40, min_samples_split=50, n_estimators=50; total time=   0.1s\n",
            "[07:25:25] WARNING: /workspace/src/objective/regression_obj.cu:152: reg:linear is now deprecated in favor of reg:squarederror.\n",
            "[CV] END max_depth=4, min_samples_leaf=40, min_samples_split=150, n_estimators=50; total time=   0.1s\n",
            "[07:25:25] WARNING: /workspace/src/objective/regression_obj.cu:152: reg:linear is now deprecated in favor of reg:squarederror.\n",
            "[CV] END max_depth=4, min_samples_leaf=40, min_samples_split=150, n_estimators=50; total time=   0.1s\n",
            "[07:25:25] WARNING: /workspace/src/objective/regression_obj.cu:152: reg:linear is now deprecated in favor of reg:squarederror.\n",
            "[CV] END max_depth=4, min_samples_leaf=40, min_samples_split=150, n_estimators=50; total time=   0.1s\n",
            "[07:25:25] WARNING: /workspace/src/objective/regression_obj.cu:152: reg:linear is now deprecated in favor of reg:squarederror.\n",
            "[CV] END max_depth=4, min_samples_leaf=40, min_samples_split=150, n_estimators=50; total time=   0.1s\n",
            "[07:25:26] WARNING: /workspace/src/objective/regression_obj.cu:152: reg:linear is now deprecated in favor of reg:squarederror.\n",
            "[CV] END max_depth=4, min_samples_leaf=40, min_samples_split=150, n_estimators=50; total time=   0.1s\n",
            "[07:25:26] WARNING: /workspace/src/objective/regression_obj.cu:152: reg:linear is now deprecated in favor of reg:squarederror.\n",
            "[CV] END max_depth=8, min_samples_leaf=50, min_samples_split=150, n_estimators=100; total time=   0.4s\n",
            "[07:25:26] WARNING: /workspace/src/objective/regression_obj.cu:152: reg:linear is now deprecated in favor of reg:squarederror.\n",
            "[CV] END max_depth=8, min_samples_leaf=50, min_samples_split=150, n_estimators=100; total time=   0.4s\n",
            "[07:25:26] WARNING: /workspace/src/objective/regression_obj.cu:152: reg:linear is now deprecated in favor of reg:squarederror.\n",
            "[CV] END max_depth=8, min_samples_leaf=50, min_samples_split=150, n_estimators=100; total time=   0.4s\n",
            "[07:25:27] WARNING: /workspace/src/objective/regression_obj.cu:152: reg:linear is now deprecated in favor of reg:squarederror.\n",
            "[CV] END max_depth=8, min_samples_leaf=50, min_samples_split=150, n_estimators=100; total time=   0.4s\n",
            "[07:25:27] WARNING: /workspace/src/objective/regression_obj.cu:152: reg:linear is now deprecated in favor of reg:squarederror.\n",
            "[CV] END max_depth=8, min_samples_leaf=50, min_samples_split=150, n_estimators=100; total time=   0.4s\n",
            "[07:25:28] WARNING: /workspace/src/objective/regression_obj.cu:152: reg:linear is now deprecated in favor of reg:squarederror.\n",
            "[CV] END max_depth=4, min_samples_leaf=40, min_samples_split=150, n_estimators=30; total time=   0.1s\n",
            "[07:25:28] WARNING: /workspace/src/objective/regression_obj.cu:152: reg:linear is now deprecated in favor of reg:squarederror.\n",
            "[CV] END max_depth=4, min_samples_leaf=40, min_samples_split=150, n_estimators=30; total time=   0.1s\n",
            "[07:25:28] WARNING: /workspace/src/objective/regression_obj.cu:152: reg:linear is now deprecated in favor of reg:squarederror.\n",
            "[CV] END max_depth=4, min_samples_leaf=40, min_samples_split=150, n_estimators=30; total time=   0.1s\n",
            "[07:25:28] WARNING: /workspace/src/objective/regression_obj.cu:152: reg:linear is now deprecated in favor of reg:squarederror.\n",
            "[CV] END max_depth=4, min_samples_leaf=40, min_samples_split=150, n_estimators=30; total time=   0.1s\n",
            "[07:25:28] WARNING: /workspace/src/objective/regression_obj.cu:152: reg:linear is now deprecated in favor of reg:squarederror.\n",
            "[CV] END max_depth=4, min_samples_leaf=40, min_samples_split=150, n_estimators=30; total time=   0.1s\n",
            "[07:25:28] WARNING: /workspace/src/objective/regression_obj.cu:152: reg:linear is now deprecated in favor of reg:squarederror.\n",
            "[CV] END max_depth=4, min_samples_leaf=40, min_samples_split=100, n_estimators=50; total time=   0.1s\n",
            "[07:25:28] WARNING: /workspace/src/objective/regression_obj.cu:152: reg:linear is now deprecated in favor of reg:squarederror.\n",
            "[CV] END max_depth=4, min_samples_leaf=40, min_samples_split=100, n_estimators=50; total time=   0.1s\n",
            "[07:25:28] WARNING: /workspace/src/objective/regression_obj.cu:152: reg:linear is now deprecated in favor of reg:squarederror.\n",
            "[CV] END max_depth=4, min_samples_leaf=40, min_samples_split=100, n_estimators=50; total time=   0.1s\n",
            "[07:25:28] WARNING: /workspace/src/objective/regression_obj.cu:152: reg:linear is now deprecated in favor of reg:squarederror.\n",
            "[CV] END max_depth=4, min_samples_leaf=40, min_samples_split=100, n_estimators=50; total time=   0.1s\n",
            "[07:25:29] WARNING: /workspace/src/objective/regression_obj.cu:152: reg:linear is now deprecated in favor of reg:squarederror.\n",
            "[CV] END max_depth=4, min_samples_leaf=40, min_samples_split=100, n_estimators=50; total time=   0.1s\n",
            "[07:25:29] WARNING: /workspace/src/objective/regression_obj.cu:152: reg:linear is now deprecated in favor of reg:squarederror.\n",
            "[CV] END max_depth=4, min_samples_leaf=30, min_samples_split=100, n_estimators=80; total time=   0.2s\n",
            "[07:25:29] WARNING: /workspace/src/objective/regression_obj.cu:152: reg:linear is now deprecated in favor of reg:squarederror.\n",
            "[CV] END max_depth=4, min_samples_leaf=30, min_samples_split=100, n_estimators=80; total time=   0.2s\n",
            "[07:25:29] WARNING: /workspace/src/objective/regression_obj.cu:152: reg:linear is now deprecated in favor of reg:squarederror.\n",
            "[CV] END max_depth=4, min_samples_leaf=30, min_samples_split=100, n_estimators=80; total time=   0.2s\n",
            "[07:25:29] WARNING: /workspace/src/objective/regression_obj.cu:152: reg:linear is now deprecated in favor of reg:squarederror.\n",
            "[CV] END max_depth=4, min_samples_leaf=30, min_samples_split=100, n_estimators=80; total time=   0.2s\n",
            "[07:25:29] WARNING: /workspace/src/objective/regression_obj.cu:152: reg:linear is now deprecated in favor of reg:squarederror.\n",
            "[CV] END max_depth=4, min_samples_leaf=30, min_samples_split=100, n_estimators=80; total time=   0.2s\n",
            "[07:25:29] WARNING: /workspace/src/objective/regression_obj.cu:152: reg:linear is now deprecated in favor of reg:squarederror.\n",
            "[CV] END max_depth=6, min_samples_leaf=50, min_samples_split=150, n_estimators=80; total time=   0.2s\n",
            "[07:25:30] WARNING: /workspace/src/objective/regression_obj.cu:152: reg:linear is now deprecated in favor of reg:squarederror.\n",
            "[CV] END max_depth=6, min_samples_leaf=50, min_samples_split=150, n_estimators=80; total time=   0.2s\n",
            "[07:25:30] WARNING: /workspace/src/objective/regression_obj.cu:152: reg:linear is now deprecated in favor of reg:squarederror.\n",
            "[CV] END max_depth=6, min_samples_leaf=50, min_samples_split=150, n_estimators=80; total time=   0.2s\n",
            "[07:25:30] WARNING: /workspace/src/objective/regression_obj.cu:152: reg:linear is now deprecated in favor of reg:squarederror.\n",
            "[CV] END max_depth=6, min_samples_leaf=50, min_samples_split=150, n_estimators=80; total time=   0.2s\n",
            "[07:25:30] WARNING: /workspace/src/objective/regression_obj.cu:152: reg:linear is now deprecated in favor of reg:squarederror.\n",
            "[CV] END max_depth=6, min_samples_leaf=50, min_samples_split=150, n_estimators=80; total time=   0.3s\n",
            "[07:25:31] WARNING: /workspace/src/objective/regression_obj.cu:152: reg:linear is now deprecated in favor of reg:squarederror.\n"
          ]
        },
        {
          "output_type": "execute_result",
          "data": {
            "text/plain": [
              "RandomizedSearchCV(cv=5, estimator=XGBRegressor(),\n",
              "                   param_distributions={'max_depth': [4, 6, 8],\n",
              "                                        'min_samples_leaf': [30, 40, 50],\n",
              "                                        'min_samples_split': [50, 100, 150],\n",
              "                                        'n_estimators': [30, 50, 80, 100]},\n",
              "                   verbose=2)"
            ]
          },
          "metadata": {},
          "execution_count": 237
        }
      ]
    },
    {
      "cell_type": "code",
      "source": [
        "# Let's see which set of hyperparameters are optimal\n",
        "\n",
        "xgb_optimal_model = xgb_random.best_estimator_\n",
        "xgb_optimal_model\n"
      ],
      "metadata": {
        "colab": {
          "base_uri": "https://localhost:8080/"
        },
        "id": "bq3vMhAbv1pt",
        "outputId": "b4c2ddfe-c758-49de-958a-9d7f41725fd9"
      },
      "execution_count": 238,
      "outputs": [
        {
          "output_type": "execute_result",
          "data": {
            "text/plain": [
              "XGBRegressor(max_depth=4, min_samples_leaf=40, min_samples_split=150,\n",
              "             n_estimators=30)"
            ]
          },
          "metadata": {},
          "execution_count": 238
        }
      ]
    },
    {
      "cell_type": "code",
      "source": [
        "# Making predictions for test data and also calculating r2_score.\n",
        "\n",
        "y_hat = xgb_optimal_model.predict(X_test)\n",
        "print(f'r_sqr value for train: {xgb_optimal_model.score(X_train, y_train)}')\n",
        "r_squared= r2_score(y_test,y_hat)\n",
        "\n",
        "# Calculating Adjusted R-sqaured\n",
        "\n",
        "adjusted_r_squared = 1 - (1-r_squared)*(len(y)-1)/(len(y)-X.shape[1]-1)\n",
        "print(f'For test set the R_Squared for XGBoost is {r_squared} and adjusted R_Squared is {adjusted_r_squared}')\n"
      ],
      "metadata": {
        "colab": {
          "base_uri": "https://localhost:8080/"
        },
        "id": "cZ3xvubswTdM",
        "outputId": "ef8bfd87-10f1-4fe3-9703-b7a61656e8b9"
      },
      "execution_count": 239,
      "outputs": [
        {
          "output_type": "stream",
          "name": "stdout",
          "text": [
            "r_sqr value for train: 0.9061205900105309\n",
            "For test set the R_Squared for XGBoost is 0.8516855209260137 and adjusted R_Squared is 0.8513885950419817\n"
          ]
        }
      ]
    },
    {
      "cell_type": "code",
      "source": [
        "# Let's calculating MAE for training and test set.\n",
        "\n",
        "y_pred = xgb_optimal_model.predict(X_train)\n",
        "y_test_pred = xgb_optimal_model.predict(X_test)\n",
        "print('Training MAE: {:0.2f}'.format(metrics.mean_absolute_error(y_train, y_pred)))\n",
        "print('Test MAE: {:0.2f}'.format(metrics.mean_absolute_error(y_test, y_test_pred)))"
      ],
      "metadata": {
        "colab": {
          "base_uri": "https://localhost:8080/"
        },
        "id": "pky1GliqwXlD",
        "outputId": "b496dca0-e81d-41e8-9851-7b33b1474fe7"
      },
      "execution_count": 240,
      "outputs": [
        {
          "output_type": "stream",
          "name": "stdout",
          "text": [
            "Training MAE: 377398.59\n",
            "Test MAE: 494585.16\n"
          ]
        }
      ]
    },
    {
      "cell_type": "code",
      "source": [
        "# Barplot to show important features.\n",
        "\n",
        "importances = pd.DataFrame({'Features': X.columns, \n",
        "                                'Importances': xgb_optimal_model.feature_importances_})\n",
        "    \n",
        "importances.sort_values(by=['Importances'], axis='index', ascending=False, inplace=True)\n",
        "fig = plt.figure(figsize=(12, 6))\n",
        "sns.barplot(x='Features', y='Importances', data=importances)\n",
        "plt.xticks(rotation='vertical')\n",
        "plt.show()"
      ],
      "metadata": {
        "colab": {
          "base_uri": "https://localhost:8080/",
          "height": 492
        },
        "id": "GHidFUzcwbeW",
        "outputId": "21ac5383-80d7-45c7-92d9-6c6778f6b04d"
      },
      "execution_count": 241,
      "outputs": [
        {
          "output_type": "display_data",
          "data": {
            "text/plain": [
              "<Figure size 864x432 with 1 Axes>"
            ],
            "image/png": "[encoded data removed]"
          },
          "metadata": {
            "needs_background": "light"
          }
        }
      ]
    },
    {
      "cell_type": "markdown",
      "source": [
        "# ExtraTrees Regressor."
      ],
      "metadata": {
        "id": "c4UavYxoyJn3"
      }
    },
    {
      "cell_type": "code",
      "source": [
        "# Importing library.\n",
        "\n",
        "from sklearn.ensemble import ExtraTreesRegressor"
      ],
      "metadata": {
        "id": "Dth2DSXbwewt"
      },
      "execution_count": 242,
      "outputs": []
    },
    {
      "cell_type": "code",
      "source": [
        "#Extra Trees Regressor hyperparameters tuning\n",
        "\n",
        "# Number of trees\n",
        "n_estimators = [50,80,100]\n",
        "\n",
        "# Maximum depth of trees\n",
        "max_depth = [4,6,8]\n",
        "\n",
        "# Minimum number of samples required to split a node\n",
        "min_samples_split = [50,100,150]\n",
        "\n",
        "# Minimum number of samples required at each leaf node\n",
        "min_samples_leaf = [40,50]\n",
        "\n",
        "# HYperparameter Dict\n",
        "param_dict = {'n_estimators' : n_estimators,\n",
        "              'max_depth' : max_depth,\n",
        "              'min_samples_split' : min_samples_split,\n",
        "              'min_samples_leaf' : min_samples_leaf}"
      ],
      "metadata": {
        "id": "c1IMEhhewiec"
      },
      "execution_count": 243,
      "outputs": []
    },
    {
      "cell_type": "code",
      "source": [
        "# Creating an instance of the Extratrees regressor\n",
        "et_model = ExtraTreesRegressor()\n",
        "\n",
        "#RandomSearch\n",
        "et_random = RandomizedSearchCV(et_model,param_dict,verbose=2,cv=5)\n",
        "et_random.fit(X_train,y_train)"
      ],
      "metadata": {
        "colab": {
          "base_uri": "https://localhost:8080/"
        },
        "id": "GSJkAEvPwloc",
        "outputId": "4ff604d4-3b0a-4f23-ce8a-ed4a770d4f39"
      },
      "execution_count": 244,
      "outputs": [
        {
          "output_type": "stream",
          "name": "stdout",
          "text": [
            "Fitting 5 folds for each of 10 candidates, totalling 50 fits\n",
            "[CV] END max_depth=6, min_samples_leaf=40, min_samples_split=150, n_estimators=80; total time=   0.1s\n",
            "[CV] END max_depth=6, min_samples_leaf=40, min_samples_split=150, n_estimators=80; total time=   0.1s\n",
            "[CV] END max_depth=6, min_samples_leaf=40, min_samples_split=150, n_estimators=80; total time=   0.1s\n",
            "[CV] END max_depth=6, min_samples_leaf=40, min_samples_split=150, n_estimators=80; total time=   0.1s\n",
            "[CV] END max_depth=6, min_samples_leaf=40, min_samples_split=150, n_estimators=80; total time=   0.1s\n",
            "[CV] END max_depth=8, min_samples_leaf=40, min_samples_split=150, n_estimators=80; total time=   0.1s\n",
            "[CV] END max_depth=8, min_samples_leaf=40, min_samples_split=150, n_estimators=80; total time=   0.2s\n",
            "[CV] END max_depth=8, min_samples_leaf=40, min_samples_split=150, n_estimators=80; total time=   0.2s\n",
            "[CV] END max_depth=8, min_samples_leaf=40, min_samples_split=150, n_estimators=80; total time=   0.2s\n",
            "[CV] END max_depth=8, min_samples_leaf=40, min_samples_split=150, n_estimators=80; total time=   0.2s\n",
            "[CV] END max_depth=8, min_samples_leaf=50, min_samples_split=150, n_estimators=100; total time=   0.2s\n",
            "[CV] END max_depth=8, min_samples_leaf=50, min_samples_split=150, n_estimators=100; total time=   0.2s\n",
            "[CV] END max_depth=8, min_samples_leaf=50, min_samples_split=150, n_estimators=100; total time=   0.2s\n",
            "[CV] END max_depth=8, min_samples_leaf=50, min_samples_split=150, n_estimators=100; total time=   0.2s\n",
            "[CV] END max_depth=8, min_samples_leaf=50, min_samples_split=150, n_estimators=100; total time=   0.2s\n",
            "[CV] END max_depth=4, min_samples_leaf=40, min_samples_split=100, n_estimators=80; total time=   0.1s\n",
            "[CV] END max_depth=4, min_samples_leaf=40, min_samples_split=100, n_estimators=80; total time=   0.1s\n",
            "[CV] END max_depth=4, min_samples_leaf=40, min_samples_split=100, n_estimators=80; total time=   0.1s\n",
            "[CV] END max_depth=4, min_samples_leaf=40, min_samples_split=100, n_estimators=80; total time=   0.1s\n",
            "[CV] END max_depth=4, min_samples_leaf=40, min_samples_split=100, n_estimators=80; total time=   0.1s\n",
            "[CV] END max_depth=6, min_samples_leaf=50, min_samples_split=150, n_estimators=100; total time=   0.2s\n",
            "[CV] END max_depth=6, min_samples_leaf=50, min_samples_split=150, n_estimators=100; total time=   0.2s\n",
            "[CV] END max_depth=6, min_samples_leaf=50, min_samples_split=150, n_estimators=100; total time=   0.2s\n",
            "[CV] END max_depth=6, min_samples_leaf=50, min_samples_split=150, n_estimators=100; total time=   0.2s\n",
            "[CV] END max_depth=6, min_samples_leaf=50, min_samples_split=150, n_estimators=100; total time=   0.2s\n",
            "[CV] END max_depth=8, min_samples_leaf=40, min_samples_split=100, n_estimators=100; total time=   0.2s\n",
            "[CV] END max_depth=8, min_samples_leaf=40, min_samples_split=100, n_estimators=100; total time=   0.2s\n",
            "[CV] END max_depth=8, min_samples_leaf=40, min_samples_split=100, n_estimators=100; total time=   0.2s\n",
            "[CV] END max_depth=8, min_samples_leaf=40, min_samples_split=100, n_estimators=100; total time=   0.2s\n",
            "[CV] END max_depth=8, min_samples_leaf=40, min_samples_split=100, n_estimators=100; total time=   0.2s\n",
            "[CV] END max_depth=8, min_samples_leaf=40, min_samples_split=100, n_estimators=50; total time=   0.1s\n",
            "[CV] END max_depth=8, min_samples_leaf=40, min_samples_split=100, n_estimators=50; total time=   0.1s\n",
            "[CV] END max_depth=8, min_samples_leaf=40, min_samples_split=100, n_estimators=50; total time=   0.1s\n",
            "[CV] END max_depth=8, min_samples_leaf=40, min_samples_split=100, n_estimators=50; total time=   0.1s\n",
            "[CV] END max_depth=8, min_samples_leaf=40, min_samples_split=100, n_estimators=50; total time=   0.1s\n",
            "[CV] END max_depth=6, min_samples_leaf=40, min_samples_split=100, n_estimators=50; total time=   0.1s\n",
            "[CV] END max_depth=6, min_samples_leaf=40, min_samples_split=100, n_estimators=50; total time=   0.1s\n",
            "[CV] END max_depth=6, min_samples_leaf=40, min_samples_split=100, n_estimators=50; total time=   0.1s\n",
            "[CV] END max_depth=6, min_samples_leaf=40, min_samples_split=100, n_estimators=50; total time=   0.1s\n",
            "[CV] END max_depth=6, min_samples_leaf=40, min_samples_split=100, n_estimators=50; total time=   0.1s\n",
            "[CV] END max_depth=8, min_samples_leaf=40, min_samples_split=150, n_estimators=100; total time=   0.2s\n",
            "[CV] END max_depth=8, min_samples_leaf=40, min_samples_split=150, n_estimators=100; total time=   0.2s\n",
            "[CV] END max_depth=8, min_samples_leaf=40, min_samples_split=150, n_estimators=100; total time=   0.2s\n",
            "[CV] END max_depth=8, min_samples_leaf=40, min_samples_split=150, n_estimators=100; total time=   0.2s\n",
            "[CV] END max_depth=8, min_samples_leaf=40, min_samples_split=150, n_estimators=100; total time=   0.2s\n",
            "[CV] END max_depth=8, min_samples_leaf=40, min_samples_split=100, n_estimators=80; total time=   0.2s\n",
            "[CV] END max_depth=8, min_samples_leaf=40, min_samples_split=100, n_estimators=80; total time=   0.2s\n",
            "[CV] END max_depth=8, min_samples_leaf=40, min_samples_split=100, n_estimators=80; total time=   0.2s\n",
            "[CV] END max_depth=8, min_samples_leaf=40, min_samples_split=100, n_estimators=80; total time=   0.2s\n",
            "[CV] END max_depth=8, min_samples_leaf=40, min_samples_split=100, n_estimators=80; total time=   0.2s\n"
          ]
        },
        {
          "output_type": "execute_result",
          "data": {
            "text/plain": [
              "RandomizedSearchCV(cv=5, estimator=ExtraTreesRegressor(),\n",
              "                   param_distributions={'max_depth': [4, 6, 8],\n",
              "                                        'min_samples_leaf': [40, 50],\n",
              "                                        'min_samples_split': [50, 100, 150],\n",
              "                                        'n_estimators': [50, 80, 100]},\n",
              "                   verbose=2)"
            ]
          },
          "metadata": {},
          "execution_count": 244
        }
      ]
    },
    {
      "cell_type": "code",
      "source": [
        "# Let's see optimal set of hyperparameters for this model.\n",
        "\n",
        "et_optimal_model = et_random.best_estimator_\n",
        "et_optimal_model"
      ],
      "metadata": {
        "colab": {
          "base_uri": "https://localhost:8080/"
        },
        "id": "lX0cbzAtwoHp",
        "outputId": "fc751021-8a10-49cd-d8dc-28a0789007a9"
      },
      "execution_count": 245,
      "outputs": [
        {
          "output_type": "execute_result",
          "data": {
            "text/plain": [
              "ExtraTreesRegressor(max_depth=8, min_samples_leaf=40, min_samples_split=100,\n",
              "                    n_estimators=50)"
            ]
          },
          "metadata": {},
          "execution_count": 245
        }
      ]
    },
    {
      "cell_type": "code",
      "source": [
        "# Calculating MAE for training and test set\n",
        "\n",
        "y_pred = et_optimal_model.predict(X_train)\n",
        "y_test_pred = et_optimal_model.predict(X_test)\n",
        "print('Training MAE: {:0.2f}'.format(metrics.mean_absolute_error(y_train, y_pred)))\n",
        "print('Test MAE: {:0.2f}'.format(metrics.mean_absolute_error(y_test, y_test_pred)))"
      ],
      "metadata": {
        "colab": {
          "base_uri": "https://localhost:8080/"
        },
        "id": "StT4g_VKwrgm",
        "outputId": "dafafe4f-ac28-416e-9541-e3268ffa7335"
      },
      "execution_count": 246,
      "outputs": [
        {
          "output_type": "stream",
          "name": "stdout",
          "text": [
            "Training MAE: 654501.98\n",
            "Test MAE: 729169.04\n"
          ]
        }
      ]
    },
    {
      "cell_type": "code",
      "source": [
        "# Making predictions for test data and also calculating r2_score\n",
        "\n",
        "y_hat = et_optimal_model.predict(X_test)\n",
        "print(f'r_sqr value for train: {rf_optimal_model.score(X_train, y_train)}')\n",
        "r_squared= r2_score(y_test,y_hat)\n",
        "\n",
        "#Calculate Adjusted R-sqaured\n",
        "\n",
        "adjusted_r_squared = 1 - (1-r_squared)*(len(y)-1)/(len(y)-X.shape[1]-1)\n",
        "print(f'For test the R_Squared for ExtraTreesRegressor is {r_squared} and adjusted R_Squared is {adjusted_r_squared}')"
      ],
      "metadata": {
        "colab": {
          "base_uri": "https://localhost:8080/"
        },
        "id": "TUsC0XCRwuXN",
        "outputId": "659f2bdd-1c5a-4fe7-8ca8-e12cf58b4928"
      },
      "execution_count": 247,
      "outputs": [
        {
          "output_type": "stream",
          "name": "stdout",
          "text": [
            "r_sqr value for train: 0.6087986170097264\n",
            "For test the R_Squared for ExtraTreesRegressor is 0.5131200599029043 and adjusted R_Squared is 0.5121453252880953\n"
          ]
        }
      ]
    },
    {
      "cell_type": "code",
      "source": [
        "# Barplot to show important features w.r.t. ExtraTreesRegressor model\n",
        "\n",
        "importances = pd.DataFrame({'Features': X.columns, \n",
        "                                'Importances': et_optimal_model.feature_importances_})\n",
        "    \n",
        "importances.sort_values(by=['Importances'], axis='index', ascending=False, inplace=True)\n",
        "fig = plt.figure(figsize=(12, 6))\n",
        "sns.barplot(x='Features', y='Importances', data=importances)\n",
        "plt.xticks(rotation='vertical')\n",
        "plt.show()"
      ],
      "metadata": {
        "colab": {
          "base_uri": "https://localhost:8080/",
          "height": 492
        },
        "id": "lN6CgUj_wxiz",
        "outputId": "1d79e212-89aa-4827-d450-b185b3cb2698"
      },
      "execution_count": 248,
      "outputs": [
        {
          "output_type": "display_data",
          "data": {
            "text/plain": [
              "<Figure size 864x432 with 1 Axes>"
            ],
            "image/png": "[encoded data removed]"
          },
          "metadata": {
            "needs_background": "light"
          }
        }
      ]
    },
    {
      "cell_type": "markdown",
      "source": [
        "In all the models speaker_1_avg_views is impacting the much."
      ],
      "metadata": {
        "id": "I7w7oQ-Ix94B"
      }
    },
    {
      "cell_type": "code",
      "source": [
        "# Importing necessary libraries\n",
        "\n",
        "from sklearn.linear_model import Ridge,Lasso\n",
        "from sklearn import neighbors\n",
        "import xgboost as xgb"
      ],
      "metadata": {
        "id": "4w3CGaLpw0v5"
      },
      "execution_count": 249,
      "outputs": []
    },
    {
      "cell_type": "code",
      "source": [
        "# Instantiating all these models\n",
        "\n",
        "models = [\n",
        "           ['RandomForest ',RandomForestRegressor(criterion='mae',max_depth=15, max_features=5, n_estimators=120, min_samples_leaf=2, min_samples_split=2,\n",
        "                           random_state=2019)],\n",
        "           ['ExtraTreeRegressor :',ExtraTreesRegressor(criterion='mae', max_depth=30, n_estimators=200, random_state=2019, min_samples_leaf=2, min_samples_split=6)],\n",
        "           ['Lasso: ', Lasso()],\n",
        "           ['Ridge: ', Ridge()] ,\n",
        "           ['KNeighborsRegressor: ',  neighbors.KNeighborsRegressor()],  \n",
        "           ['XGBRegressor: ', xgb.XGBRegressor()]         \n",
        "         ]"
      ],
      "metadata": {
        "id": "jWUqwMjmw6WU"
      },
      "execution_count": 250,
      "outputs": []
    },
    {
      "cell_type": "code",
      "source": [
        "# Fitting the models\n",
        "\n",
        "data_model = []\n",
        "for name,curr_model in models :\n",
        "    curr_model_data = {}\n",
        "    curr_model.random_state = 78\n",
        "    curr_model_data[\"Name\"] = name\n",
        "    curr_model.fit(X_train,y_train)\n",
        "    curr_model_data[\"Train_MAE\"] =metrics.mean_absolute_error(y_train, curr_model.predict(X_train))\n",
        "    curr_model_data[\"Test_MAE\"] =metrics.mean_absolute_error(y_test, curr_model.predict(X_test))\n",
        "    curr_model_data[\"Train_R2_Score\"] = r2_score(y_train,curr_model.predict(X_train))\n",
        "    curr_model_data[\"Test_R2_Score\"] = r2_score(y_test,curr_model.predict(X_test))\n",
        "    curr_model_data[\"Test_RMSE_Score\"] = np.sqrt(mean_squared_error(y_test,curr_model.predict(X_test)))\n",
        "    data_model.append(curr_model_data)"
      ],
      "metadata": {
        "colab": {
          "base_uri": "https://localhost:8080/"
        },
        "id": "eBGsv-Shw85s",
        "outputId": "e1ad5b1f-e0d5-4536-c53c-e62a243667e6"
      },
      "execution_count": 251,
      "outputs": [
        {
          "output_type": "stream",
          "name": "stdout",
          "text": [
            "[07:26:58] WARNING: /workspace/src/objective/regression_obj.cu:152: reg:linear is now deprecated in favor of reg:squarederror.\n"
          ]
        }
      ]
    },
    {
      "cell_type": "code",
      "source": [
        "results_df=pd.DataFrame(data_model)\n",
        "results_df"
      ],
      "metadata": {
        "colab": {
          "base_uri": "https://localhost:8080/",
          "height": 237
        },
        "id": "gV-VBf8Sw__I",
        "outputId": "ac683a1b-e04b-4aa2-918b-75d6b738fc09"
      },
      "execution_count": 252,
      "outputs": [
        {
          "output_type": "execute_result",
          "data": {
            "text/plain": [
              "                    Name      Train_MAE       Test_MAE  Train_R2_Score  \\\n",
              "0          RandomForest   282087.731171  469949.267046        0.884619   \n",
              "1   ExtraTreeRegressor :  245395.346980  434643.849928        0.891991   \n",
              "2                Lasso:   540957.486236  514708.464519        0.770820   \n",
              "3                Ridge:   541025.182348  514716.612075        0.770819   \n",
              "4  KNeighborsRegressor:   620646.178901  790490.228464        0.780348   \n",
              "5         XGBRegressor:   349991.624969  456430.496452        0.927110   \n",
              "\n",
              "   Test_R2_Score  Test_RMSE_Score  \n",
              "0       0.845440     1.482595e+06  \n",
              "1       0.846274     1.478591e+06  \n",
              "2       0.887876     1.262768e+06  \n",
              "3       0.887861     1.262852e+06  \n",
              "4       0.798349     1.693457e+06  \n",
              "5       0.885428     1.276481e+06  "
            ],
            "text/html": [
              "\n",
              "  <div id=\"df-36d5445d-8b99-48eb-aa20-903d250475e1\">\n",
              "    <div class=\"colab-df-container\">\n",
              "      <div>\n",
              "<style scoped>\n",
              "    .dataframe tbody tr th:only-of-type {\n",
              "        vertical-align: middle;\n",
              "    }\n",
              "\n",
              "    .dataframe tbody tr th {\n",
              "        vertical-align: top;\n",
              "    }\n",
              "\n",
              "    .dataframe thead th {\n",
              "        text-align: right;\n",
              "    }\n",
              "</style>\n",
              "<table border=\"1\" class=\"dataframe\">\n",
              "  <thead>\n",
              "    <tr style=\"text-align: right;\">\n",
              "      <th></th>\n",
              "      <th>Name</th>\n",
              "      <th>Train_MAE</th>\n",
              "      <th>Test_MAE</th>\n",
              "      <th>Train_R2_Score</th>\n",
              "      <th>Test_R2_Score</th>\n",
              "      <th>Test_RMSE_Score</th>\n",
              "    </tr>\n",
              "  </thead>\n",
              "  <tbody>\n",
              "    <tr>\n",
              "      <th>0</th>\n",
              "      <td>RandomForest</td>\n",
              "      <td>282087.731171</td>\n",
              "      <td>469949.267046</td>\n",
              "      <td>0.884619</td>\n",
              "      <td>0.845440</td>\n",
              "      <td>1.482595e+06</td>\n",
              "    </tr>\n",
              "    <tr>\n",
              "      <th>1</th>\n",
              "      <td>ExtraTreeRegressor :</td>\n",
              "      <td>245395.346980</td>\n",
              "      <td>434643.849928</td>\n",
              "      <td>0.891991</td>\n",
              "      <td>0.846274</td>\n",
              "      <td>1.478591e+06</td>\n",
              "    </tr>\n",
              "    <tr>\n",
              "      <th>2</th>\n",
              "      <td>Lasso:</td>\n",
              "      <td>540957.486236</td>\n",
              "      <td>514708.464519</td>\n",
              "      <td>0.770820</td>\n",
              "      <td>0.887876</td>\n",
              "      <td>1.262768e+06</td>\n",
              "    </tr>\n",
              "    <tr>\n",
              "      <th>3</th>\n",
              "      <td>Ridge:</td>\n",
              "      <td>541025.182348</td>\n",
              "      <td>514716.612075</td>\n",
              "      <td>0.770819</td>\n",
              "      <td>0.887861</td>\n",
              "      <td>1.262852e+06</td>\n",
              "    </tr>\n",
              "    <tr>\n",
              "      <th>4</th>\n",
              "      <td>KNeighborsRegressor:</td>\n",
              "      <td>620646.178901</td>\n",
              "      <td>790490.228464</td>\n",
              "      <td>0.780348</td>\n",
              "      <td>0.798349</td>\n",
              "      <td>1.693457e+06</td>\n",
              "    </tr>\n",
              "    <tr>\n",
              "      <th>5</th>\n",
              "      <td>XGBRegressor:</td>\n",
              "      <td>349991.624969</td>\n",
              "      <td>456430.496452</td>\n",
              "      <td>0.927110</td>\n",
              "      <td>0.885428</td>\n",
              "      <td>1.276481e+06</td>\n",
              "    </tr>\n",
              "  </tbody>\n",
              "</table>\n",
              "</div>\n",
              "      <button class=\"colab-df-convert\" onclick=\"convertToInteractive('df-36d5445d-8b99-48eb-aa20-903d250475e1')\"\n",
              "              title=\"Convert this dataframe to an interactive table.\"\n",
              "              style=\"display:none;\">\n",
              "        \n",
              "  <svg xmlns=\"http://www.w3.org/2000/svg\" height=\"24px\"viewBox=\"0 0 24 24\"\n",
              "       width=\"24px\">\n",
              "    <path d=\"M0 0h24v24H0V0z\" fill=\"none\"/>\n",
              "    <path d=\"M18.56 5.44l.94 2.06.94-2.06 2.06-.94-2.06-.94-.94-2.06-.94 2.06-2.06.94zm-11 1L8.5 8.5l.94-2.06 2.06-.94-2.06-.94L8.5 2.5l-.94 2.06-2.06.94zm10 10l.94 2.06.94-2.06 2.06-.94-2.06-.94-.94-2.06-.94 2.06-2.06.94z\"/><path d=\"M17.41 7.96l-1.37-1.37c-.4-.4-.92-.59-1.43-.59-.52 0-1.04.2-1.43.59L10.3 9.45l-7.72 7.72c-.78.78-.78 2.05 0 2.83L4 21.41c.39.39.9.59 1.41.59.51 0 1.02-.2 1.41-.59l7.78-7.78 2.81-2.81c.8-.78.8-2.07 0-2.86zM5.41 20L4 18.59l7.72-7.72 1.47 1.35L5.41 20z\"/>\n",
              "  </svg>\n",
              "      </button>\n",
              "      \n",
              "  <style>\n",
              "    .colab-df-container {\n",
              "      display:flex;\n",
              "      flex-wrap:wrap;\n",
              "      gap: 12px;\n",
              "    }\n",
              "\n",
              "    .colab-df-convert {\n",
              "      background-color: #E8F0FE;\n",
              "      border: none;\n",
              "      border-radius: 50%;\n",
              "      cursor: pointer;\n",
              "      display: none;\n",
              "      fill: #1967D2;\n",
              "      height: 32px;\n",
              "      padding: 0 0 0 0;\n",
              "      width: 32px;\n",
              "    }\n",
              "\n",
              "    .colab-df-convert:hover {\n",
              "      background-color: #E2EBFA;\n",
              "      box-shadow: 0px 1px 2px rgba(60, 64, 67, 0.3), 0px 1px 3px 1px rgba(60, 64, 67, 0.15);\n",
              "      fill: #174EA6;\n",
              "    }\n",
              "\n",
              "    [theme=dark] .colab-df-convert {\n",
              "      background-color: #3B4455;\n",
              "      fill: #D2E3FC;\n",
              "    }\n",
              "\n",
              "    [theme=dark] .colab-df-convert:hover {\n",
              "      background-color: #434B5C;\n",
              "      box-shadow: 0px 1px 3px 1px rgba(0, 0, 0, 0.15);\n",
              "      filter: drop-shadow(0px 1px 2px rgba(0, 0, 0, 0.3));\n",
              "      fill: #FFFFFF;\n",
              "    }\n",
              "  </style>\n",
              "\n",
              "      <script>\n",
              "        const buttonEl =\n",
              "          document.querySelector('#df-36d5445d-8b99-48eb-aa20-903d250475e1 button.colab-df-convert');\n",
              "        buttonEl.style.display =\n",
              "          google.colab.kernel.accessAllowed ? 'block' : 'none';\n",
              "\n",
              "        async function convertToInteractive(key) {\n",
              "          const element = document.querySelector('#df-36d5445d-8b99-48eb-aa20-903d250475e1');\n",
              "          const dataTable =\n",
              "            await google.colab.kernel.invokeFunction('convertToInteractive',\n",
              "                                                     [key], {});\n",
              "          if (!dataTable) return;\n",
              "\n",
              "          const docLinkHtml = 'Like what you see? Visit the ' +\n",
              "            '<a target=\"_blank\" href=https://colab.research.google.com/notebooks/data_table.ipynb>data table notebook</a>'\n",
              "            + ' to learn more about interactive tables.';\n",
              "          element.innerHTML = '';\n",
              "          dataTable['output_type'] = 'display_data';\n",
              "          await google.colab.output.renderOutput(dataTable, element);\n",
              "          const docLink = document.createElement('div');\n",
              "          docLink.innerHTML = docLinkHtml;\n",
              "          element.appendChild(docLink);\n",
              "        }\n",
              "      </script>\n",
              "    </div>\n",
              "  </div>\n",
              "  "
            ]
          },
          "metadata": {},
          "execution_count": 252
        }
      ]
    },
    {
      "cell_type": "markdown",
      "source": [
        "# **Conclusion**\n",
        "* RandomForest gets overfitted on default parameters.\n",
        "*In all the features speaker_1_avg_views is most important.\n",
        "*ExtraTreeRegressor is the best performer in terms of MAE while KNeighborsResgressor is the worst performer.\n",
        "*Least viewed ted talks have words like war, Politics, worldcultures, goverment while the most viewed ted talks have words like psychology, work, technology, science, humour.\n",
        "*Majority of best ted talks are single speaker talks.\n",
        "*Month of publishing does not affect the popularity of talk."
      ],
      "metadata": {
        "id": "oi8ANoV2xmCM"
      }
    }
  ]
}